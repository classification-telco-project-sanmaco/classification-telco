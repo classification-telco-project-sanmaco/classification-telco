{
 "cells": [
  {
   "cell_type": "markdown",
   "metadata": {},
   "source": [
    "# Classification Project\n",
    "\n",
    "Why are our customers churning?\n",
    "\n",
    "Some questions I have include:\n",
    "\n",
    "- Could the month in which they signed up influence churn? i.e. if a cohort is identified by tenure, is there a cohort or cohorts who have a higher rate of churn than other cohorts? (Plot the rate of churn on a line chart where x is the tenure and y is the rate of churn (customers churned/total customers))\n",
    "- Are there features that indicate a higher propensity to churn? like type of internet service, type of phone service, online security and backup, senior citizens, paying more than x% of customers with the same services, etc.?\n",
    "- Is there a price threshold for specific services where the likelihood of churn increases once price for those services goes past that point? If so, what is that point for what service(s)?\n",
    "- If we looked at churn rate for month-to-month customers after the 12th month and that of 1-year contract customers after the 12th month, are those rates comparable?\n",
    "\n",
    "Deliverables:\n",
    "\n",
    "1. I will also need a report (ipynb) answering the question, \"Why are our customers churning?\" I want to see the analysis you did to answer my questions and lead to your findings. Please clearly call out the questions and answers you are analyzing. E.g. If you find that month-to-month customers churn more, I won't be surprised, but I am not getting rid of that plan. The fact that they churn is not because they can, it's because they can and they are motivated to do so. I want some insight into why they are motivated to do so. I realize you will not be able to do a full causal experiment, but I hope to see some solid evidence of your conclusions.\n",
    "\n",
    "2. I will need you to deliver to me a csv with the customer_id, probability of churn, and the prediction of churn (1=churn, 0=not_churn). I would also like a single google slide that illustrates how your model works, including the features being used, so that I can deliver this to the SLT (senior leadership team) when they come with questions about how these values were derived. Please make sure you include how likely your model is to give a high probability of churn when churn doesn't occur, to give a low probability of churn when churn occurs, and to accurately predict churn.\n",
    "\n",
    "3. Finally, our development team will need a .py file that will take in a new dataset, (in the exact same form of the one you acquired from telco_churn.customers) and perform all the transformations necessary to run the model you have developed on this new dataset to provide probabilities and predictions."
   ]
  },
  {
   "cell_type": "markdown",
   "metadata": {},
   "source": [
    "## Specification\n",
    "\n",
    "Detailed instructions for each section are below.\n",
    "\n",
    "In general, make sure you document your work. You don't need to explain what every line of code is doing, but you should explain what and why you are doing. For example, if you drop a feature from the dataset, you should explain why you decided to do so, or why that is a reasonable thing to do. If you transform the data in a column, you should explain why you are making that transformation.\n",
    "\n",
    "In addition, you should not present numbers in isolation. If your code outputs a number, be sure you give some context to the number.\n",
    "\n",
    "Specific Deliverables:\n",
    "\n",
    "- a jupyter notebook where your work takes place\n",
    "- a csv file that predicts churn for each customer\n",
    "a python script that prepares data such that it can be fed into your model\n",
    "- a google slide summarizing your model\n",
    "- a README.md file that contains a link to your google slides presentation, and instructions for how to use your python script(s)"
   ]
  },
  {
   "cell_type": "code",
   "execution_count": 1,
   "metadata": {},
   "outputs": [],
   "source": [
    "#import modules\n",
    "\n",
    "from sklearn.preprocessing import MinMaxScaler\n",
    "from sklearn.model_selection import train_test_split\n",
    "from sklearn.linear_model import LogisticRegression\n",
    "from sklearn.metrics import confusion_matrix\n",
    "from sklearn.metrics import classification_report\n",
    "from pydataset import data\n",
    "from sklearn.tree import DecisionTreeClassifier\n",
    "from sklearn import tree\n",
    "from sklearn.ensemble import RandomForestClassifier\n",
    "from sklearn.neighbors import KNeighborsClassifier\n",
    "from sklearn.metrics import precision_recall_fscore_support as pfs\n",
    "import sklearn.metrics as skm\n",
    "import graphviz\n",
    "from graphviz import Graph\n",
    "import warnings\n",
    "warnings.filterwarnings('ignore')\n",
    "import pandas as pd\n",
    "import numpy as np\n",
    "import seaborn as sns\n",
    "import math as m\n",
    "import statsmodels.api as sm\n",
    "import scipy.stats as stats\n",
    "import matplotlib.pyplot as plt\n",
    "%matplotlib inline\n",
    "import io\n",
    "import env"
   ]
  },
  {
   "cell_type": "code",
   "execution_count": 2,
   "metadata": {},
   "outputs": [],
   "source": [
    "def df_print_missing_vals(df):\n",
    "    # any missing values?\n",
    "    # prints the number of missing values \n",
    "    # only for columns with missing values\n",
    "    print(\"\\nMissing Values:\\n\")\n",
    "    null_counts = df.isnull().sum()\n",
    "    if len(null_counts[null_counts > 0]) == 0:\n",
    "        print(\"No missing values\")\n",
    "    else:\n",
    "        print(null_counts[null_counts > 0])\n",
    "\n",
    "\n",
    "def df_percent_missing_vals(df):\n",
    "    return (df.isnull().sum() / df.shape[0]) * 100\n",
    "\n",
    "def df_metadata(df) -> tuple:\n",
    "    \"\"\"\n",
    "    return a tuple of (size, shape, info)\n",
    "    \"\"\"\n",
    "    buffer = io.StringIO()\n",
    "    df.info(buf=buffer)\n",
    "    return (df.size, df.shape, buffer.getvalue())\n",
    "\n",
    "def df_print_metadata(df) -> None:\n",
    "    \"\"\"\n",
    "    print metadata of dataframe\n",
    "    \"\"\"\n",
    "    size, shape, info = df_metadata(df)\n",
    "    print(\"DATAFRAME METADATA\")\n",
    "    print(f\"Size: {size}\")\n",
    "    print()\n",
    "    print(f\"Shape: {shape[0]} x {shape[1]}\")\n",
    "    print()\n",
    "    print(\"Info:\")\n",
    "    print(info, end=\"\")\n",
    "    df_print_missing_vals(df)\n",
    "    print(\"Percentages of Missing Values are:\")\n",
    "    print(df_percent_missing_vals(df))\n",
    "    \n",
    "def df_print_r_and_p_values(X, y):\n",
    "    r_and_p_values = {col: stats.pearsonr(X[col], y) for col in X.columns}\n",
    "    print(\"PEARSON'S R\")\n",
    "    for k, v in r_and_p_values.items():\n",
    "        col = k\n",
    "        r, p = v\n",
    "        print(f\"{col}:\")\n",
    "        print(f\"\\tPearson's R is {r:.2f} \")\n",
    "        print(f\"\\twith a significance p-value of {p: .3}\\n\")"
   ]
  },
  {
   "cell_type": "markdown",
   "metadata": {},
   "source": [
    "### Acquisition\n",
    "1. Get the data from the customers table from the telco_churn database on the codeup data science database server.\n",
    "    - You may wish to join some tables as part of your query.\n",
    "    - This data should end up in a pandas data frame."
   ]
  },
  {
   "cell_type": "markdown",
   "metadata": {},
   "source": [
    "#### Importing the data directly from Mysql."
   ]
  },
  {
   "cell_type": "code",
   "execution_count": 3,
   "metadata": {},
   "outputs": [],
   "source": [
    "def get_connection(db, user=env.user, host=env.host, password=env.password):\n",
    "    return f'mysql+pymysql://{user}:{password}@{host}/{db}'"
   ]
  },
  {
   "cell_type": "code",
   "execution_count": 4,
   "metadata": {},
   "outputs": [
    {
     "data": {
      "text/html": [
       "<div>\n",
       "<style scoped>\n",
       "    .dataframe tbody tr th:only-of-type {\n",
       "        vertical-align: middle;\n",
       "    }\n",
       "\n",
       "    .dataframe tbody tr th {\n",
       "        vertical-align: top;\n",
       "    }\n",
       "\n",
       "    .dataframe thead th {\n",
       "        text-align: right;\n",
       "    }\n",
       "</style>\n",
       "<table border=\"1\" class=\"dataframe\">\n",
       "  <thead>\n",
       "    <tr style=\"text-align: right;\">\n",
       "      <th></th>\n",
       "      <th>customer_id</th>\n",
       "      <th>gender</th>\n",
       "      <th>senior_citizen</th>\n",
       "      <th>partner</th>\n",
       "      <th>dependents</th>\n",
       "      <th>tenure</th>\n",
       "      <th>phone_service</th>\n",
       "      <th>multiple_lines</th>\n",
       "      <th>internet_service_type_id</th>\n",
       "      <th>online_security</th>\n",
       "      <th>...</th>\n",
       "      <th>payment_type_id</th>\n",
       "      <th>monthly_charges</th>\n",
       "      <th>total_charges</th>\n",
       "      <th>churn</th>\n",
       "      <th>contract_type_id</th>\n",
       "      <th>contract_type</th>\n",
       "      <th>internet_service_type_id</th>\n",
       "      <th>internet_service_type</th>\n",
       "      <th>payment_type_id</th>\n",
       "      <th>payment_type</th>\n",
       "    </tr>\n",
       "  </thead>\n",
       "  <tbody>\n",
       "    <tr>\n",
       "      <th>0</th>\n",
       "      <td>0003-MKNFE</td>\n",
       "      <td>Male</td>\n",
       "      <td>0</td>\n",
       "      <td>No</td>\n",
       "      <td>No</td>\n",
       "      <td>9</td>\n",
       "      <td>Yes</td>\n",
       "      <td>Yes</td>\n",
       "      <td>1</td>\n",
       "      <td>No</td>\n",
       "      <td>...</td>\n",
       "      <td>2</td>\n",
       "      <td>59.9</td>\n",
       "      <td>542.4</td>\n",
       "      <td>No</td>\n",
       "      <td>1</td>\n",
       "      <td>Month-to-month</td>\n",
       "      <td>1</td>\n",
       "      <td>DSL</td>\n",
       "      <td>2</td>\n",
       "      <td>Mailed check</td>\n",
       "    </tr>\n",
       "    <tr>\n",
       "      <th>1</th>\n",
       "      <td>0013-MHZWF</td>\n",
       "      <td>Female</td>\n",
       "      <td>0</td>\n",
       "      <td>No</td>\n",
       "      <td>Yes</td>\n",
       "      <td>9</td>\n",
       "      <td>Yes</td>\n",
       "      <td>No</td>\n",
       "      <td>1</td>\n",
       "      <td>No</td>\n",
       "      <td>...</td>\n",
       "      <td>4</td>\n",
       "      <td>69.4</td>\n",
       "      <td>571.45</td>\n",
       "      <td>No</td>\n",
       "      <td>1</td>\n",
       "      <td>Month-to-month</td>\n",
       "      <td>1</td>\n",
       "      <td>DSL</td>\n",
       "      <td>4</td>\n",
       "      <td>Credit card (automatic)</td>\n",
       "    </tr>\n",
       "    <tr>\n",
       "      <th>2</th>\n",
       "      <td>0015-UOCOJ</td>\n",
       "      <td>Female</td>\n",
       "      <td>1</td>\n",
       "      <td>No</td>\n",
       "      <td>No</td>\n",
       "      <td>7</td>\n",
       "      <td>Yes</td>\n",
       "      <td>No</td>\n",
       "      <td>1</td>\n",
       "      <td>Yes</td>\n",
       "      <td>...</td>\n",
       "      <td>1</td>\n",
       "      <td>48.2</td>\n",
       "      <td>340.35</td>\n",
       "      <td>No</td>\n",
       "      <td>1</td>\n",
       "      <td>Month-to-month</td>\n",
       "      <td>1</td>\n",
       "      <td>DSL</td>\n",
       "      <td>1</td>\n",
       "      <td>Electronic check</td>\n",
       "    </tr>\n",
       "    <tr>\n",
       "      <th>3</th>\n",
       "      <td>0023-HGHWL</td>\n",
       "      <td>Male</td>\n",
       "      <td>1</td>\n",
       "      <td>No</td>\n",
       "      <td>No</td>\n",
       "      <td>1</td>\n",
       "      <td>No</td>\n",
       "      <td>No phone service</td>\n",
       "      <td>1</td>\n",
       "      <td>No</td>\n",
       "      <td>...</td>\n",
       "      <td>1</td>\n",
       "      <td>25.1</td>\n",
       "      <td>25.1</td>\n",
       "      <td>Yes</td>\n",
       "      <td>1</td>\n",
       "      <td>Month-to-month</td>\n",
       "      <td>1</td>\n",
       "      <td>DSL</td>\n",
       "      <td>1</td>\n",
       "      <td>Electronic check</td>\n",
       "    </tr>\n",
       "    <tr>\n",
       "      <th>4</th>\n",
       "      <td>0032-PGELS</td>\n",
       "      <td>Female</td>\n",
       "      <td>0</td>\n",
       "      <td>Yes</td>\n",
       "      <td>Yes</td>\n",
       "      <td>1</td>\n",
       "      <td>No</td>\n",
       "      <td>No phone service</td>\n",
       "      <td>1</td>\n",
       "      <td>Yes</td>\n",
       "      <td>...</td>\n",
       "      <td>3</td>\n",
       "      <td>30.5</td>\n",
       "      <td>30.5</td>\n",
       "      <td>Yes</td>\n",
       "      <td>1</td>\n",
       "      <td>Month-to-month</td>\n",
       "      <td>1</td>\n",
       "      <td>DSL</td>\n",
       "      <td>3</td>\n",
       "      <td>Bank transfer (automatic)</td>\n",
       "    </tr>\n",
       "  </tbody>\n",
       "</table>\n",
       "<p>5 rows × 27 columns</p>\n",
       "</div>"
      ],
      "text/plain": [
       "  customer_id  gender  senior_citizen partner dependents  tenure  \\\n",
       "0  0003-MKNFE    Male               0      No         No       9   \n",
       "1  0013-MHZWF  Female               0      No        Yes       9   \n",
       "2  0015-UOCOJ  Female               1      No         No       7   \n",
       "3  0023-HGHWL    Male               1      No         No       1   \n",
       "4  0032-PGELS  Female               0     Yes        Yes       1   \n",
       "\n",
       "  phone_service    multiple_lines internet_service_type_id online_security  \\\n",
       "0           Yes               Yes                        1              No   \n",
       "1           Yes                No                        1              No   \n",
       "2           Yes                No                        1             Yes   \n",
       "3            No  No phone service                        1              No   \n",
       "4            No  No phone service                        1             Yes   \n",
       "\n",
       "             ...              payment_type_id monthly_charges total_charges  \\\n",
       "0            ...                            2            59.9         542.4   \n",
       "1            ...                            4            69.4        571.45   \n",
       "2            ...                            1            48.2        340.35   \n",
       "3            ...                            1            25.1          25.1   \n",
       "4            ...                            3            30.5          30.5   \n",
       "\n",
       "  churn contract_type_id   contract_type internet_service_type_id  \\\n",
       "0    No                1  Month-to-month                        1   \n",
       "1    No                1  Month-to-month                        1   \n",
       "2    No                1  Month-to-month                        1   \n",
       "3   Yes                1  Month-to-month                        1   \n",
       "4   Yes                1  Month-to-month                        1   \n",
       "\n",
       "   internet_service_type  payment_type_id               payment_type  \n",
       "0                    DSL                2               Mailed check  \n",
       "1                    DSL                4    Credit card (automatic)  \n",
       "2                    DSL                1           Electronic check  \n",
       "3                    DSL                1           Electronic check  \n",
       "4                    DSL                3  Bank transfer (automatic)  \n",
       "\n",
       "[5 rows x 27 columns]"
      ]
     },
     "execution_count": 4,
     "metadata": {},
     "output_type": "execute_result"
    }
   ],
   "source": [
    "dbc = get_connection('telco_churn')\n",
    "telco_full = pd.read_sql('SELECT * FROM customers c JOIN contract_types ct\\\n",
    "                            ON c.contract_type_id = ct.contract_type_id JOIN internet_service_types it\\\n",
    "                            ON c.internet_service_type_id = it.internet_service_type_id JOIN payment_types pt\\\n",
    "                            ON c.payment_type_id = pt.payment_type_id', dbc)\n",
    "telco_full.head()"
   ]
  },
  {
   "cell_type": "markdown",
   "metadata": {},
   "source": [
    "#### Importing data from csv file"
   ]
  },
  {
   "cell_type": "code",
   "execution_count": 5,
   "metadata": {},
   "outputs": [
    {
     "data": {
      "text/plain": [
       "Index(['customer_id', 'gender', 'senior_citizen', 'partner', 'dependents',\n",
       "       'tenure', 'phone_service', 'multiple_lines', 'internet_service_type_id',\n",
       "       'online_security', 'online_backup', 'device_protection', 'tech_support',\n",
       "       'streaming_tv', 'streaming_movies', 'contract_type_id',\n",
       "       'paperless_billing', 'payment_type_id', 'monthly_charges',\n",
       "       'total_charges', 'churn', 'contract_type_id.1', 'contract_type',\n",
       "       'internet_service_type_id.1', 'internet_service_type',\n",
       "       'payment_type_id.1', 'payment_type'],\n",
       "      dtype='object')"
      ]
     },
     "execution_count": 5,
     "metadata": {},
     "output_type": "execute_result"
    }
   ],
   "source": [
    "df = pd.read_csv('telco_full_data.csv')\n",
    "df.columns"
   ]
  },
  {
   "cell_type": "code",
   "execution_count": 6,
   "metadata": {},
   "outputs": [
    {
     "data": {
      "text/html": [
       "<div>\n",
       "<style scoped>\n",
       "    .dataframe tbody tr th:only-of-type {\n",
       "        vertical-align: middle;\n",
       "    }\n",
       "\n",
       "    .dataframe tbody tr th {\n",
       "        vertical-align: top;\n",
       "    }\n",
       "\n",
       "    .dataframe thead th {\n",
       "        text-align: right;\n",
       "    }\n",
       "</style>\n",
       "<table border=\"1\" class=\"dataframe\">\n",
       "  <thead>\n",
       "    <tr style=\"text-align: right;\">\n",
       "      <th></th>\n",
       "      <th>customer_id</th>\n",
       "      <th>gender</th>\n",
       "      <th>senior_citizen</th>\n",
       "      <th>partner</th>\n",
       "      <th>dependents</th>\n",
       "      <th>tenure</th>\n",
       "      <th>phone_service</th>\n",
       "      <th>multiple_lines</th>\n",
       "      <th>internet_service_type_id</th>\n",
       "      <th>online_security</th>\n",
       "      <th>...</th>\n",
       "      <th>payment_type_id</th>\n",
       "      <th>monthly_charges</th>\n",
       "      <th>total_charges</th>\n",
       "      <th>churn</th>\n",
       "      <th>contract_type_id.1</th>\n",
       "      <th>contract_type</th>\n",
       "      <th>internet_service_type_id.1</th>\n",
       "      <th>internet_service_type</th>\n",
       "      <th>payment_type_id.1</th>\n",
       "      <th>payment_type</th>\n",
       "    </tr>\n",
       "  </thead>\n",
       "  <tbody>\n",
       "    <tr>\n",
       "      <th>0</th>\n",
       "      <td>0003-MKNFE</td>\n",
       "      <td>Male</td>\n",
       "      <td>0</td>\n",
       "      <td>No</td>\n",
       "      <td>No</td>\n",
       "      <td>9</td>\n",
       "      <td>Yes</td>\n",
       "      <td>Yes</td>\n",
       "      <td>1</td>\n",
       "      <td>No</td>\n",
       "      <td>...</td>\n",
       "      <td>2</td>\n",
       "      <td>59.9</td>\n",
       "      <td>542.4</td>\n",
       "      <td>No</td>\n",
       "      <td>1</td>\n",
       "      <td>Month-to-month</td>\n",
       "      <td>1</td>\n",
       "      <td>DSL</td>\n",
       "      <td>2</td>\n",
       "      <td>Mailed check</td>\n",
       "    </tr>\n",
       "    <tr>\n",
       "      <th>1</th>\n",
       "      <td>0013-MHZWF</td>\n",
       "      <td>Female</td>\n",
       "      <td>0</td>\n",
       "      <td>No</td>\n",
       "      <td>Yes</td>\n",
       "      <td>9</td>\n",
       "      <td>Yes</td>\n",
       "      <td>No</td>\n",
       "      <td>1</td>\n",
       "      <td>No</td>\n",
       "      <td>...</td>\n",
       "      <td>4</td>\n",
       "      <td>69.4</td>\n",
       "      <td>571.45</td>\n",
       "      <td>No</td>\n",
       "      <td>1</td>\n",
       "      <td>Month-to-month</td>\n",
       "      <td>1</td>\n",
       "      <td>DSL</td>\n",
       "      <td>4</td>\n",
       "      <td>Credit card (automatic)</td>\n",
       "    </tr>\n",
       "    <tr>\n",
       "      <th>2</th>\n",
       "      <td>0015-UOCOJ</td>\n",
       "      <td>Female</td>\n",
       "      <td>1</td>\n",
       "      <td>No</td>\n",
       "      <td>No</td>\n",
       "      <td>7</td>\n",
       "      <td>Yes</td>\n",
       "      <td>No</td>\n",
       "      <td>1</td>\n",
       "      <td>Yes</td>\n",
       "      <td>...</td>\n",
       "      <td>1</td>\n",
       "      <td>48.2</td>\n",
       "      <td>340.35</td>\n",
       "      <td>No</td>\n",
       "      <td>1</td>\n",
       "      <td>Month-to-month</td>\n",
       "      <td>1</td>\n",
       "      <td>DSL</td>\n",
       "      <td>1</td>\n",
       "      <td>Electronic check</td>\n",
       "    </tr>\n",
       "    <tr>\n",
       "      <th>3</th>\n",
       "      <td>0023-HGHWL</td>\n",
       "      <td>Male</td>\n",
       "      <td>1</td>\n",
       "      <td>No</td>\n",
       "      <td>No</td>\n",
       "      <td>1</td>\n",
       "      <td>No</td>\n",
       "      <td>No phone service</td>\n",
       "      <td>1</td>\n",
       "      <td>No</td>\n",
       "      <td>...</td>\n",
       "      <td>1</td>\n",
       "      <td>25.1</td>\n",
       "      <td>25.1</td>\n",
       "      <td>Yes</td>\n",
       "      <td>1</td>\n",
       "      <td>Month-to-month</td>\n",
       "      <td>1</td>\n",
       "      <td>DSL</td>\n",
       "      <td>1</td>\n",
       "      <td>Electronic check</td>\n",
       "    </tr>\n",
       "    <tr>\n",
       "      <th>4</th>\n",
       "      <td>0032-PGELS</td>\n",
       "      <td>Female</td>\n",
       "      <td>0</td>\n",
       "      <td>Yes</td>\n",
       "      <td>Yes</td>\n",
       "      <td>1</td>\n",
       "      <td>No</td>\n",
       "      <td>No phone service</td>\n",
       "      <td>1</td>\n",
       "      <td>Yes</td>\n",
       "      <td>...</td>\n",
       "      <td>3</td>\n",
       "      <td>30.5</td>\n",
       "      <td>30.5</td>\n",
       "      <td>Yes</td>\n",
       "      <td>1</td>\n",
       "      <td>Month-to-month</td>\n",
       "      <td>1</td>\n",
       "      <td>DSL</td>\n",
       "      <td>3</td>\n",
       "      <td>Bank transfer (automatic)</td>\n",
       "    </tr>\n",
       "  </tbody>\n",
       "</table>\n",
       "<p>5 rows × 27 columns</p>\n",
       "</div>"
      ],
      "text/plain": [
       "  customer_id  gender  senior_citizen partner dependents  tenure  \\\n",
       "0  0003-MKNFE    Male               0      No         No       9   \n",
       "1  0013-MHZWF  Female               0      No        Yes       9   \n",
       "2  0015-UOCOJ  Female               1      No         No       7   \n",
       "3  0023-HGHWL    Male               1      No         No       1   \n",
       "4  0032-PGELS  Female               0     Yes        Yes       1   \n",
       "\n",
       "  phone_service    multiple_lines  internet_service_type_id online_security  \\\n",
       "0           Yes               Yes                         1              No   \n",
       "1           Yes                No                         1              No   \n",
       "2           Yes                No                         1             Yes   \n",
       "3            No  No phone service                         1              No   \n",
       "4            No  No phone service                         1             Yes   \n",
       "\n",
       "             ...             payment_type_id monthly_charges total_charges  \\\n",
       "0            ...                           2            59.9         542.4   \n",
       "1            ...                           4            69.4        571.45   \n",
       "2            ...                           1            48.2        340.35   \n",
       "3            ...                           1            25.1          25.1   \n",
       "4            ...                           3            30.5          30.5   \n",
       "\n",
       "  churn contract_type_id.1   contract_type internet_service_type_id.1  \\\n",
       "0    No                  1  Month-to-month                          1   \n",
       "1    No                  1  Month-to-month                          1   \n",
       "2    No                  1  Month-to-month                          1   \n",
       "3   Yes                  1  Month-to-month                          1   \n",
       "4   Yes                  1  Month-to-month                          1   \n",
       "\n",
       "   internet_service_type  payment_type_id.1               payment_type  \n",
       "0                    DSL                  2               Mailed check  \n",
       "1                    DSL                  4    Credit card (automatic)  \n",
       "2                    DSL                  1           Electronic check  \n",
       "3                    DSL                  1           Electronic check  \n",
       "4                    DSL                  3  Bank transfer (automatic)  \n",
       "\n",
       "[5 rows x 27 columns]"
      ]
     },
     "execution_count": 6,
     "metadata": {},
     "output_type": "execute_result"
    }
   ],
   "source": [
    "df.head()"
   ]
  },
  {
   "cell_type": "markdown",
   "metadata": {},
   "source": [
    "#### Checking that duplicate columns are the same. (they are)"
   ]
  },
  {
   "cell_type": "code",
   "execution_count": 7,
   "metadata": {},
   "outputs": [
    {
     "data": {
      "text/html": [
       "<div>\n",
       "<style scoped>\n",
       "    .dataframe tbody tr th:only-of-type {\n",
       "        vertical-align: middle;\n",
       "    }\n",
       "\n",
       "    .dataframe tbody tr th {\n",
       "        vertical-align: top;\n",
       "    }\n",
       "\n",
       "    .dataframe thead th {\n",
       "        text-align: right;\n",
       "    }\n",
       "</style>\n",
       "<table border=\"1\" class=\"dataframe\">\n",
       "  <thead>\n",
       "    <tr style=\"text-align: right;\">\n",
       "      <th></th>\n",
       "      <th>customer_id</th>\n",
       "      <th>gender</th>\n",
       "      <th>senior_citizen</th>\n",
       "      <th>partner</th>\n",
       "      <th>dependents</th>\n",
       "      <th>tenure</th>\n",
       "      <th>phone_service</th>\n",
       "      <th>multiple_lines</th>\n",
       "      <th>internet_service_type_id</th>\n",
       "      <th>online_security</th>\n",
       "      <th>...</th>\n",
       "      <th>payment_type_id</th>\n",
       "      <th>monthly_charges</th>\n",
       "      <th>total_charges</th>\n",
       "      <th>churn</th>\n",
       "      <th>contract_type_id.1</th>\n",
       "      <th>contract_type</th>\n",
       "      <th>internet_service_type_id.1</th>\n",
       "      <th>internet_service_type</th>\n",
       "      <th>payment_type_id.1</th>\n",
       "      <th>payment_type</th>\n",
       "    </tr>\n",
       "  </thead>\n",
       "  <tbody>\n",
       "  </tbody>\n",
       "</table>\n",
       "<p>0 rows × 27 columns</p>\n",
       "</div>"
      ],
      "text/plain": [
       "Empty DataFrame\n",
       "Columns: [customer_id, gender, senior_citizen, partner, dependents, tenure, phone_service, multiple_lines, internet_service_type_id, online_security, online_backup, device_protection, tech_support, streaming_tv, streaming_movies, contract_type_id, paperless_billing, payment_type_id, monthly_charges, total_charges, churn, contract_type_id.1, contract_type, internet_service_type_id.1, internet_service_type, payment_type_id.1, payment_type]\n",
       "Index: []\n",
       "\n",
       "[0 rows x 27 columns]"
      ]
     },
     "execution_count": 7,
     "metadata": {},
     "output_type": "execute_result"
    }
   ],
   "source": [
    "df.loc[df['payment_type_id'] != df['payment_type_id.1']]\n",
    "df.loc[df['contract_type_id'] != df['contract_type_id.1']]\n",
    "df.loc[df['internet_service_type_id'] != df['internet_service_type_id.1']]"
   ]
  },
  {
   "cell_type": "markdown",
   "metadata": {},
   "source": [
    "#### Dropping duplicate columns"
   ]
  },
  {
   "cell_type": "code",
   "execution_count": 8,
   "metadata": {},
   "outputs": [],
   "source": [
    "df.drop(['payment_type_id.1', 'contract_type_id.1', 'internet_service_type_id.1'], inplace=True, axis=1)"
   ]
  },
  {
   "cell_type": "code",
   "execution_count": 9,
   "metadata": {},
   "outputs": [
    {
     "data": {
      "text/html": [
       "<div>\n",
       "<style scoped>\n",
       "    .dataframe tbody tr th:only-of-type {\n",
       "        vertical-align: middle;\n",
       "    }\n",
       "\n",
       "    .dataframe tbody tr th {\n",
       "        vertical-align: top;\n",
       "    }\n",
       "\n",
       "    .dataframe thead th {\n",
       "        text-align: right;\n",
       "    }\n",
       "</style>\n",
       "<table border=\"1\" class=\"dataframe\">\n",
       "  <thead>\n",
       "    <tr style=\"text-align: right;\">\n",
       "      <th></th>\n",
       "      <th>customer_id</th>\n",
       "      <th>gender</th>\n",
       "      <th>senior_citizen</th>\n",
       "      <th>partner</th>\n",
       "      <th>dependents</th>\n",
       "      <th>tenure</th>\n",
       "      <th>phone_service</th>\n",
       "      <th>multiple_lines</th>\n",
       "      <th>internet_service_type_id</th>\n",
       "      <th>online_security</th>\n",
       "      <th>...</th>\n",
       "      <th>streaming_movies</th>\n",
       "      <th>contract_type_id</th>\n",
       "      <th>paperless_billing</th>\n",
       "      <th>payment_type_id</th>\n",
       "      <th>monthly_charges</th>\n",
       "      <th>total_charges</th>\n",
       "      <th>churn</th>\n",
       "      <th>contract_type</th>\n",
       "      <th>internet_service_type</th>\n",
       "      <th>payment_type</th>\n",
       "    </tr>\n",
       "  </thead>\n",
       "  <tbody>\n",
       "    <tr>\n",
       "      <th>2616</th>\n",
       "      <td>0913-XWSCN</td>\n",
       "      <td>Male</td>\n",
       "      <td>0</td>\n",
       "      <td>Yes</td>\n",
       "      <td>Yes</td>\n",
       "      <td>55</td>\n",
       "      <td>Yes</td>\n",
       "      <td>Yes</td>\n",
       "      <td>2</td>\n",
       "      <td>No</td>\n",
       "      <td>...</td>\n",
       "      <td>Yes</td>\n",
       "      <td>1</td>\n",
       "      <td>No</td>\n",
       "      <td>3</td>\n",
       "      <td>85.50</td>\n",
       "      <td>4713.4</td>\n",
       "      <td>No</td>\n",
       "      <td>Month-to-month</td>\n",
       "      <td>Fiber optic</td>\n",
       "      <td>Bank transfer (automatic)</td>\n",
       "    </tr>\n",
       "    <tr>\n",
       "      <th>7028</th>\n",
       "      <td>9710-NJERN</td>\n",
       "      <td>Female</td>\n",
       "      <td>0</td>\n",
       "      <td>No</td>\n",
       "      <td>No</td>\n",
       "      <td>39</td>\n",
       "      <td>Yes</td>\n",
       "      <td>No</td>\n",
       "      <td>3</td>\n",
       "      <td>No internet service</td>\n",
       "      <td>...</td>\n",
       "      <td>No internet service</td>\n",
       "      <td>3</td>\n",
       "      <td>No</td>\n",
       "      <td>2</td>\n",
       "      <td>20.15</td>\n",
       "      <td>826</td>\n",
       "      <td>No</td>\n",
       "      <td>Two year</td>\n",
       "      <td>None</td>\n",
       "      <td>Mailed check</td>\n",
       "    </tr>\n",
       "    <tr>\n",
       "      <th>608</th>\n",
       "      <td>4945-RVMTE</td>\n",
       "      <td>Female</td>\n",
       "      <td>0</td>\n",
       "      <td>No</td>\n",
       "      <td>No</td>\n",
       "      <td>28</td>\n",
       "      <td>Yes</td>\n",
       "      <td>No</td>\n",
       "      <td>1</td>\n",
       "      <td>No</td>\n",
       "      <td>...</td>\n",
       "      <td>No</td>\n",
       "      <td>1</td>\n",
       "      <td>Yes</td>\n",
       "      <td>3</td>\n",
       "      <td>59.55</td>\n",
       "      <td>1646.45</td>\n",
       "      <td>No</td>\n",
       "      <td>Month-to-month</td>\n",
       "      <td>DSL</td>\n",
       "      <td>Bank transfer (automatic)</td>\n",
       "    </tr>\n",
       "    <tr>\n",
       "      <th>2020</th>\n",
       "      <td>3911-RSNHI</td>\n",
       "      <td>Female</td>\n",
       "      <td>0</td>\n",
       "      <td>Yes</td>\n",
       "      <td>No</td>\n",
       "      <td>71</td>\n",
       "      <td>No</td>\n",
       "      <td>No phone service</td>\n",
       "      <td>1</td>\n",
       "      <td>No</td>\n",
       "      <td>...</td>\n",
       "      <td>Yes</td>\n",
       "      <td>3</td>\n",
       "      <td>Yes</td>\n",
       "      <td>4</td>\n",
       "      <td>61.40</td>\n",
       "      <td>4310.35</td>\n",
       "      <td>No</td>\n",
       "      <td>Two year</td>\n",
       "      <td>DSL</td>\n",
       "      <td>Credit card (automatic)</td>\n",
       "    </tr>\n",
       "    <tr>\n",
       "      <th>3579</th>\n",
       "      <td>5307-DZCVC</td>\n",
       "      <td>Female</td>\n",
       "      <td>1</td>\n",
       "      <td>Yes</td>\n",
       "      <td>No</td>\n",
       "      <td>32</td>\n",
       "      <td>Yes</td>\n",
       "      <td>Yes</td>\n",
       "      <td>2</td>\n",
       "      <td>No</td>\n",
       "      <td>...</td>\n",
       "      <td>No</td>\n",
       "      <td>1</td>\n",
       "      <td>Yes</td>\n",
       "      <td>4</td>\n",
       "      <td>85.95</td>\n",
       "      <td>2628.6</td>\n",
       "      <td>Yes</td>\n",
       "      <td>Month-to-month</td>\n",
       "      <td>Fiber optic</td>\n",
       "      <td>Credit card (automatic)</td>\n",
       "    </tr>\n",
       "  </tbody>\n",
       "</table>\n",
       "<p>5 rows × 24 columns</p>\n",
       "</div>"
      ],
      "text/plain": [
       "     customer_id  gender  senior_citizen partner dependents  tenure  \\\n",
       "2616  0913-XWSCN    Male               0     Yes        Yes      55   \n",
       "7028  9710-NJERN  Female               0      No         No      39   \n",
       "608   4945-RVMTE  Female               0      No         No      28   \n",
       "2020  3911-RSNHI  Female               0     Yes         No      71   \n",
       "3579  5307-DZCVC  Female               1     Yes         No      32   \n",
       "\n",
       "     phone_service    multiple_lines  internet_service_type_id  \\\n",
       "2616           Yes               Yes                         2   \n",
       "7028           Yes                No                         3   \n",
       "608            Yes                No                         1   \n",
       "2020            No  No phone service                         1   \n",
       "3579           Yes               Yes                         2   \n",
       "\n",
       "          online_security            ...                 streaming_movies  \\\n",
       "2616                   No            ...                              Yes   \n",
       "7028  No internet service            ...              No internet service   \n",
       "608                    No            ...                               No   \n",
       "2020                   No            ...                              Yes   \n",
       "3579                   No            ...                               No   \n",
       "\n",
       "     contract_type_id paperless_billing payment_type_id monthly_charges  \\\n",
       "2616                1                No               3           85.50   \n",
       "7028                3                No               2           20.15   \n",
       "608                 1               Yes               3           59.55   \n",
       "2020                3               Yes               4           61.40   \n",
       "3579                1               Yes               4           85.95   \n",
       "\n",
       "      total_charges churn   contract_type  internet_service_type  \\\n",
       "2616         4713.4    No  Month-to-month            Fiber optic   \n",
       "7028            826    No        Two year                   None   \n",
       "608         1646.45    No  Month-to-month                    DSL   \n",
       "2020        4310.35    No        Two year                    DSL   \n",
       "3579         2628.6   Yes  Month-to-month            Fiber optic   \n",
       "\n",
       "                   payment_type  \n",
       "2616  Bank transfer (automatic)  \n",
       "7028               Mailed check  \n",
       "608   Bank transfer (automatic)  \n",
       "2020    Credit card (automatic)  \n",
       "3579    Credit card (automatic)  \n",
       "\n",
       "[5 rows x 24 columns]"
      ]
     },
     "execution_count": 9,
     "metadata": {},
     "output_type": "execute_result"
    }
   ],
   "source": [
    "df.sample(5)"
   ]
  },
  {
   "cell_type": "code",
   "execution_count": 10,
   "metadata": {},
   "outputs": [
    {
     "data": {
      "text/plain": [
       "array(['No', 'Yes', 'No internet service'], dtype=object)"
      ]
     },
     "execution_count": 10,
     "metadata": {},
     "output_type": "execute_result"
    }
   ],
   "source": [
    "df.tech_support.unique()"
   ]
  },
  {
   "cell_type": "code",
   "execution_count": 11,
   "metadata": {},
   "outputs": [
    {
     "data": {
      "text/plain": [
       "array(['No', 'Yes', 'No internet service'], dtype=object)"
      ]
     },
     "execution_count": 11,
     "metadata": {},
     "output_type": "execute_result"
    }
   ],
   "source": [
    "df.device_protection.unique()"
   ]
  },
  {
   "cell_type": "code",
   "execution_count": 12,
   "metadata": {},
   "outputs": [
    {
     "name": "stdout",
     "output_type": "stream",
     "text": [
      "\n",
      "Missing Values:\n",
      "\n",
      "No missing values\n"
     ]
    }
   ],
   "source": [
    "df_print_missing_vals(df)"
   ]
  },
  {
   "cell_type": "code",
   "execution_count": 13,
   "metadata": {},
   "outputs": [
    {
     "data": {
      "text/plain": [
       "customer_id                 0.0\n",
       "gender                      0.0\n",
       "senior_citizen              0.0\n",
       "partner                     0.0\n",
       "dependents                  0.0\n",
       "tenure                      0.0\n",
       "phone_service               0.0\n",
       "multiple_lines              0.0\n",
       "internet_service_type_id    0.0\n",
       "online_security             0.0\n",
       "online_backup               0.0\n",
       "device_protection           0.0\n",
       "tech_support                0.0\n",
       "streaming_tv                0.0\n",
       "streaming_movies            0.0\n",
       "contract_type_id            0.0\n",
       "paperless_billing           0.0\n",
       "payment_type_id             0.0\n",
       "monthly_charges             0.0\n",
       "total_charges               0.0\n",
       "churn                       0.0\n",
       "contract_type               0.0\n",
       "internet_service_type       0.0\n",
       "payment_type                0.0\n",
       "dtype: float64"
      ]
     },
     "execution_count": 13,
     "metadata": {},
     "output_type": "execute_result"
    }
   ],
   "source": [
    "df_percent_missing_vals(df)"
   ]
  },
  {
   "cell_type": "markdown",
   "metadata": {},
   "source": [
    "### Data Dictionary\n",
    "- gender: is the customer male or female?\n",
    "- senior_citizen: is the customer a senior citizen? 1 for yes, 0 for no.\n",
    "- partner: does the customer have a partner?\n",
    "- dependents: does the customer have dependents?\n",
    "- tenure: Number of months the customer has had one of our services. 0 would mean they haven't been with us a full month yet.\n",
    "- phone_service: does the customer have phone service?\n",
    "- multiple_lines: does the customer have multiple lines? yes, no, or no phone service.\n",
    "- internet_service_type_id: id of type of internet service.\n",
    "- online_security: does the customer utilize the option of having a password.\n",
    "- online_backup: does the customer utilize the option to backup their files?\n",
    "- device_protection: does the customer utilize the option to protect their internet device (i.e. router)?\n",
    "- tech_support: does the customer utilize the option to talk to tech support?\n",
    "- streaming_tv: does the customer have the tv streaming service?\n",
    "- streaming_movies: does the customer have the movie streaming service?\n",
    "- contract_type_id: id of type of contract.\n",
    "- paperless_billing: customer using paperless billing option?\n",
    "- payment_type_id: id of type of payment.\n",
    "- monthly_charges: Most recent monthly charge for that customer.\n",
    "- total_charges: Most recent total charges for that customer.\n",
    "- churn: Did the customer churn?\n",
    "- contract_type: type of contract.\n",
    "- internet_service_type: type of internet service.\n",
    "- payment_type: type of payment."
   ]
  },
  {
   "cell_type": "markdown",
   "metadata": {},
   "source": [
    "### Hypothesis/General Ideas\n",
    "- I believe that customers with multiple lines will have a decent effect on whether a customer churns or not. A customer with multiple lines might be less inclined to churn due to having to move all the lines over. Likewise, those with streaming services will be less likely to churn. Basically, the more services a customer has the less likely to churn.\n",
    "- Monthly charges will also play a role. The more a customer pays, the more likely to churn."
   ]
  },
  {
   "cell_type": "markdown",
   "metadata": {},
   "source": [
    "2. Write a function, peekatdata(dataframe), that takes a dataframe as input and computes and returns the following:\n",
    "    - creates dataframe object head_df (df of the first 5 rows) and prints contents to screen\n",
    "    - creates dataframe object tail_df (df of the last 5 rows) and prints contents to screen\n",
    "    - creates tuple object shape_tuple (tuple of (nrows, ncols)) and prints tuple to screen\n",
    "    - creates dataframe object describe_df (summary statistics of all numeric variables) and prints contents to screen.\n",
    "    - prints to screen the information about a DataFrame including the index dtype and column dtypes, non-null values and memory usage."
   ]
  },
  {
   "cell_type": "code",
   "execution_count": 14,
   "metadata": {},
   "outputs": [
    {
     "name": "stdout",
     "output_type": "stream",
     "text": [
      "First five rows of the dataframe:\n",
      "  customer_id  gender  senior_citizen partner dependents  tenure  \\\n",
      "0  0003-MKNFE    Male               0      No         No       9   \n",
      "1  0013-MHZWF  Female               0      No        Yes       9   \n",
      "2  0015-UOCOJ  Female               1      No         No       7   \n",
      "3  0023-HGHWL    Male               1      No         No       1   \n",
      "4  0032-PGELS  Female               0     Yes        Yes       1   \n",
      "\n",
      "  phone_service    multiple_lines  internet_service_type_id online_security  \\\n",
      "0           Yes               Yes                         1              No   \n",
      "1           Yes                No                         1              No   \n",
      "2           Yes                No                         1             Yes   \n",
      "3            No  No phone service                         1              No   \n",
      "4            No  No phone service                         1             Yes   \n",
      "\n",
      "             ...             streaming_movies contract_type_id  \\\n",
      "0            ...                          Yes                1   \n",
      "1            ...                          Yes                1   \n",
      "2            ...                           No                1   \n",
      "3            ...                           No                1   \n",
      "4            ...                           No                1   \n",
      "\n",
      "  paperless_billing payment_type_id monthly_charges  total_charges churn  \\\n",
      "0                No               2            59.9          542.4    No   \n",
      "1               Yes               4            69.4         571.45    No   \n",
      "2               Yes               1            48.2         340.35    No   \n",
      "3               Yes               1            25.1           25.1   Yes   \n",
      "4                No               3            30.5           30.5   Yes   \n",
      "\n",
      "    contract_type  internet_service_type               payment_type  \n",
      "0  Month-to-month                    DSL               Mailed check  \n",
      "1  Month-to-month                    DSL    Credit card (automatic)  \n",
      "2  Month-to-month                    DSL           Electronic check  \n",
      "3  Month-to-month                    DSL           Electronic check  \n",
      "4  Month-to-month                    DSL  Bank transfer (automatic)  \n",
      "\n",
      "[5 rows x 24 columns]\n",
      "\n",
      "\n",
      "Last five rows of the dataframe:\n",
      "     customer_id  gender  senior_citizen partner dependents  tenure  \\\n",
      "7038  9950-MTGYX    Male               0     Yes        Yes      28   \n",
      "7039  9953-ZMKSM    Male               0      No         No      63   \n",
      "7040  9964-WBQDJ  Female               0     Yes         No      71   \n",
      "7041  9972-EWRJS  Female               0     Yes        Yes      67   \n",
      "7042  9975-GPKZU    Male               0     Yes        Yes      46   \n",
      "\n",
      "     phone_service multiple_lines  internet_service_type_id  \\\n",
      "7038           Yes             No                         3   \n",
      "7039           Yes            Yes                         3   \n",
      "7040           Yes            Yes                         3   \n",
      "7041           Yes             No                         3   \n",
      "7042           Yes             No                         3   \n",
      "\n",
      "          online_security            ...                 streaming_movies  \\\n",
      "7038  No internet service            ...              No internet service   \n",
      "7039  No internet service            ...              No internet service   \n",
      "7040  No internet service            ...              No internet service   \n",
      "7041  No internet service            ...              No internet service   \n",
      "7042  No internet service            ...              No internet service   \n",
      "\n",
      "     contract_type_id paperless_billing payment_type_id monthly_charges  \\\n",
      "7038                3               Yes               4           20.30   \n",
      "7039                3                No               2           25.25   \n",
      "7040                3               Yes               4           24.40   \n",
      "7041                3               Yes               3           19.25   \n",
      "7042                3                No               4           19.75   \n",
      "\n",
      "      total_charges churn  contract_type  internet_service_type  \\\n",
      "7038         487.95    No       Two year                   None   \n",
      "7039         1559.3    No       Two year                   None   \n",
      "7040         1725.4    No       Two year                   None   \n",
      "7041         1372.9    No       Two year                   None   \n",
      "7042          856.5    No       Two year                   None   \n",
      "\n",
      "                   payment_type  \n",
      "7038    Credit card (automatic)  \n",
      "7039               Mailed check  \n",
      "7040    Credit card (automatic)  \n",
      "7041  Bank transfer (automatic)  \n",
      "7042    Credit card (automatic)  \n",
      "\n",
      "[5 rows x 24 columns]\n",
      "\n",
      "\n",
      "Shape of the dataframe:\n",
      "(7043, 24)\n",
      "\n",
      "\n",
      "Describe dataframe:\n",
      "       senior_citizen       tenure  internet_service_type_id  \\\n",
      "count     7043.000000  7043.000000               7043.000000   \n",
      "mean         0.162147    32.371149                  1.872923   \n",
      "std          0.368612    24.559481                  0.737796   \n",
      "min          0.000000     0.000000                  1.000000   \n",
      "25%          0.000000     9.000000                  1.000000   \n",
      "50%          0.000000    29.000000                  2.000000   \n",
      "75%          0.000000    55.000000                  2.000000   \n",
      "max          1.000000    72.000000                  3.000000   \n",
      "\n",
      "       contract_type_id  payment_type_id  monthly_charges  \n",
      "count       7043.000000      7043.000000      7043.000000  \n",
      "mean           1.690473         2.315633        64.761692  \n",
      "std            0.833755         1.148907        30.090047  \n",
      "min            1.000000         1.000000        18.250000  \n",
      "25%            1.000000         1.000000        35.500000  \n",
      "50%            1.000000         2.000000        70.350000  \n",
      "75%            2.000000         3.000000        89.850000  \n",
      "max            3.000000         4.000000       118.750000  \n",
      "\n",
      "\n",
      "Data types of each column:\n",
      "customer_id                  object\n",
      "gender                       object\n",
      "senior_citizen                int64\n",
      "partner                      object\n",
      "dependents                   object\n",
      "tenure                        int64\n",
      "phone_service                object\n",
      "multiple_lines               object\n",
      "internet_service_type_id      int64\n",
      "online_security              object\n",
      "online_backup                object\n",
      "device_protection            object\n",
      "tech_support                 object\n",
      "streaming_tv                 object\n",
      "streaming_movies             object\n",
      "contract_type_id              int64\n",
      "paperless_billing            object\n",
      "payment_type_id               int64\n",
      "monthly_charges             float64\n",
      "total_charges                object\n",
      "churn                        object\n",
      "contract_type                object\n",
      "internet_service_type        object\n",
      "payment_type                 object\n",
      "dtype: object\n",
      "\n",
      "\n",
      "Non-nulls in each column:\n",
      "<class 'pandas.core.frame.DataFrame'>\n",
      "RangeIndex: 7043 entries, 0 to 7042\n",
      "Data columns (total 24 columns):\n",
      "customer_id                 7043 non-null object\n",
      "gender                      7043 non-null object\n",
      "senior_citizen              7043 non-null int64\n",
      "partner                     7043 non-null object\n",
      "dependents                  7043 non-null object\n",
      "tenure                      7043 non-null int64\n",
      "phone_service               7043 non-null object\n",
      "multiple_lines              7043 non-null object\n",
      "internet_service_type_id    7043 non-null int64\n",
      "online_security             7043 non-null object\n",
      "online_backup               7043 non-null object\n",
      "device_protection           7043 non-null object\n",
      "tech_support                7043 non-null object\n",
      "streaming_tv                7043 non-null object\n",
      "streaming_movies            7043 non-null object\n",
      "contract_type_id            7043 non-null int64\n",
      "paperless_billing           7043 non-null object\n",
      "payment_type_id             7043 non-null int64\n",
      "monthly_charges             7043 non-null float64\n",
      "total_charges               7043 non-null object\n",
      "churn                       7043 non-null object\n",
      "contract_type               7043 non-null object\n",
      "internet_service_type       7043 non-null object\n",
      "payment_type                7043 non-null object\n",
      "dtypes: float64(1), int64(5), object(18)\n",
      "memory usage: 1.3+ MB\n",
      "None\n",
      "\n",
      "\n",
      "Memory usage:\n",
      "<bound method DataFrame.memory_usage of      customer_id  gender  senior_citizen partner dependents  tenure  \\\n",
      "0     0003-MKNFE    Male               0      No         No       9   \n",
      "1     0013-MHZWF  Female               0      No        Yes       9   \n",
      "2     0015-UOCOJ  Female               1      No         No       7   \n",
      "3     0023-HGHWL    Male               1      No         No       1   \n",
      "4     0032-PGELS  Female               0     Yes        Yes       1   \n",
      "5     0067-DKWBL    Male               1      No         No       2   \n",
      "6     0076-LVEPS    Male               0      No        Yes      29   \n",
      "7     0082-LDZUE    Male               0      No         No       1   \n",
      "8     0096-BXERS  Female               0     Yes         No       6   \n",
      "9     0096-FCPUF    Male               0      No         No      30   \n",
      "10    0106-GHRQR    Male               0      No         No      16   \n",
      "11    0117-LFRMW    Male               0     Yes        Yes      37   \n",
      "12    0128-MKWSG  Female               0      No        Yes      26   \n",
      "13    0156-FVPTA    Male               0     Yes         No      22   \n",
      "14    0191-ZHSKZ    Male               1      No         No      30   \n",
      "15    0212-ISBBF  Female               0      No         No      22   \n",
      "16    0222-CNVPT    Male               1      No         No      52   \n",
      "17    0224-HJAPT    Male               0      No         No       5   \n",
      "18    0224-RLWWD  Female               1      No         No       2   \n",
      "19    0228-MAUWC    Male               0      No         No      19   \n",
      "20    0248-IPDFW  Female               0      No         No       1   \n",
      "21    0257-KXZGU  Female               0     Yes        Yes      32   \n",
      "22    0260-ZDLGK  Female               0      No        Yes       9   \n",
      "23    0274-JKUJR    Male               0     Yes        Yes       7   \n",
      "24    0277-BKSQP    Male               0     Yes        Yes       8   \n",
      "25    0282-NVSJS  Female               1     Yes        Yes      12   \n",
      "26    0285-INHLN    Male               0     Yes        Yes      27   \n",
      "27    0289-IVARM  Female               0      No         No      35   \n",
      "28    0292-WEGCH  Female               0     Yes        Yes      54   \n",
      "29    0295-QVKPB    Male               0      No         No       5   \n",
      "30    0311-QYWSS  Female               0      No         No       6   \n",
      "31    0314-TKOSI  Female               0      No         No       6   \n",
      "32    0319-QZTCO  Female               0     Yes        Yes       3   \n",
      "33    0322-CHQRU    Male               0      No         No       2   \n",
      "34    0322-YINQP    Male               0      No         No       1   \n",
      "35    0356-ERHVT    Male               0     Yes         No      11   \n",
      "36    0374-AACSZ  Female               0      No         No       1   \n",
      "37    0374-IOEGQ  Female               0      No         No       3   \n",
      "38    0375-HVGXO  Female               0      No         No       1   \n",
      "39    0377-JBKKT    Male               0     Yes        Yes      22   \n",
      "40    0384-RVBPI    Male               0      No         No      20   \n",
      "41    0396-UKGAI    Male               0      No        Yes      23   \n",
      "42    0411-EZJZE  Female               0      No         No       3   \n",
      "43    0415-MOSGF  Female               0      No         No       1   \n",
      "44    0420-BWTPW    Male               0      No        Yes       8   \n",
      "45    0423-UDIJQ    Male               1      No         No       9   \n",
      "46    0430-IHCDJ    Male               0      No         No      15   \n",
      "47    0440-QEXBZ  Female               0      No         No      44   \n",
      "48    0447-BEMNG  Female               0     Yes         No      48   \n",
      "49    0463-ZSDNT    Male               0      No         No      10   \n",
      "50    0516-WJVXC  Female               0      No         No       5   \n",
      "51    0523-VNGTF  Female               1      No         No      52   \n",
      "52    0541-FITGH  Female               0     Yes         No       2   \n",
      "53    0550-DCXLH    Male               0      No         No      13   \n",
      "54    0567-GGCAC  Female               0      No         No       7   \n",
      "55    0584-BJQGZ  Female               0      No         No      25   \n",
      "56    0587-DMGBH  Female               0      No         No       8   \n",
      "57    0601-WZHJF    Male               0     Yes         No      14   \n",
      "58    0603-OLQDC    Male               0      No        Yes      12   \n",
      "59    0612-RTZZA  Female               1      No         No       1   \n",
      "60    0616-ATFGB    Male               1     Yes         No       1   \n",
      "61    0621-TWIEM    Male               0      No         No      10   \n",
      "62    0623-GDISB  Female               0      No         No       1   \n",
      "63    0623-IIHUG  Female               1      No         No      21   \n",
      "64    0655-YDGFJ    Male               0      No         No      29   \n",
      "65    0661-XEYAN  Female               1      No         No       1   \n",
      "66    0668-OGMHD  Female               0     Yes         No      21   \n",
      "67    0674-EYYZV  Female               0      No         No       1   \n",
      "68    0696-UKTOX    Male               0      No        Yes      23   \n",
      "69    0699-NDKJM  Female               0     Yes         No      57   \n",
      "70    0701-TJSEF    Male               0      No         No       9   \n",
      "71    0708-LGSMF    Male               0     Yes         No      13   \n",
      "72    0708-SJDIS  Female               0      No         No      34   \n",
      "73    0719-SYFRB  Female               0      No         No      12   \n",
      "74    0733-VUNUW    Male               0      No         No      24   \n",
      "75    0734-OXWBT    Male               0      No        Yes       3   \n",
      "76    0742-MOABM    Male               0     Yes         No       4   \n",
      "77    0746-JTRFU    Male               0      No         No       2   \n",
      "78    0749-IRGQE  Female               1     Yes         No      13   \n",
      "79    0774-IFUVM    Male               0     Yes        Yes      11   \n",
      "80    0778-NELLA    Male               0      No         No       9   \n",
      "81    0786-VSSUD    Male               1      No         No      16   \n",
      "82    0799-DDIHE  Female               0     Yes        Yes      15   \n",
      "83    0804-XBFBV  Female               0      No        Yes      11   \n",
      "84    0807-ZABDG  Female               0      No        Yes       3   \n",
      "...          ...     ...             ...     ...        ...     ...   \n",
      "6958  8612-GXIDD    Male               0     Yes        Yes      12   \n",
      "6959  8626-XHBIE    Male               0      No        Yes      56   \n",
      "6960  8701-DGLVH    Male               0      No         No      51   \n",
      "6961  8711-LOBKY    Male               0     Yes        Yes      59   \n",
      "6962  8727-JQFHV    Male               0     Yes        Yes      57   \n",
      "6963  8735-SDUFN  Female               1     Yes         No      72   \n",
      "6964  8747-UDCOI  Female               0     Yes         No      65   \n",
      "6965  8749-TZYEC    Male               0     Yes         No      72   \n",
      "6966  8750-QWZAJ  Female               0     Yes        Yes      70   \n",
      "6967  8755-OGKNA  Female               0     Yes        Yes      57   \n",
      "6968  8774-GSBUN    Male               0     Yes         No      72   \n",
      "6969  8780-IHCRN    Male               0     Yes        Yes      63   \n",
      "6970  8807-OPMBM  Female               0     Yes        Yes      55   \n",
      "6971  8838-GPHZP  Female               0      No         No      63   \n",
      "6972  8857-CUPFQ    Male               0     Yes         No      63   \n",
      "6973  8859-AXJZP    Male               0     Yes        Yes      39   \n",
      "6974  8859-DZTGQ    Male               0      No         No      33   \n",
      "6975  8874-EJNSR    Male               0     Yes        Yes      39   \n",
      "6976  8896-RAZCR  Female               0      No        Yes      44   \n",
      "6977  8908-SLFCJ  Female               0      No         No      21   \n",
      "6978  8917-FAEMR  Female               0      No         No      37   \n",
      "6979  8917-SZTTJ    Male               0     Yes        Yes      60   \n",
      "6980  8922-NPKBJ    Male               0     Yes        Yes      42   \n",
      "6981  8946-BFWSG    Male               0     Yes        Yes      63   \n",
      "6982  8957-THMOA  Female               0      No        Yes      50   \n",
      "6983  8966-KZXXA    Male               0     Yes        Yes      36   \n",
      "6984  8966-SNIZF  Female               0     Yes         No      70   \n",
      "6985  8999-EXMNO  Female               0     Yes        Yes      19   \n",
      "6986  9030-QGZNL  Female               0      No         No       8   \n",
      "6987  9068-FHQHD  Female               0     Yes        Yes      40   \n",
      "6988  9081-WWXKP  Female               0     Yes        Yes      47   \n",
      "6989  9084-OAYKL    Male               0      No         No      58   \n",
      "6990  9087-EYCPR  Female               0      No         No      60   \n",
      "6991  9108-EQPNQ  Female               0     Yes        Yes      10   \n",
      "6992  9135-HSWOC    Male               0     Yes        Yes      64   \n",
      "6993  9150-KPBJQ  Female               0      No         No       6   \n",
      "6994  9153-BTBVV  Female               0     Yes         No      71   \n",
      "6995  9173-IVZVP  Female               0     Yes        Yes      53   \n",
      "6996  9178-JHUVJ    Male               0     Yes        Yes      24   \n",
      "6997  9227-UAQFT    Male               0      No         No      16   \n",
      "6998  9251-AWQGT  Female               0     Yes        Yes      48   \n",
      "6999  9257-AZMTZ  Female               0     Yes        Yes      52   \n",
      "7000  9337-SRRNI    Male               0      No        Yes      66   \n",
      "7001  9350-ZXYJC  Female               0      No         No       4   \n",
      "7002  9365-CSLBQ    Male               0      No        Yes      71   \n",
      "7003  9371-BITHB  Female               0     Yes        Yes      52   \n",
      "7004  9385-EHGDO  Female               0     Yes        Yes      35   \n",
      "7005  9392-XBGTD    Male               0      No        Yes      27   \n",
      "7006  9397-TZSHA  Female               0      No         No      69   \n",
      "7007  9418-RUKPH  Female               0     Yes        Yes      38   \n",
      "7008  9424-CMPOG    Male               0     Yes        Yes       9   \n",
      "7009  9430-NKQLY    Male               0     Yes        Yes      72   \n",
      "7010  9500-WBGRP    Male               0      No         No      69   \n",
      "7011  9504-YAZWB  Female               0      No         No      53   \n",
      "7012  9507-HSMMZ    Male               0      No         No      54   \n",
      "7013  9537-JALFH    Male               0     Yes        Yes      69   \n",
      "7014  9548-LERKT    Male               0     Yes         No      24   \n",
      "7015  9565-AXSMR    Male               0     Yes        Yes      52   \n",
      "7016  9574-BOSMD    Male               0     Yes        Yes      68   \n",
      "7017  9585-KKMFD    Male               0     Yes        Yes      41   \n",
      "7018  9588-YRFHY    Male               0      No         No      49   \n",
      "7019  9593-CVZKR  Female               0     Yes        Yes      56   \n",
      "7020  9624-EGDEQ  Female               0      No         No      37   \n",
      "7021  9625-RZFUK    Male               0     Yes        Yes      63   \n",
      "7022  9631-RXVJM    Male               0      No         No      35   \n",
      "7023  9646-NMHXE    Male               0     Yes         No      47   \n",
      "7024  9648-BCHKM  Female               0     Yes        Yes      18   \n",
      "7025  9650-VBUOG    Male               0     Yes        Yes      38   \n",
      "7026  9661-JALZV  Female               0      No         No      58   \n",
      "7027  9668-PUGNU    Male               0     Yes         No      71   \n",
      "7028  9710-NJERN  Female               0      No         No      39   \n",
      "7029  9717-IOAAF    Male               0      No        Yes      27   \n",
      "7030  9764-REAFF  Female               0     Yes         No      59   \n",
      "7031  9798-OPFEM  Female               0      No         No      46   \n",
      "7032  9800-OUIGR    Male               0     Yes        Yes      66   \n",
      "7033  9814-AOUDH    Male               0      No         No      53   \n",
      "7034  9838-BFCQT    Male               0     Yes        Yes      72   \n",
      "7035  9916-AYHTC    Male               0      No         No      48   \n",
      "7036  9938-PRCVK  Female               0     Yes        Yes      41   \n",
      "7037  9945-PSVIP  Female               0     Yes        Yes      25   \n",
      "7038  9950-MTGYX    Male               0     Yes        Yes      28   \n",
      "7039  9953-ZMKSM    Male               0      No         No      63   \n",
      "7040  9964-WBQDJ  Female               0     Yes         No      71   \n",
      "7041  9972-EWRJS  Female               0     Yes        Yes      67   \n",
      "7042  9975-GPKZU    Male               0     Yes        Yes      46   \n",
      "\n",
      "     phone_service    multiple_lines  internet_service_type_id  \\\n",
      "0              Yes               Yes                         1   \n",
      "1              Yes                No                         1   \n",
      "2              Yes                No                         1   \n",
      "3               No  No phone service                         1   \n",
      "4               No  No phone service                         1   \n",
      "5              Yes                No                         1   \n",
      "6               No  No phone service                         1   \n",
      "7              Yes                No                         1   \n",
      "8              Yes               Yes                         1   \n",
      "9              Yes               Yes                         1   \n",
      "10             Yes               Yes                         1   \n",
      "11              No  No phone service                         1   \n",
      "12              No  No phone service                         1   \n",
      "13             Yes                No                         1   \n",
      "14             Yes                No                         1   \n",
      "15              No  No phone service                         1   \n",
      "16              No  No phone service                         1   \n",
      "17             Yes               Yes                         1   \n",
      "18             Yes                No                         1   \n",
      "19             Yes               Yes                         1   \n",
      "20             Yes               Yes                         1   \n",
      "21             Yes               Yes                         1   \n",
      "22             Yes                No                         1   \n",
      "23              No  No phone service                         1   \n",
      "24             Yes                No                         1   \n",
      "25              No  No phone service                         1   \n",
      "26             Yes                No                         1   \n",
      "27             Yes                No                         1   \n",
      "28             Yes               Yes                         1   \n",
      "29             Yes                No                         1   \n",
      "30             Yes                No                         1   \n",
      "31             Yes                No                         1   \n",
      "32             Yes                No                         1   \n",
      "33             Yes                No                         1   \n",
      "34             Yes                No                         1   \n",
      "35             Yes                No                         1   \n",
      "36             Yes                No                         1   \n",
      "37             Yes                No                         1   \n",
      "38              No  No phone service                         1   \n",
      "39             Yes                No                         1   \n",
      "40             Yes                No                         1   \n",
      "41             Yes                No                         1   \n",
      "42             Yes               Yes                         1   \n",
      "43             Yes                No                         1   \n",
      "44              No  No phone service                         1   \n",
      "45             Yes                No                         1   \n",
      "46             Yes               Yes                         1   \n",
      "47             Yes               Yes                         1   \n",
      "48              No  No phone service                         1   \n",
      "49             Yes                No                         1   \n",
      "50             Yes                No                         1   \n",
      "51              No  No phone service                         1   \n",
      "52             Yes                No                         1   \n",
      "53             Yes                No                         1   \n",
      "54             Yes                No                         1   \n",
      "55             Yes               Yes                         1   \n",
      "56             Yes                No                         1   \n",
      "57              No  No phone service                         1   \n",
      "58             Yes                No                         1   \n",
      "59              No  No phone service                         1   \n",
      "60              No  No phone service                         1   \n",
      "61             Yes                No                         1   \n",
      "62             Yes                No                         1   \n",
      "63              No  No phone service                         1   \n",
      "64             Yes                No                         1   \n",
      "65              No  No phone service                         1   \n",
      "66              No  No phone service                         1   \n",
      "67             Yes                No                         1   \n",
      "68             Yes                No                         1   \n",
      "69              No  No phone service                         1   \n",
      "70             Yes                No                         1   \n",
      "71             Yes               Yes                         1   \n",
      "72             Yes               Yes                         1   \n",
      "73             Yes               Yes                         1   \n",
      "74             Yes               Yes                         1   \n",
      "75             Yes                No                         1   \n",
      "76             Yes                No                         1   \n",
      "77              No  No phone service                         1   \n",
      "78              No  No phone service                         1   \n",
      "79             Yes               Yes                         1   \n",
      "80              No  No phone service                         1   \n",
      "81              No  No phone service                         1   \n",
      "82             Yes                No                         1   \n",
      "83              No  No phone service                         1   \n",
      "84             Yes                No                         1   \n",
      "...            ...               ...                       ...   \n",
      "6958           Yes               Yes                         3   \n",
      "6959           Yes               Yes                         3   \n",
      "6960           Yes                No                         3   \n",
      "6961           Yes                No                         3   \n",
      "6962           Yes                No                         3   \n",
      "6963           Yes               Yes                         3   \n",
      "6964           Yes                No                         3   \n",
      "6965           Yes               Yes                         3   \n",
      "6966           Yes                No                         3   \n",
      "6967           Yes                No                         3   \n",
      "6968           Yes               Yes                         3   \n",
      "6969           Yes               Yes                         3   \n",
      "6970           Yes               Yes                         3   \n",
      "6971           Yes                No                         3   \n",
      "6972           Yes                No                         3   \n",
      "6973           Yes               Yes                         3   \n",
      "6974           Yes                No                         3   \n",
      "6975           Yes               Yes                         3   \n",
      "6976           Yes                No                         3   \n",
      "6977           Yes                No                         3   \n",
      "6978           Yes                No                         3   \n",
      "6979           Yes                No                         3   \n",
      "6980           Yes                No                         3   \n",
      "6981           Yes               Yes                         3   \n",
      "6982           Yes                No                         3   \n",
      "6983           Yes               Yes                         3   \n",
      "6984           Yes                No                         3   \n",
      "6985           Yes                No                         3   \n",
      "6986           Yes                No                         3   \n",
      "6987           Yes                No                         3   \n",
      "6988           Yes                No                         3   \n",
      "6989           Yes                No                         3   \n",
      "6990           Yes               Yes                         3   \n",
      "6991           Yes               Yes                         3   \n",
      "6992           Yes                No                         3   \n",
      "6993           Yes                No                         3   \n",
      "6994           Yes               Yes                         3   \n",
      "6995           Yes                No                         3   \n",
      "6996           Yes               Yes                         3   \n",
      "6997           Yes                No                         3   \n",
      "6998           Yes                No                         3   \n",
      "6999           Yes                No                         3   \n",
      "7000           Yes               Yes                         3   \n",
      "7001           Yes               Yes                         3   \n",
      "7002           Yes               Yes                         3   \n",
      "7003           Yes                No                         3   \n",
      "7004           Yes                No                         3   \n",
      "7005           Yes                No                         3   \n",
      "7006           Yes               Yes                         3   \n",
      "7007           Yes                No                         3   \n",
      "7008           Yes                No                         3   \n",
      "7009           Yes               Yes                         3   \n",
      "7010           Yes                No                         3   \n",
      "7011           Yes                No                         3   \n",
      "7012           Yes                No                         3   \n",
      "7013           Yes                No                         3   \n",
      "7014           Yes                No                         3   \n",
      "7015           Yes                No                         3   \n",
      "7016           Yes               Yes                         3   \n",
      "7017           Yes                No                         3   \n",
      "7018           Yes                No                         3   \n",
      "7019           Yes               Yes                         3   \n",
      "7020           Yes                No                         3   \n",
      "7021           Yes                No                         3   \n",
      "7022           Yes                No                         3   \n",
      "7023           Yes                No                         3   \n",
      "7024           Yes               Yes                         3   \n",
      "7025           Yes               Yes                         3   \n",
      "7026           Yes               Yes                         3   \n",
      "7027           Yes               Yes                         3   \n",
      "7028           Yes                No                         3   \n",
      "7029           Yes               Yes                         3   \n",
      "7030           Yes                No                         3   \n",
      "7031           Yes                No                         3   \n",
      "7032           Yes                No                         3   \n",
      "7033           Yes                No                         3   \n",
      "7034           Yes               Yes                         3   \n",
      "7035           Yes                No                         3   \n",
      "7036           Yes                No                         3   \n",
      "7037           Yes                No                         3   \n",
      "7038           Yes                No                         3   \n",
      "7039           Yes               Yes                         3   \n",
      "7040           Yes               Yes                         3   \n",
      "7041           Yes                No                         3   \n",
      "7042           Yes                No                         3   \n",
      "\n",
      "          online_security            ...                 streaming_movies  \\\n",
      "0                      No            ...                              Yes   \n",
      "1                      No            ...                              Yes   \n",
      "2                     Yes            ...                               No   \n",
      "3                      No            ...                               No   \n",
      "4                     Yes            ...                               No   \n",
      "5                     Yes            ...                               No   \n",
      "6                     Yes            ...                               No   \n",
      "7                      No            ...                               No   \n",
      "8                      No            ...                               No   \n",
      "9                     Yes            ...                              Yes   \n",
      "10                     No            ...                              Yes   \n",
      "11                    Yes            ...                               No   \n",
      "12                    Yes            ...                              Yes   \n",
      "13                    Yes            ...                               No   \n",
      "14                    Yes            ...                              Yes   \n",
      "15                     No            ...                              Yes   \n",
      "16                    Yes            ...                              Yes   \n",
      "17                     No            ...                               No   \n",
      "18                     No            ...                               No   \n",
      "19                     No            ...                               No   \n",
      "20                     No            ...                               No   \n",
      "21                     No            ...                               No   \n",
      "22                     No            ...                              Yes   \n",
      "23                    Yes            ...                              Yes   \n",
      "24                     No            ...                               No   \n",
      "25                     No            ...                               No   \n",
      "26                    Yes            ...                               No   \n",
      "27                    Yes            ...                               No   \n",
      "28                     No            ...                              Yes   \n",
      "29                     No            ...                               No   \n",
      "30                    Yes            ...                               No   \n",
      "31                    Yes            ...                               No   \n",
      "32                     No            ...                               No   \n",
      "33                     No            ...                               No   \n",
      "34                    Yes            ...                               No   \n",
      "35                     No            ...                               No   \n",
      "36                    Yes            ...                               No   \n",
      "37                     No            ...                               No   \n",
      "38                     No            ...                               No   \n",
      "39                    Yes            ...                               No   \n",
      "40                    Yes            ...                              Yes   \n",
      "41                     No            ...                               No   \n",
      "42                     No            ...                               No   \n",
      "43                     No            ...                               No   \n",
      "44                     No            ...                               No   \n",
      "45                     No            ...                               No   \n",
      "46                     No            ...                               No   \n",
      "47                     No            ...                               No   \n",
      "48                    Yes            ...                              Yes   \n",
      "49                     No            ...                              Yes   \n",
      "50                    Yes            ...                               No   \n",
      "51                     No            ...                               No   \n",
      "52                    Yes            ...                              Yes   \n",
      "53                     No            ...                              Yes   \n",
      "54                    Yes            ...                               No   \n",
      "55                    Yes            ...                               No   \n",
      "56                    Yes            ...                               No   \n",
      "57                     No            ...                              Yes   \n",
      "58                    Yes            ...                              Yes   \n",
      "59                     No            ...                               No   \n",
      "60                     No            ...                               No   \n",
      "61                     No            ...                               No   \n",
      "62                    Yes            ...                               No   \n",
      "63                    Yes            ...                               No   \n",
      "64                     No            ...                               No   \n",
      "65                     No            ...                               No   \n",
      "66                    Yes            ...                               No   \n",
      "67                     No            ...                               No   \n",
      "68                     No            ...                               No   \n",
      "69                    Yes            ...                              Yes   \n",
      "70                    Yes            ...                              Yes   \n",
      "71                    Yes            ...                              Yes   \n",
      "72                     No            ...                               No   \n",
      "73                    Yes            ...                               No   \n",
      "74                    Yes            ...                               No   \n",
      "75                     No            ...                              Yes   \n",
      "76                     No            ...                               No   \n",
      "77                     No            ...                               No   \n",
      "78                     No            ...                              Yes   \n",
      "79                    Yes            ...                               No   \n",
      "80                     No            ...                               No   \n",
      "81                     No            ...                               No   \n",
      "82                     No            ...                               No   \n",
      "83                     No            ...                               No   \n",
      "84                    Yes            ...                               No   \n",
      "...                   ...            ...                              ...   \n",
      "6958  No internet service            ...              No internet service   \n",
      "6959  No internet service            ...              No internet service   \n",
      "6960  No internet service            ...              No internet service   \n",
      "6961  No internet service            ...              No internet service   \n",
      "6962  No internet service            ...              No internet service   \n",
      "6963  No internet service            ...              No internet service   \n",
      "6964  No internet service            ...              No internet service   \n",
      "6965  No internet service            ...              No internet service   \n",
      "6966  No internet service            ...              No internet service   \n",
      "6967  No internet service            ...              No internet service   \n",
      "6968  No internet service            ...              No internet service   \n",
      "6969  No internet service            ...              No internet service   \n",
      "6970  No internet service            ...              No internet service   \n",
      "6971  No internet service            ...              No internet service   \n",
      "6972  No internet service            ...              No internet service   \n",
      "6973  No internet service            ...              No internet service   \n",
      "6974  No internet service            ...              No internet service   \n",
      "6975  No internet service            ...              No internet service   \n",
      "6976  No internet service            ...              No internet service   \n",
      "6977  No internet service            ...              No internet service   \n",
      "6978  No internet service            ...              No internet service   \n",
      "6979  No internet service            ...              No internet service   \n",
      "6980  No internet service            ...              No internet service   \n",
      "6981  No internet service            ...              No internet service   \n",
      "6982  No internet service            ...              No internet service   \n",
      "6983  No internet service            ...              No internet service   \n",
      "6984  No internet service            ...              No internet service   \n",
      "6985  No internet service            ...              No internet service   \n",
      "6986  No internet service            ...              No internet service   \n",
      "6987  No internet service            ...              No internet service   \n",
      "6988  No internet service            ...              No internet service   \n",
      "6989  No internet service            ...              No internet service   \n",
      "6990  No internet service            ...              No internet service   \n",
      "6991  No internet service            ...              No internet service   \n",
      "6992  No internet service            ...              No internet service   \n",
      "6993  No internet service            ...              No internet service   \n",
      "6994  No internet service            ...              No internet service   \n",
      "6995  No internet service            ...              No internet service   \n",
      "6996  No internet service            ...              No internet service   \n",
      "6997  No internet service            ...              No internet service   \n",
      "6998  No internet service            ...              No internet service   \n",
      "6999  No internet service            ...              No internet service   \n",
      "7000  No internet service            ...              No internet service   \n",
      "7001  No internet service            ...              No internet service   \n",
      "7002  No internet service            ...              No internet service   \n",
      "7003  No internet service            ...              No internet service   \n",
      "7004  No internet service            ...              No internet service   \n",
      "7005  No internet service            ...              No internet service   \n",
      "7006  No internet service            ...              No internet service   \n",
      "7007  No internet service            ...              No internet service   \n",
      "7008  No internet service            ...              No internet service   \n",
      "7009  No internet service            ...              No internet service   \n",
      "7010  No internet service            ...              No internet service   \n",
      "7011  No internet service            ...              No internet service   \n",
      "7012  No internet service            ...              No internet service   \n",
      "7013  No internet service            ...              No internet service   \n",
      "7014  No internet service            ...              No internet service   \n",
      "7015  No internet service            ...              No internet service   \n",
      "7016  No internet service            ...              No internet service   \n",
      "7017  No internet service            ...              No internet service   \n",
      "7018  No internet service            ...              No internet service   \n",
      "7019  No internet service            ...              No internet service   \n",
      "7020  No internet service            ...              No internet service   \n",
      "7021  No internet service            ...              No internet service   \n",
      "7022  No internet service            ...              No internet service   \n",
      "7023  No internet service            ...              No internet service   \n",
      "7024  No internet service            ...              No internet service   \n",
      "7025  No internet service            ...              No internet service   \n",
      "7026  No internet service            ...              No internet service   \n",
      "7027  No internet service            ...              No internet service   \n",
      "7028  No internet service            ...              No internet service   \n",
      "7029  No internet service            ...              No internet service   \n",
      "7030  No internet service            ...              No internet service   \n",
      "7031  No internet service            ...              No internet service   \n",
      "7032  No internet service            ...              No internet service   \n",
      "7033  No internet service            ...              No internet service   \n",
      "7034  No internet service            ...              No internet service   \n",
      "7035  No internet service            ...              No internet service   \n",
      "7036  No internet service            ...              No internet service   \n",
      "7037  No internet service            ...              No internet service   \n",
      "7038  No internet service            ...              No internet service   \n",
      "7039  No internet service            ...              No internet service   \n",
      "7040  No internet service            ...              No internet service   \n",
      "7041  No internet service            ...              No internet service   \n",
      "7042  No internet service            ...              No internet service   \n",
      "\n",
      "     contract_type_id paperless_billing payment_type_id monthly_charges  \\\n",
      "0                   1                No               2           59.90   \n",
      "1                   1               Yes               4           69.40   \n",
      "2                   1               Yes               1           48.20   \n",
      "3                   1               Yes               1           25.10   \n",
      "4                   1                No               3           30.50   \n",
      "5                   1               Yes               1           49.25   \n",
      "6                   1               Yes               2           45.00   \n",
      "7                   1               Yes               2           44.30   \n",
      "8                   1                No               1           50.35   \n",
      "9                   1               Yes               2           64.50   \n",
      "10                  1               Yes               3           71.40   \n",
      "11                  1                No               3           40.20   \n",
      "12                  1                No               2           45.80   \n",
      "13                  1               Yes               1           54.20   \n",
      "14                  1               Yes               1           74.75   \n",
      "15                  1               Yes               1           50.35   \n",
      "16                  1               Yes               4           48.80   \n",
      "17                  1                No               1           47.15   \n",
      "18                  1               Yes               1           44.30   \n",
      "19                  1                No               1           59.55   \n",
      "20                  1               Yes               1           50.10   \n",
      "21                  1                No               3           62.45   \n",
      "22                  1               Yes               2           72.90   \n",
      "23                  1                No               2           58.85   \n",
      "24                  1               Yes               1           54.40   \n",
      "25                  1               Yes               2           29.30   \n",
      "26                  1               Yes               4           54.75   \n",
      "27                  1                No               1           60.55   \n",
      "28                  1               Yes               1           86.20   \n",
      "29                  1               Yes               4           63.95   \n",
      "30                  1               Yes               1           49.45   \n",
      "31                  1                No               2           55.15   \n",
      "32                  1               Yes               4           58.70   \n",
      "33                  1                No               1           45.35   \n",
      "34                  1               Yes               2           48.55   \n",
      "35                  1               Yes               3           45.90   \n",
      "36                  1                No               1           50.15   \n",
      "37                  1                No               1           44.60   \n",
      "38                  1               Yes               1           34.70   \n",
      "39                  1               Yes               2           57.95   \n",
      "40                  1                No               4           64.40   \n",
      "41                  1               Yes               3           55.30   \n",
      "42                  1               Yes               1           60.25   \n",
      "43                  1                No               2           44.40   \n",
      "44                  1                No               2           25.50   \n",
      "45                  1                No               2           49.20   \n",
      "46                  1               Yes               1           49.00   \n",
      "47                  1               Yes               2           50.15   \n",
      "48                  1               Yes               3           45.30   \n",
      "49                  1               Yes               3           56.75   \n",
      "50                  1                No               1           54.20   \n",
      "51                  1               Yes               1           50.50   \n",
      "52                  1               Yes               2           62.15   \n",
      "53                  1                No               2           73.35   \n",
      "54                  1                No               1           61.40   \n",
      "55                  1               Yes               3           78.35   \n",
      "56                  1               Yes               1           49.85   \n",
      "57                  1                No               1           46.35   \n",
      "58                  1               Yes               2           69.85   \n",
      "59                  1                No               1           25.25   \n",
      "60                  1                No               1           25.05   \n",
      "61                  1               Yes               1           45.55   \n",
      "62                  1               Yes               3           48.45   \n",
      "63                  1               Yes               1           41.90   \n",
      "64                  1                No               3           48.95   \n",
      "65                  1               Yes               2           25.80   \n",
      "66                  1                No               1           28.50   \n",
      "67                  1               Yes               1           54.65   \n",
      "68                  1                No               1           54.15   \n",
      "69                  1               Yes               3           58.75   \n",
      "70                  1               Yes               3           68.25   \n",
      "71                  1               Yes               1           65.85   \n",
      "72                  1                No               2           65.00   \n",
      "73                  1               Yes               2           61.65   \n",
      "74                  1               Yes               3           55.65   \n",
      "75                  1                No               2           70.70   \n",
      "76                  1                No               2           50.05   \n",
      "77                  1               Yes               1           25.05   \n",
      "78                  1                No               1           45.30   \n",
      "79                  1               Yes               3           65.15   \n",
      "80                  1               Yes               4           34.70   \n",
      "81                  1               Yes               2           39.00   \n",
      "82                  1                No               1           46.30   \n",
      "83                  1                No               1           25.20   \n",
      "84                  1               Yes               2           55.10   \n",
      "...               ...               ...             ...             ...   \n",
      "6958                3               Yes               3           25.40   \n",
      "6959                3               Yes               2           24.80   \n",
      "6960                3                No               2           20.45   \n",
      "6961                3                No               2           19.85   \n",
      "6962                3                No               2           20.75   \n",
      "6963                3                No               3           24.30   \n",
      "6964                3                No               3           19.35   \n",
      "6965                3                No               4           24.80   \n",
      "6966                3                No               3           19.80   \n",
      "6967                3                No               3           19.50   \n",
      "6968                3                No               2           25.40   \n",
      "6969                3                No               4           24.65   \n",
      "6970                3               Yes               4           25.65   \n",
      "6971                3               Yes               2           20.60   \n",
      "6972                3                No               2           19.25   \n",
      "6973                3               Yes               2           23.80   \n",
      "6974                3                No               2           20.35   \n",
      "6975                3                No               2           25.20   \n",
      "6976                3                No               2           19.90   \n",
      "6977                3               Yes               4           20.85   \n",
      "6978                3                No               2           19.85   \n",
      "6979                3                No               4           19.65   \n",
      "6980                3                No               2           19.35   \n",
      "6981                3                No               2           25.25   \n",
      "6982                3                No               4           20.15   \n",
      "6983                3                No               4           25.10   \n",
      "6984                3                No               3           19.45   \n",
      "6985                3                No               2           20.15   \n",
      "6986                3                No               2           20.85   \n",
      "6987                3                No               3           20.15   \n",
      "6988                3                No               4           20.25   \n",
      "6989                3                No               2           20.80   \n",
      "6990                3                No               2           25.00   \n",
      "6991                3                No               4           26.10   \n",
      "6992                3               Yes               3           19.70   \n",
      "6993                3                No               4           19.65   \n",
      "6994                3                No               3           25.00   \n",
      "6995                3                No               2           20.90   \n",
      "6996                3               Yes               3           24.10   \n",
      "6997                3                No               2           19.75   \n",
      "6998                3                No               2           20.00   \n",
      "6999                3                No               3           20.10   \n",
      "7000                3               Yes               4           25.30   \n",
      "7001                3               Yes               4           25.30   \n",
      "7002                3                No               2           24.35   \n",
      "7003                3                No               2           19.85   \n",
      "7004                3               Yes               2           19.85   \n",
      "7005                3                No               2           20.60   \n",
      "7006                3                No               4           24.60   \n",
      "7007                3               Yes               2           19.95   \n",
      "7008                3                No               2           19.60   \n",
      "7009                3               Yes               4           25.10   \n",
      "7010                3               Yes               2           19.10   \n",
      "7011                3                No               2           20.25   \n",
      "7012                3                No               2           20.00   \n",
      "7013                3                No               3           19.90   \n",
      "7014                3                No               2           19.75   \n",
      "7015                3                No               2           19.20   \n",
      "7016                3                No               3           25.40   \n",
      "7017                3               Yes               2           20.00   \n",
      "7018                3               Yes               4           19.90   \n",
      "7019                3               Yes               2           24.45   \n",
      "7020                3                No               2           19.80   \n",
      "7021                3                No               2           19.70   \n",
      "7022                3                No               2           19.25   \n",
      "7023                3                No               2           19.65   \n",
      "7024                3               Yes               4           24.65   \n",
      "7025                3                No               4           25.05   \n",
      "7026                3               Yes               4           24.70   \n",
      "7027                3               Yes               1           24.50   \n",
      "7028                3                No               2           20.15   \n",
      "7029                3               Yes               4           25.85   \n",
      "7030                3                No               3           18.40   \n",
      "7031                3               Yes               1           21.10   \n",
      "7032                3                No               4           20.00   \n",
      "7033                3                No               4           19.50   \n",
      "7034                3                No               2           26.10   \n",
      "7035                3                No               4           19.85   \n",
      "7036                3                No               3           19.70   \n",
      "7037                3               Yes               2           18.70   \n",
      "7038                3               Yes               4           20.30   \n",
      "7039                3                No               2           25.25   \n",
      "7040                3               Yes               4           24.40   \n",
      "7041                3               Yes               3           19.25   \n",
      "7042                3                No               4           19.75   \n",
      "\n",
      "      total_charges churn   contract_type  internet_service_type  \\\n",
      "0             542.4    No  Month-to-month                    DSL   \n",
      "1            571.45    No  Month-to-month                    DSL   \n",
      "2            340.35    No  Month-to-month                    DSL   \n",
      "3              25.1   Yes  Month-to-month                    DSL   \n",
      "4              30.5   Yes  Month-to-month                    DSL   \n",
      "5              91.1   Yes  Month-to-month                    DSL   \n",
      "6           1242.45    No  Month-to-month                    DSL   \n",
      "7              44.3    No  Month-to-month                    DSL   \n",
      "8            314.55    No  Month-to-month                    DSL   \n",
      "9           1888.45    No  Month-to-month                    DSL   \n",
      "10           1212.1    No  Month-to-month                    DSL   \n",
      "11           1448.8   Yes  Month-to-month                    DSL   \n",
      "12             1147    No  Month-to-month                    DSL   \n",
      "13           1152.7   Yes  Month-to-month                    DSL   \n",
      "14           2111.3    No  Month-to-month                    DSL   \n",
      "15          1098.85    No  Month-to-month                    DSL   \n",
      "16          2555.05    No  Month-to-month                    DSL   \n",
      "17           223.15   Yes  Month-to-month                    DSL   \n",
      "18             89.3    No  Month-to-month                    DSL   \n",
      "19           1144.6    No  Month-to-month                    DSL   \n",
      "20             50.1    No  Month-to-month                    DSL   \n",
      "21          2045.55    No  Month-to-month                    DSL   \n",
      "22            651.4   Yes  Month-to-month                    DSL   \n",
      "23            465.7    No  Month-to-month                    DSL   \n",
      "24            475.1    No  Month-to-month                    DSL   \n",
      "25            355.9    No  Month-to-month                    DSL   \n",
      "26           1510.3    No  Month-to-month                    DSL   \n",
      "27           1982.6    No  Month-to-month                    DSL   \n",
      "28          4524.05    No  Month-to-month                    DSL   \n",
      "29            318.1    No  Month-to-month                    DSL   \n",
      "30            314.6    No  Month-to-month                    DSL   \n",
      "31            322.9    No  Month-to-month                    DSL   \n",
      "32            168.6    No  Month-to-month                    DSL   \n",
      "33             89.5   Yes  Month-to-month                    DSL   \n",
      "34            48.55   Yes  Month-to-month                    DSL   \n",
      "35            521.9    No  Month-to-month                    DSL   \n",
      "36            50.15    No  Month-to-month                    DSL   \n",
      "37            122.7    No  Month-to-month                    DSL   \n",
      "38             34.7   Yes  Month-to-month                    DSL   \n",
      "39           1271.8    No  Month-to-month                    DSL   \n",
      "40           1398.6    No  Month-to-month                    DSL   \n",
      "41           1284.2    No  Month-to-month                    DSL   \n",
      "42            170.5    No  Month-to-month                    DSL   \n",
      "43             44.4   Yes  Month-to-month                    DSL   \n",
      "44            215.2   Yes  Month-to-month                    DSL   \n",
      "45            447.9    No  Month-to-month                    DSL   \n",
      "46           749.25    No  Month-to-month                    DSL   \n",
      "47           2139.1    No  Month-to-month                    DSL   \n",
      "48             2145   Yes  Month-to-month                    DSL   \n",
      "49           503.25    No  Month-to-month                    DSL   \n",
      "50           308.25   Yes  Month-to-month                    DSL   \n",
      "51           2566.3    No  Month-to-month                    DSL   \n",
      "52            113.1    No  Month-to-month                    DSL   \n",
      "53           931.55    No  Month-to-month                    DSL   \n",
      "54            438.9    No  Month-to-month                    DSL   \n",
      "55           1837.9    No  Month-to-month                    DSL   \n",
      "56           365.55   Yes  Month-to-month                    DSL   \n",
      "57            667.7   Yes  Month-to-month                    DSL   \n",
      "58            837.5    No  Month-to-month                    DSL   \n",
      "59            25.25   Yes  Month-to-month                    DSL   \n",
      "60            25.05   Yes  Month-to-month                    DSL   \n",
      "61            402.6   Yes  Month-to-month                    DSL   \n",
      "62            48.45    No  Month-to-month                    DSL   \n",
      "63            840.1   Yes  Month-to-month                    DSL   \n",
      "64           1323.7    No  Month-to-month                    DSL   \n",
      "65             25.8   Yes  Month-to-month                    DSL   \n",
      "66           629.35    No  Month-to-month                    DSL   \n",
      "67            54.65    No  Month-to-month                    DSL   \n",
      "68          1312.45    No  Month-to-month                    DSL   \n",
      "69          3437.45    No  Month-to-month                    DSL   \n",
      "70           576.95    No  Month-to-month                    DSL   \n",
      "71           902.25    No  Month-to-month                    DSL   \n",
      "72           2157.5    No  Month-to-month                    DSL   \n",
      "73           713.75   Yes  Month-to-month                    DSL   \n",
      "74          1400.55   Yes  Month-to-month                    DSL   \n",
      "75           225.65    No  Month-to-month                    DSL   \n",
      "76           179.35   Yes  Month-to-month                    DSL   \n",
      "77            56.35   Yes  Month-to-month                    DSL   \n",
      "78           528.45    No  Month-to-month                    DSL   \n",
      "79           723.35    No  Month-to-month                    DSL   \n",
      "80            296.1   Yes  Month-to-month                    DSL   \n",
      "81           679.85   Yes  Month-to-month                    DSL   \n",
      "82           639.45    No  Month-to-month                    DSL   \n",
      "83           321.05    No  Month-to-month                    DSL   \n",
      "84           154.65   Yes  Month-to-month                    DSL   \n",
      "...             ...   ...             ...                    ...   \n",
      "6958            313    No        Two year                   None   \n",
      "6959         1424.2    No        Two year                   None   \n",
      "6960        1042.65    No        Two year                   None   \n",
      "6961        1188.25    No        Two year                   None   \n",
      "6962        1123.15    No        Two year                   None   \n",
      "6963         1778.7    No        Two year                   None   \n",
      "6964        1319.95    No        Two year                   None   \n",
      "6965         1874.3    No        Two year                   None   \n",
      "6966        1378.75    No        Two year                   None   \n",
      "6967         1167.6    No        Two year                   None   \n",
      "6968         1797.1    No        Two year                   None   \n",
      "6969         1574.5    No        Two year                   None   \n",
      "6970           1388    No        Two year                   None   \n",
      "6971         1298.7    No        Two year                   None   \n",
      "6972        1237.65    No        Two year                   None   \n",
      "6973          903.8    No        Two year                   None   \n",
      "6974         689.75    No        Two year                   None   \n",
      "6975         987.95    No        Two year                   None   \n",
      "6976          868.1    No        Two year                   None   \n",
      "6977         435.25    No        Two year                   None   \n",
      "6978         784.25    No        Two year                   None   \n",
      "6979        1161.75    No        Two year                   None   \n",
      "6980          867.3    No        Two year                   None   \n",
      "6981        1573.05    No        Two year                   None   \n",
      "6982         970.85    No        Two year                   None   \n",
      "6983         930.95    No        Two year                   None   \n",
      "6984         1303.5    No        Two year                   None   \n",
      "6985          387.7    No        Two year                   None   \n",
      "6986         161.65    No        Two year                   None   \n",
      "6987         777.35    No        Two year                   None   \n",
      "6988          873.4    No        Two year                   None   \n",
      "6989        1212.25    No        Two year                   None   \n",
      "6990        1505.05    No        Two year                   None   \n",
      "6991         225.55    No        Two year                   None   \n",
      "6992        1274.05    No        Two year                   None   \n",
      "6993         116.85    No        Two year                   None   \n",
      "6994           1753    No        Two year                   None   \n",
      "6995        1146.05    No        Two year                   None   \n",
      "6996          587.4    No        Two year                   None   \n",
      "6997         284.35    No        Two year                   None   \n",
      "6998          935.9    No        Two year                   None   \n",
      "6999        1078.75    No        Two year                   None   \n",
      "7000         1673.8    No        Two year                   None   \n",
      "7001         116.95    No        Two year                   None   \n",
      "7002         1654.6    No        Two year                   None   \n",
      "7003         1070.5    No        Two year                   None   \n",
      "7004         739.35    No        Two year                   None   \n",
      "7005         581.85    No        Two year                   None   \n",
      "7006        1678.05    No        Two year                   None   \n",
      "7007          756.4    No        Two year                   None   \n",
      "7008          197.4    No        Two year                   None   \n",
      "7009         1790.8    No        Two year                   None   \n",
      "7010        1268.85    No        Two year                   None   \n",
      "7011        1048.45    No        Two year                   None   \n",
      "7012        1149.65    No        Two year                   None   \n",
      "7013         1356.7    No        Two year                   None   \n",
      "7014         483.15    No        Two year                   None   \n",
      "7015        1054.75    No        Two year                   None   \n",
      "7016         1620.2    No        Two year                   None   \n",
      "7017          879.8    No        Two year                   None   \n",
      "7018         1022.6    No        Two year                   None   \n",
      "7019        1385.85    No        Two year                   None   \n",
      "7020          813.3    No        Two year                   None   \n",
      "7021        1275.85    No        Two year                   None   \n",
      "7022          677.9    No        Two year                   None   \n",
      "7023          973.1    No        Two year                   None   \n",
      "7024         471.35    No        Two year                   None   \n",
      "7025         963.95    No        Two year                   None   \n",
      "7026           1519    No        Two year                   None   \n",
      "7027         1816.2    No        Two year                   None   \n",
      "7028            826    No        Two year                   None   \n",
      "7029         788.55    No        Two year                   None   \n",
      "7030        1057.85    No        Two year                   None   \n",
      "7031          937.1    No        Two year                   None   \n",
      "7032         1374.2    No        Two year                   None   \n",
      "7033         1050.5    No        Two year                   None   \n",
      "7034        1851.45    No        Two year                   None   \n",
      "7035            916    No        Two year                   None   \n",
      "7036         804.25    No        Two year                   None   \n",
      "7037         383.65    No        Two year                   None   \n",
      "7038         487.95    No        Two year                   None   \n",
      "7039         1559.3    No        Two year                   None   \n",
      "7040         1725.4    No        Two year                   None   \n",
      "7041         1372.9    No        Two year                   None   \n",
      "7042          856.5    No        Two year                   None   \n",
      "\n",
      "                   payment_type  \n",
      "0                  Mailed check  \n",
      "1       Credit card (automatic)  \n",
      "2              Electronic check  \n",
      "3              Electronic check  \n",
      "4     Bank transfer (automatic)  \n",
      "5              Electronic check  \n",
      "6                  Mailed check  \n",
      "7                  Mailed check  \n",
      "8              Electronic check  \n",
      "9                  Mailed check  \n",
      "10    Bank transfer (automatic)  \n",
      "11    Bank transfer (automatic)  \n",
      "12                 Mailed check  \n",
      "13             Electronic check  \n",
      "14             Electronic check  \n",
      "15             Electronic check  \n",
      "16      Credit card (automatic)  \n",
      "17             Electronic check  \n",
      "18             Electronic check  \n",
      "19             Electronic check  \n",
      "20             Electronic check  \n",
      "21    Bank transfer (automatic)  \n",
      "22                 Mailed check  \n",
      "23                 Mailed check  \n",
      "24             Electronic check  \n",
      "25                 Mailed check  \n",
      "26      Credit card (automatic)  \n",
      "27             Electronic check  \n",
      "28             Electronic check  \n",
      "29      Credit card (automatic)  \n",
      "30             Electronic check  \n",
      "31                 Mailed check  \n",
      "32      Credit card (automatic)  \n",
      "33             Electronic check  \n",
      "34                 Mailed check  \n",
      "35    Bank transfer (automatic)  \n",
      "36             Electronic check  \n",
      "37             Electronic check  \n",
      "38             Electronic check  \n",
      "39                 Mailed check  \n",
      "40      Credit card (automatic)  \n",
      "41    Bank transfer (automatic)  \n",
      "42             Electronic check  \n",
      "43                 Mailed check  \n",
      "44                 Mailed check  \n",
      "45                 Mailed check  \n",
      "46             Electronic check  \n",
      "47                 Mailed check  \n",
      "48    Bank transfer (automatic)  \n",
      "49    Bank transfer (automatic)  \n",
      "50             Electronic check  \n",
      "51             Electronic check  \n",
      "52                 Mailed check  \n",
      "53                 Mailed check  \n",
      "54             Electronic check  \n",
      "55    Bank transfer (automatic)  \n",
      "56             Electronic check  \n",
      "57             Electronic check  \n",
      "58                 Mailed check  \n",
      "59             Electronic check  \n",
      "60             Electronic check  \n",
      "61             Electronic check  \n",
      "62    Bank transfer (automatic)  \n",
      "63             Electronic check  \n",
      "64    Bank transfer (automatic)  \n",
      "65                 Mailed check  \n",
      "66             Electronic check  \n",
      "67             Electronic check  \n",
      "68             Electronic check  \n",
      "69    Bank transfer (automatic)  \n",
      "70    Bank transfer (automatic)  \n",
      "71             Electronic check  \n",
      "72                 Mailed check  \n",
      "73                 Mailed check  \n",
      "74    Bank transfer (automatic)  \n",
      "75                 Mailed check  \n",
      "76                 Mailed check  \n",
      "77             Electronic check  \n",
      "78             Electronic check  \n",
      "79    Bank transfer (automatic)  \n",
      "80      Credit card (automatic)  \n",
      "81                 Mailed check  \n",
      "82             Electronic check  \n",
      "83             Electronic check  \n",
      "84                 Mailed check  \n",
      "...                         ...  \n",
      "6958  Bank transfer (automatic)  \n",
      "6959               Mailed check  \n",
      "6960               Mailed check  \n",
      "6961               Mailed check  \n",
      "6962               Mailed check  \n",
      "6963  Bank transfer (automatic)  \n",
      "6964  Bank transfer (automatic)  \n",
      "6965    Credit card (automatic)  \n",
      "6966  Bank transfer (automatic)  \n",
      "6967  Bank transfer (automatic)  \n",
      "6968               Mailed check  \n",
      "6969    Credit card (automatic)  \n",
      "6970    Credit card (automatic)  \n",
      "6971               Mailed check  \n",
      "6972               Mailed check  \n",
      "6973               Mailed check  \n",
      "6974               Mailed check  \n",
      "6975               Mailed check  \n",
      "6976               Mailed check  \n",
      "6977    Credit card (automatic)  \n",
      "6978               Mailed check  \n",
      "6979    Credit card (automatic)  \n",
      "6980               Mailed check  \n",
      "6981               Mailed check  \n",
      "6982    Credit card (automatic)  \n",
      "6983    Credit card (automatic)  \n",
      "6984  Bank transfer (automatic)  \n",
      "6985               Mailed check  \n",
      "6986               Mailed check  \n",
      "6987  Bank transfer (automatic)  \n",
      "6988    Credit card (automatic)  \n",
      "6989               Mailed check  \n",
      "6990               Mailed check  \n",
      "6991    Credit card (automatic)  \n",
      "6992  Bank transfer (automatic)  \n",
      "6993    Credit card (automatic)  \n",
      "6994  Bank transfer (automatic)  \n",
      "6995               Mailed check  \n",
      "6996  Bank transfer (automatic)  \n",
      "6997               Mailed check  \n",
      "6998               Mailed check  \n",
      "6999  Bank transfer (automatic)  \n",
      "7000    Credit card (automatic)  \n",
      "7001    Credit card (automatic)  \n",
      "7002               Mailed check  \n",
      "7003               Mailed check  \n",
      "7004               Mailed check  \n",
      "7005               Mailed check  \n",
      "7006    Credit card (automatic)  \n",
      "7007               Mailed check  \n",
      "7008               Mailed check  \n",
      "7009    Credit card (automatic)  \n",
      "7010               Mailed check  \n",
      "7011               Mailed check  \n",
      "7012               Mailed check  \n",
      "7013  Bank transfer (automatic)  \n",
      "7014               Mailed check  \n",
      "7015               Mailed check  \n",
      "7016  Bank transfer (automatic)  \n",
      "7017               Mailed check  \n",
      "7018    Credit card (automatic)  \n",
      "7019               Mailed check  \n",
      "7020               Mailed check  \n",
      "7021               Mailed check  \n",
      "7022               Mailed check  \n",
      "7023               Mailed check  \n",
      "7024    Credit card (automatic)  \n",
      "7025    Credit card (automatic)  \n",
      "7026    Credit card (automatic)  \n",
      "7027           Electronic check  \n",
      "7028               Mailed check  \n",
      "7029    Credit card (automatic)  \n",
      "7030  Bank transfer (automatic)  \n",
      "7031           Electronic check  \n",
      "7032    Credit card (automatic)  \n",
      "7033    Credit card (automatic)  \n",
      "7034               Mailed check  \n",
      "7035    Credit card (automatic)  \n",
      "7036  Bank transfer (automatic)  \n",
      "7037               Mailed check  \n",
      "7038    Credit card (automatic)  \n",
      "7039               Mailed check  \n",
      "7040    Credit card (automatic)  \n",
      "7041  Bank transfer (automatic)  \n",
      "7042    Credit card (automatic)  \n",
      "\n",
      "[7043 rows x 24 columns]>\n"
     ]
    }
   ],
   "source": [
    "def peekatdata(df):\n",
    "    print('First five rows of the dataframe:')\n",
    "    head_df = df.head()\n",
    "    print(head_df)\n",
    "    print('\\n')\n",
    "    print('Last five rows of the dataframe:')\n",
    "    tail_df = df.tail()\n",
    "    print(tail_df)\n",
    "    print('\\n')\n",
    "    print('Shape of the dataframe:')\n",
    "    shape_tuple = df.shape\n",
    "    print(shape_tuple)\n",
    "    print('\\n')\n",
    "    print('Describe dataframe:')\n",
    "    describe_df = df.describe()\n",
    "    print(describe_df)\n",
    "    print('\\n')\n",
    "    print('Data types of each column:')\n",
    "    print(df.dtypes)\n",
    "    print('\\n')\n",
    "    print('Non-nulls in each column:')\n",
    "    print(df.info())\n",
    "    print('\\n')\n",
    "    print('Memory usage:')\n",
    "    print(df.memory_usage)\n",
    "\n",
    "peekatdata(df)"
   ]
  },
  {
   "cell_type": "markdown",
   "metadata": {},
   "source": [
    "### Data Prep\n",
    "1. Write a function, df_value_counts(dataframe), that takes a dataframe as input and computes and returns the values by frequency for each column. The function should decide whether or not to bin the data for the value counts.\n",
    "\n",
    "\n",
    "2. Handle Missing Values\n",
    "    - Explore the data and see if there are any missing values.\n",
    "    \n",
    "    Write a function that accepts a dataframe and returns the names of the columns that have missing values, and the percent of missing values in each column that has missing values.\n",
    "\n",
    "    - Document your takeaways. For each variable:\n",
    "\n",
    "        - should you remove the observations with a missing value for that variable?\n",
    "        - should you remove the variable altogether?\n",
    "        - is missing equivalent to 0 (or some other constant value) in the specific case of this variable?\n",
    "        - should you replace the missing values with a value it is most likely to represent (e.g. Are the missing values a result of data integrity issues and should be replaced by the most likely value?)\n",
    "        \n",
    "    - Handle the missing values in the way you recommended above.\n",
    "\n",
    "3. Transform churn such that \"yes\" = 1 and \"no\" = 0\n",
    "\n",
    "4. Compute a new feature, tenure_year, that is a result of translating tenure from months to years.\n",
    "\n",
    "5. Figure out a way to capture the information contained in phone_service and multiple_lines into a single variable of dtype int. Write a function that will transform the data and place in a new column named phone_id.\n",
    "\n",
    "6. Figure out a way to capture the information contained in dependents and partner into a single variable of dtype int. Transform the data and place in a new column household_type_id.\n",
    "\n",
    "7. Figure out a way to capture the information contained in streaming_tv and streaming_movies into a single variable of dtype int. Transform the data and place in a new column streaming_services.\n",
    "\n",
    "8. Figure out a way to capture the information contained in online_security and online_backup into a single variable of dtype int. Transform the data and place in a new column online_security_backup.\n",
    "\n",
    "9. Split the data into train (70%) & test (30%) samples.\n",
    "\n",
    "10. Variable Encoding: encode the values in each non-numeric feature such that they are numeric.\n",
    "\n",
    "11. Numeric Scaling: scale the monthly_charges and total_charges data. Make sure that the parameters for scaling are learned from the training data set."
   ]
  },
  {
   "cell_type": "markdown",
   "metadata": {},
   "source": [
    "### Data Exploration\n",
    "1. Could the month in which they signed up influence churn? i.e. if a cohort is identified by tenure, is there a cohort or cohorts who have a higher rate of churn than other cohorts? (Plot the rate of churn on a line chart where x is the tenure and y is the rate of churn (customers churned/total customers)).\n",
    "\n",
    "2. Are there features that indicate a higher propensity to churn? like type of internet service, type of phone service, online security and backup, senior citizens, paying more than x% of customers with the same services, etc.?\n",
    "\n",
    "3. Is there a price threshold for specific services where the likelihood of churn increases once price for those services goes past that point? If so, what is that point for what service(s)?\n",
    "\n",
    "4. If we looked at churn rate for month-to-month customers after the 12th month and that of 1-year contract customers after the 12th month, are those rates comparable?\n",
    "\n",
    "5. Controlling for services (phone_id, internet_service_type_id, online_security_backup, device_protection, tech_support, and contract_type_id), is the mean monthly_charges of those who have churned significantly different from that of those who have not churned? (Use a t-test to answer this.)\n",
    "\n",
    "6. How much of monthly_charges can be explained by internet_service_type? (hint: correlation test). State your hypotheses and your conclusion clearly.\n",
    "\n",
    "7. How much of monthly_charges can be explained by internet_service_type + phone service type (0, 1, or multiple lines). State your hypotheses and your conclusion clearly.\n",
    "\n",
    "8. Create visualizations exploring the interactions of variables (independent with independent and independent with dependent). The goal is to identify features that are related to churn, identify any data integrity issues, understand 'how the data works'. For example, we may find that all who have online services also have device protection. In that case, we don't need both of those. (The visualizations done in your analysis for questions 1-5 count towards the requirements below)\n",
    "\n",
    "    - Each independent variable (except for customer_id) should be visualized in at least two plots, and at least 1 of those compares the independent variable with the dependent variable.\n",
    "\n",
    "    - For each plot where x and y are independent variables, add a third dimension (where possible), of churn represented by color.\n",
    "\n",
    "    - Use subplots when plotting the same type of chart but with different variables.\n",
    "\n",
    "    - Adjust the axes as necessary to extract information from the visualizations (adjusting the x & y limits, setting the scale where needed, etc.)\n",
    "\n",
    "    - Add annotations to at least 5 plots with a key takeaway from that plot.\n",
    "\n",
    "    - Use plots from matplotlib, pandas and seaborn.\n",
    "\n",
    "    - Use each of the following:\n",
    "\n",
    "        - sns.heatmap\n",
    "        - pd.crosstab (along with sns.heatmap)\n",
    "        - pd.scatter_matrix\n",
    "        - sns.barplot\n",
    "        - sns.swarmplot\n",
    "        - sns.pairplot\n",
    "        - sns.jointplot\n",
    "        - sns.relplot or plt.scatter\n",
    "        - sns.distplot or plt.hist\n",
    "        - sns.boxplot\n",
    "        - plt.plot\n",
    "    - Use at least one more type of plot that is not included in the list above.\n",
    "\n",
    "9. What can you say about each variable's relationship to churn, based on your initial exploration? If there appears to be some sort of interaction or correlation, assume there is no causal relationship and brainstorm (and document) ideas on reasons there could be correlation.\n",
    "\n",
    "10. Summarize your conclusions, provide clear answers to the specific questions, and summarize any takeaways/action plan from the work above."
   ]
  },
  {
   "cell_type": "markdown",
   "metadata": {},
   "source": [
    "- phone_service: does the customer have phone service?\n",
    "    - yes\n",
    "    - no\n",
    "- multiple_lines: does the customer have multiple lines? \n",
    "    - yes\n",
    "    - no\n",
    "    - no phone service.\n",
    "- internet_service_type_id: id of type of internet service.\n",
    "    - 1 = DSL\n",
    "    - 2 = Fiber Optic\n",
    "    - 3 = none"
   ]
  },
  {
   "cell_type": "code",
   "execution_count": 15,
   "metadata": {},
   "outputs": [],
   "source": [
    "# take only the relevant columns DF\n",
    "colnames = ['phone_service', 'multiple_lines', 'internet_service_type_id','contract_type', 'churn']\n",
    "df_lines = df[colnames]"
   ]
  },
  {
   "cell_type": "code",
   "execution_count": 16,
   "metadata": {},
   "outputs": [
    {
     "data": {
      "text/plain": [
       "array(['Month-to-month', 'One year', 'Two year'], dtype=object)"
      ]
     },
     "execution_count": 16,
     "metadata": {},
     "output_type": "execute_result"
    }
   ],
   "source": [
    "df_lines.contract_type.unique()"
   ]
  },
  {
   "cell_type": "code",
   "execution_count": 17,
   "metadata": {},
   "outputs": [],
   "source": [
    "df_lines.contract_type = [x.strip().replace(\" \", \"_\") for x in df_lines.contract_type]"
   ]
  },
  {
   "cell_type": "code",
   "execution_count": 18,
   "metadata": {},
   "outputs": [
    {
     "data": {
      "text/plain": [
       "array(['Month-to-month', 'One_year', 'Two_year'], dtype=object)"
      ]
     },
     "execution_count": 18,
     "metadata": {},
     "output_type": "execute_result"
    }
   ],
   "source": [
    "df_lines.contract_type.unique()"
   ]
  },
  {
   "cell_type": "code",
   "execution_count": 19,
   "metadata": {},
   "outputs": [],
   "source": [
    "def encode_yes_no_columns(df):\n",
    "    cleanup_nums = {'phone_service':     {'Yes': 1, 'No': 0},\n",
    "                    'multiple_lines': {'Yes': 1, 'No': 0, 'No phone service': 0},\n",
    "                    'contract_type': {'Month-to-month': 0, 'One_year': 1, 'Two_year': 2},\n",
    "                    'churn':  {'Yes': 1, 'No': 0}}\n",
    "\n",
    "    df.replace(cleanup_nums, inplace=True)"
   ]
  },
  {
   "cell_type": "code",
   "execution_count": 20,
   "metadata": {},
   "outputs": [
    {
     "data": {
      "text/html": [
       "<div>\n",
       "<style scoped>\n",
       "    .dataframe tbody tr th:only-of-type {\n",
       "        vertical-align: middle;\n",
       "    }\n",
       "\n",
       "    .dataframe tbody tr th {\n",
       "        vertical-align: top;\n",
       "    }\n",
       "\n",
       "    .dataframe thead th {\n",
       "        text-align: right;\n",
       "    }\n",
       "</style>\n",
       "<table border=\"1\" class=\"dataframe\">\n",
       "  <thead>\n",
       "    <tr style=\"text-align: right;\">\n",
       "      <th></th>\n",
       "      <th>phone_service</th>\n",
       "      <th>multiple_lines</th>\n",
       "      <th>internet_service_type_id</th>\n",
       "      <th>contract_type</th>\n",
       "      <th>churn</th>\n",
       "    </tr>\n",
       "  </thead>\n",
       "  <tbody>\n",
       "    <tr>\n",
       "      <th>6369</th>\n",
       "      <td>1</td>\n",
       "      <td>1</td>\n",
       "      <td>3</td>\n",
       "      <td>1</td>\n",
       "      <td>0</td>\n",
       "    </tr>\n",
       "    <tr>\n",
       "      <th>6839</th>\n",
       "      <td>1</td>\n",
       "      <td>0</td>\n",
       "      <td>3</td>\n",
       "      <td>2</td>\n",
       "      <td>0</td>\n",
       "    </tr>\n",
       "    <tr>\n",
       "      <th>1693</th>\n",
       "      <td>1</td>\n",
       "      <td>0</td>\n",
       "      <td>1</td>\n",
       "      <td>1</td>\n",
       "      <td>0</td>\n",
       "    </tr>\n",
       "    <tr>\n",
       "      <th>381</th>\n",
       "      <td>0</td>\n",
       "      <td>0</td>\n",
       "      <td>1</td>\n",
       "      <td>0</td>\n",
       "      <td>0</td>\n",
       "    </tr>\n",
       "    <tr>\n",
       "      <th>6403</th>\n",
       "      <td>1</td>\n",
       "      <td>0</td>\n",
       "      <td>3</td>\n",
       "      <td>1</td>\n",
       "      <td>0</td>\n",
       "    </tr>\n",
       "    <tr>\n",
       "      <th>5773</th>\n",
       "      <td>1</td>\n",
       "      <td>0</td>\n",
       "      <td>3</td>\n",
       "      <td>0</td>\n",
       "      <td>0</td>\n",
       "    </tr>\n",
       "    <tr>\n",
       "      <th>4539</th>\n",
       "      <td>1</td>\n",
       "      <td>0</td>\n",
       "      <td>2</td>\n",
       "      <td>0</td>\n",
       "      <td>1</td>\n",
       "    </tr>\n",
       "    <tr>\n",
       "      <th>4396</th>\n",
       "      <td>1</td>\n",
       "      <td>1</td>\n",
       "      <td>2</td>\n",
       "      <td>0</td>\n",
       "      <td>0</td>\n",
       "    </tr>\n",
       "    <tr>\n",
       "      <th>6215</th>\n",
       "      <td>1</td>\n",
       "      <td>0</td>\n",
       "      <td>3</td>\n",
       "      <td>1</td>\n",
       "      <td>0</td>\n",
       "    </tr>\n",
       "    <tr>\n",
       "      <th>3447</th>\n",
       "      <td>1</td>\n",
       "      <td>0</td>\n",
       "      <td>2</td>\n",
       "      <td>0</td>\n",
       "      <td>0</td>\n",
       "    </tr>\n",
       "  </tbody>\n",
       "</table>\n",
       "</div>"
      ],
      "text/plain": [
       "      phone_service  multiple_lines  internet_service_type_id  contract_type  \\\n",
       "6369              1               1                         3              1   \n",
       "6839              1               0                         3              2   \n",
       "1693              1               0                         1              1   \n",
       "381               0               0                         1              0   \n",
       "6403              1               0                         3              1   \n",
       "5773              1               0                         3              0   \n",
       "4539              1               0                         2              0   \n",
       "4396              1               1                         2              0   \n",
       "6215              1               0                         3              1   \n",
       "3447              1               0                         2              0   \n",
       "\n",
       "      churn  \n",
       "6369      0  \n",
       "6839      0  \n",
       "1693      0  \n",
       "381       0  \n",
       "6403      0  \n",
       "5773      0  \n",
       "4539      1  \n",
       "4396      0  \n",
       "6215      0  \n",
       "3447      0  "
      ]
     },
     "execution_count": 20,
     "metadata": {},
     "output_type": "execute_result"
    }
   ],
   "source": [
    "encode_yes_no_columns(df_lines)\n",
    "df_lines.sample(10)"
   ]
  },
  {
   "cell_type": "markdown",
   "metadata": {},
   "source": [
    "### Modeling\n",
    "1. Feature Selection: Are there any variables that seem to provide limited to no additional information? If so, remove them.\n",
    "\n",
    "2. Train (fit, transform, evaluate) multiple different models, varying the model type and your meta-parameters.\n",
    "\n",
    "3. Compare evaluation metrics across all the models, and select the best performing model.\n",
    "\n",
    "4. Test the final model (transform, evaluate) on your out-of-sample data (the testing data set). Summarize the performance. Interpret your results."
   ]
  },
  {
   "cell_type": "markdown",
   "metadata": {},
   "source": [
    "#### Check to see if phone_service, multiple_lines, and/or internet_service_type_id are possible drivers for churn."
   ]
  },
  {
   "cell_type": "code",
   "execution_count": 21,
   "metadata": {},
   "outputs": [
    {
     "name": "stdout",
     "output_type": "stream",
     "text": [
      "DATAFRAME METADATA\n",
      "Size: 35215\n",
      "\n",
      "Shape: 7043 x 5\n",
      "\n",
      "Info:\n",
      "<class 'pandas.core.frame.DataFrame'>\n",
      "RangeIndex: 7043 entries, 0 to 7042\n",
      "Data columns (total 5 columns):\n",
      "phone_service               7043 non-null int64\n",
      "multiple_lines              7043 non-null int64\n",
      "internet_service_type_id    7043 non-null int64\n",
      "contract_type               7043 non-null int64\n",
      "churn                       7043 non-null int64\n",
      "dtypes: int64(5)\n",
      "memory usage: 275.2 KB\n",
      "\n",
      "Missing Values:\n",
      "\n",
      "No missing values\n",
      "Percentages of Missing Values are:\n",
      "phone_service               0.0\n",
      "multiple_lines              0.0\n",
      "internet_service_type_id    0.0\n",
      "contract_type               0.0\n",
      "churn                       0.0\n",
      "dtype: float64\n"
     ]
    }
   ],
   "source": [
    "df_print_metadata(df_lines)"
   ]
  },
  {
   "cell_type": "code",
   "execution_count": 22,
   "metadata": {},
   "outputs": [],
   "source": [
    "# NOT HELPFUL AT ALL\n",
    "# boxplot the variables\n",
    "# plt.figure(figsize=(15, 30))\n",
    "# for i, var in enumerate(colnames):\n",
    "#     plt.subplot(4, 3, i + 1)\n",
    "#     sns.boxplot(data=df_lines[var])\n",
    "#     plt.xlabel(var)\n",
    "#     #plt.yscale(\"log\")\n",
    "# plt.show()"
   ]
  },
  {
   "cell_type": "code",
   "execution_count": 23,
   "metadata": {},
   "outputs": [],
   "source": [
    "# NOT HELPFUL AT ALL\n",
    "# plt.figure(figsize=(15, 30))\n",
    "\n",
    "# plt.subplot(221)\n",
    "# numbins = np.arange(0, 1, 1)\n",
    "# sns.distplot(df_lines.phone_service, bins=numbins, kde=False)\n",
    "\n",
    "# plt.subplot(222)\n",
    "# sns.distplot(df_lines.multiple_lines, bins=numbins, kde=False)\n",
    "\n",
    "# plt.subplot(223)\n",
    "# sns.distplot(df_lines.internet_service_type_id, bins=numbins, kde=False)"
   ]
  },
  {
   "cell_type": "code",
   "execution_count": 24,
   "metadata": {},
   "outputs": [
    {
     "data": {
      "text/html": [
       "<div>\n",
       "<style scoped>\n",
       "    .dataframe tbody tr th:only-of-type {\n",
       "        vertical-align: middle;\n",
       "    }\n",
       "\n",
       "    .dataframe tbody tr th {\n",
       "        vertical-align: top;\n",
       "    }\n",
       "\n",
       "    .dataframe thead th {\n",
       "        text-align: right;\n",
       "    }\n",
       "</style>\n",
       "<table border=\"1\" class=\"dataframe\">\n",
       "  <thead>\n",
       "    <tr style=\"text-align: right;\">\n",
       "      <th></th>\n",
       "      <th>phone_service</th>\n",
       "      <th>multiple_lines</th>\n",
       "      <th>internet_service_type_id</th>\n",
       "      <th>contract_type</th>\n",
       "      <th>churn</th>\n",
       "      <th>monthly</th>\n",
       "    </tr>\n",
       "  </thead>\n",
       "  <tbody>\n",
       "    <tr>\n",
       "      <th>0</th>\n",
       "      <td>1</td>\n",
       "      <td>1</td>\n",
       "      <td>1</td>\n",
       "      <td>0</td>\n",
       "      <td>0</td>\n",
       "      <td>1</td>\n",
       "    </tr>\n",
       "    <tr>\n",
       "      <th>1</th>\n",
       "      <td>1</td>\n",
       "      <td>0</td>\n",
       "      <td>1</td>\n",
       "      <td>0</td>\n",
       "      <td>0</td>\n",
       "      <td>1</td>\n",
       "    </tr>\n",
       "    <tr>\n",
       "      <th>2</th>\n",
       "      <td>1</td>\n",
       "      <td>0</td>\n",
       "      <td>1</td>\n",
       "      <td>0</td>\n",
       "      <td>0</td>\n",
       "      <td>1</td>\n",
       "    </tr>\n",
       "  </tbody>\n",
       "</table>\n",
       "</div>"
      ],
      "text/plain": [
       "   phone_service  multiple_lines  internet_service_type_id  contract_type  \\\n",
       "0              1               1                         1              0   \n",
       "1              1               0                         1              0   \n",
       "2              1               0                         1              0   \n",
       "\n",
       "   churn  monthly  \n",
       "0      0        1  \n",
       "1      0        1  \n",
       "2      0        1  "
      ]
     },
     "execution_count": 24,
     "metadata": {},
     "output_type": "execute_result"
    }
   ],
   "source": [
    "# adding in month-to-month column to compare month-to-month against\n",
    "# one- and two-year contracts.\n",
    "df_lines['monthly'] = (df_lines.contract_type == 0)\n",
    "df_lines.loc[df_lines.monthly == True, 'monthly'] = 1\n",
    "df_lines.loc[df_lines.monthly == False, 'monthly'] = 0\n",
    "df_lines.head(3)"
   ]
  },
  {
   "cell_type": "code",
   "execution_count": 25,
   "metadata": {},
   "outputs": [
    {
     "name": "stdout",
     "output_type": "stream",
     "text": [
      "X_train.info():\n",
      "<class 'pandas.core.frame.DataFrame'>\n",
      "Int64Index: 5634 entries, 6924 to 3582\n",
      "Data columns (total 5 columns):\n",
      "phone_service               5634 non-null int64\n",
      "multiple_lines              5634 non-null int64\n",
      "internet_service_type_id    5634 non-null int64\n",
      "contract_type               5634 non-null int64\n",
      "monthly                     5634 non-null int64\n",
      "dtypes: int64(5)\n",
      "memory usage: 264.1 KB\n",
      "None\n",
      "\n",
      "X_test.info():\n",
      "<class 'pandas.core.frame.DataFrame'>\n",
      "Int64Index: 1409 entries, 941 to 3266\n",
      "Data columns (total 5 columns):\n",
      "phone_service               1409 non-null int64\n",
      "multiple_lines              1409 non-null int64\n",
      "internet_service_type_id    1409 non-null int64\n",
      "contract_type               1409 non-null int64\n",
      "monthly                     1409 non-null int64\n",
      "dtypes: int64(5)\n",
      "memory usage: 66.0 KB\n",
      "None\n",
      "\n",
      "y_train.shape =  (5634,)\n",
      "\n",
      "y_test.shape =  (1409,)\n",
      "\n"
     ]
    }
   ],
   "source": [
    "x_vars = ['phone_service', 'multiple_lines', 'internet_service_type_id', 'contract_type', 'monthly']\n",
    "\n",
    "X_train, X_test, y_train, y_test = train_test_split(df_lines[x_vars], df_lines['churn'], train_size=0.8, random_state=123)\n",
    "print('X_train.info():')\n",
    "print(X_train.info())\n",
    "print()\n",
    "print('X_test.info():')\n",
    "print(X_test.info())\n",
    "print()\n",
    "print('y_train.shape = ', y_train.shape)\n",
    "print()\n",
    "print('y_test.shape = ', y_test.shape)\n",
    "print()"
   ]
  },
  {
   "cell_type": "code",
   "execution_count": 26,
   "metadata": {},
   "outputs": [
    {
     "data": {
      "text/html": [
       "<div>\n",
       "<style scoped>\n",
       "    .dataframe tbody tr th:only-of-type {\n",
       "        vertical-align: middle;\n",
       "    }\n",
       "\n",
       "    .dataframe tbody tr th {\n",
       "        vertical-align: top;\n",
       "    }\n",
       "\n",
       "    .dataframe thead th {\n",
       "        text-align: right;\n",
       "    }\n",
       "</style>\n",
       "<table border=\"1\" class=\"dataframe\">\n",
       "  <thead>\n",
       "    <tr style=\"text-align: right;\">\n",
       "      <th></th>\n",
       "      <th>phone_service</th>\n",
       "      <th>multiple_lines</th>\n",
       "      <th>internet_service_type_id</th>\n",
       "      <th>contract_type</th>\n",
       "      <th>monthly</th>\n",
       "    </tr>\n",
       "  </thead>\n",
       "  <tbody>\n",
       "    <tr>\n",
       "      <th>count</th>\n",
       "      <td>5634.000000</td>\n",
       "      <td>5634.000000</td>\n",
       "      <td>5634.000000</td>\n",
       "      <td>5634.000000</td>\n",
       "      <td>5634.000000</td>\n",
       "    </tr>\n",
       "    <tr>\n",
       "      <th>mean</th>\n",
       "      <td>0.903443</td>\n",
       "      <td>0.421015</td>\n",
       "      <td>1.872559</td>\n",
       "      <td>0.689741</td>\n",
       "      <td>0.551118</td>\n",
       "    </tr>\n",
       "    <tr>\n",
       "      <th>std</th>\n",
       "      <td>0.295379</td>\n",
       "      <td>0.493766</td>\n",
       "      <td>0.735412</td>\n",
       "      <td>0.834170</td>\n",
       "      <td>0.497424</td>\n",
       "    </tr>\n",
       "    <tr>\n",
       "      <th>min</th>\n",
       "      <td>0.000000</td>\n",
       "      <td>0.000000</td>\n",
       "      <td>1.000000</td>\n",
       "      <td>0.000000</td>\n",
       "      <td>0.000000</td>\n",
       "    </tr>\n",
       "    <tr>\n",
       "      <th>25%</th>\n",
       "      <td>1.000000</td>\n",
       "      <td>0.000000</td>\n",
       "      <td>1.000000</td>\n",
       "      <td>0.000000</td>\n",
       "      <td>0.000000</td>\n",
       "    </tr>\n",
       "    <tr>\n",
       "      <th>50%</th>\n",
       "      <td>1.000000</td>\n",
       "      <td>0.000000</td>\n",
       "      <td>2.000000</td>\n",
       "      <td>0.000000</td>\n",
       "      <td>1.000000</td>\n",
       "    </tr>\n",
       "    <tr>\n",
       "      <th>75%</th>\n",
       "      <td>1.000000</td>\n",
       "      <td>1.000000</td>\n",
       "      <td>2.000000</td>\n",
       "      <td>1.000000</td>\n",
       "      <td>1.000000</td>\n",
       "    </tr>\n",
       "    <tr>\n",
       "      <th>max</th>\n",
       "      <td>1.000000</td>\n",
       "      <td>1.000000</td>\n",
       "      <td>3.000000</td>\n",
       "      <td>2.000000</td>\n",
       "      <td>1.000000</td>\n",
       "    </tr>\n",
       "  </tbody>\n",
       "</table>\n",
       "</div>"
      ],
      "text/plain": [
       "       phone_service  multiple_lines  internet_service_type_id  contract_type  \\\n",
       "count    5634.000000     5634.000000               5634.000000    5634.000000   \n",
       "mean        0.903443        0.421015                  1.872559       0.689741   \n",
       "std         0.295379        0.493766                  0.735412       0.834170   \n",
       "min         0.000000        0.000000                  1.000000       0.000000   \n",
       "25%         1.000000        0.000000                  1.000000       0.000000   \n",
       "50%         1.000000        0.000000                  2.000000       0.000000   \n",
       "75%         1.000000        1.000000                  2.000000       1.000000   \n",
       "max         1.000000        1.000000                  3.000000       2.000000   \n",
       "\n",
       "           monthly  \n",
       "count  5634.000000  \n",
       "mean      0.551118  \n",
       "std       0.497424  \n",
       "min       0.000000  \n",
       "25%       0.000000  \n",
       "50%       1.000000  \n",
       "75%       1.000000  \n",
       "max       1.000000  "
      ]
     },
     "execution_count": 26,
     "metadata": {},
     "output_type": "execute_result"
    }
   ],
   "source": [
    "X_train.describe()"
   ]
  },
  {
   "cell_type": "code",
   "execution_count": 27,
   "metadata": {},
   "outputs": [
    {
     "data": {
      "image/png": "[encoded data removed]",
      "text/plain": [
       "<Figure size 1080x576 with 2 Axes>"
      ]
     },
     "metadata": {
      "needs_background": "light"
     },
     "output_type": "display_data"
    }
   ],
   "source": [
    "plt.figure(figsize=(15, 8))\n",
    "sns.heatmap(pd.concat([X_train, y_train], axis=1).corr(), cmap=\"Blues\", annot=True)\n",
    "plt.show()"
   ]
  },
  {
   "cell_type": "code",
   "execution_count": 28,
   "metadata": {},
   "outputs": [
    {
     "name": "stdout",
     "output_type": "stream",
     "text": [
      "PEARSON'S R\n",
      "phone_service:\n",
      "\tPearson's R is 0.03 \n",
      "\twith a significance p-value of  0.0598\n",
      "\n",
      "multiple_lines:\n",
      "\tPearson's R is 0.04 \n",
      "\twith a significance p-value of  0.00342\n",
      "\n",
      "internet_service_type_id:\n",
      "\tPearson's R is -0.04 \n",
      "\twith a significance p-value of  0.00277\n",
      "\n",
      "contract_type:\n",
      "\tPearson's R is -0.39 \n",
      "\twith a significance p-value of  1.06e-206\n",
      "\n",
      "monthly:\n",
      "\tPearson's R is 0.40 \n",
      "\twith a significance p-value of  2.68e-215\n",
      "\n"
     ]
    }
   ],
   "source": [
    "# Nothing interesting showing up here... \n",
    "df_print_r_and_p_values(X_train[x_vars], y_train)"
   ]
  },
  {
   "cell_type": "code",
   "execution_count": 29,
   "metadata": {},
   "outputs": [
    {
     "name": "stdout",
     "output_type": "stream",
     "text": [
      "vs. phone_service\n",
      "PEARSON'S R\n",
      "phone_service:\n",
      "\tPearson's R is 1.00 \n",
      "\twith a significance p-value of  0.0\n",
      "\n",
      "multiple_lines:\n",
      "\tPearson's R is 0.28 \n",
      "\twith a significance p-value of  4.36e-101\n",
      "\n",
      "internet_service_type_id:\n",
      "\tPearson's R is 0.39 \n",
      "\twith a significance p-value of  9.69e-202\n",
      "\n",
      "contract_type:\n",
      "\tPearson's R is 0.00 \n",
      "\twith a significance p-value of  0.737\n",
      "\n",
      "monthly:\n",
      "\tPearson's R is -0.00 \n",
      "\twith a significance p-value of  0.914\n",
      "\n",
      "vs. multiple_lines\n",
      "PEARSON'S R\n",
      "phone_service:\n",
      "\tPearson's R is 0.28 \n",
      "\twith a significance p-value of  4.36e-101\n",
      "\n",
      "multiple_lines:\n",
      "\tPearson's R is 1.00 \n",
      "\twith a significance p-value of  0.0\n",
      "\n",
      "internet_service_type_id:\n",
      "\tPearson's R is 0.02 \n",
      "\twith a significance p-value of  0.183\n",
      "\n",
      "contract_type:\n",
      "\tPearson's R is 0.11 \n",
      "\twith a significance p-value of  6.14e-18\n",
      "\n",
      "monthly:\n",
      "\tPearson's R is -0.09 \n",
      "\twith a significance p-value of  4.62e-12\n",
      "\n",
      "vs. internet_service_type_id\n",
      "PEARSON'S R\n",
      "phone_service:\n",
      "\tPearson's R is 0.39 \n",
      "\twith a significance p-value of  9.69e-202\n",
      "\n",
      "multiple_lines:\n",
      "\tPearson's R is 0.02 \n",
      "\twith a significance p-value of  0.183\n",
      "\n",
      "internet_service_type_id:\n",
      "\tPearson's R is 1.00 \n",
      "\twith a significance p-value of  0.0\n",
      "\n",
      "contract_type:\n",
      "\tPearson's R is 0.10 \n",
      "\twith a significance p-value of  6.58e-13\n",
      "\n",
      "monthly:\n",
      "\tPearson's R is -0.08 \n",
      "\twith a significance p-value of  1.2e-08\n",
      "\n",
      "vs. contract_type\n",
      "PEARSON'S R\n",
      "phone_service:\n",
      "\tPearson's R is 0.00 \n",
      "\twith a significance p-value of  0.737\n",
      "\n",
      "multiple_lines:\n",
      "\tPearson's R is 0.11 \n",
      "\twith a significance p-value of  6.14e-18\n",
      "\n",
      "internet_service_type_id:\n",
      "\tPearson's R is 0.10 \n",
      "\twith a significance p-value of  6.58e-13\n",
      "\n",
      "contract_type:\n",
      "\tPearson's R is 1.00 \n",
      "\twith a significance p-value of  0.0\n",
      "\n",
      "monthly:\n",
      "\tPearson's R is -0.92 \n",
      "\twith a significance p-value of  0.0\n",
      "\n",
      "vs. monthly\n",
      "PEARSON'S R\n",
      "phone_service:\n",
      "\tPearson's R is -0.00 \n",
      "\twith a significance p-value of  0.914\n",
      "\n",
      "multiple_lines:\n",
      "\tPearson's R is -0.09 \n",
      "\twith a significance p-value of  4.62e-12\n",
      "\n",
      "internet_service_type_id:\n",
      "\tPearson's R is -0.08 \n",
      "\twith a significance p-value of  1.2e-08\n",
      "\n",
      "contract_type:\n",
      "\tPearson's R is -0.92 \n",
      "\twith a significance p-value of  0.0\n",
      "\n",
      "monthly:\n",
      "\tPearson's R is 1.00 \n",
      "\twith a significance p-value of  0.0\n",
      "\n"
     ]
    }
   ],
   "source": [
    "# Nothing interesting showing up here... \n",
    "for var in x_vars:\n",
    "    print(f\"vs. {var}\")\n",
    "    df_print_r_and_p_values(X_train[x_vars], X_train[var])"
   ]
  },
  {
   "cell_type": "markdown",
   "metadata": {},
   "source": [
    "#### Is the churn rate significantly different for month-to-month contracts vs those with 2-year contracts?"
   ]
  },
  {
   "cell_type": "code",
   "execution_count": 30,
   "metadata": {},
   "outputs": [
    {
     "name": "stdout",
     "output_type": "stream",
     "text": [
      "Ttest_indResult(statistic=28.653889190830636, pvalue=6.796094847922133e-166)\n"
     ]
    }
   ],
   "source": [
    "df_train = pd.concat([X_train, y_train], axis=1)\n",
    "\n",
    "# A t score of 28.7 means the group of two-year contracts is \n",
    "# 28.7 standard deviations from the mean of the group with \n",
    "# month-to-month contracts.\n",
    "\n",
    "# - The larger the t statistic, the more difference there is between \n",
    "#   the groups, the more likely it is that the results are repeatable, \n",
    "#   i.e. that the difference is significant.\n",
    "\n",
    "# - The smaller the score, the more similarity.\n",
    "\n",
    "# So this shows that the month-to-month and 2-year contract groups are \n",
    "# significantly different from each other. So I need to group the number \n",
    "# of contracts with that aggragate. \n",
    "\n",
    "# Try various comparisons to see which are most significant.\n",
    "month_to_month = df_train[df_train.contract_type == 0].churn\n",
    "two_year = df_train[df_train.contract_type == 2].churn\n",
    "print(stats.ttest_ind(month_to_month.values, two_year.values))"
   ]
  },
  {
   "cell_type": "code",
   "execution_count": 31,
   "metadata": {},
   "outputs": [
    {
     "name": "stdout",
     "output_type": "stream",
     "text": [
      "Ttest_indResult(statistic=19.856963153508357, pvalue=5.278934083224473e-84)\n"
     ]
    }
   ],
   "source": [
    "one_year = df_train[df_train.contract_type == 1].churn\n",
    "print(stats.ttest_ind(month_to_month.values, one_year.values))"
   ]
  },
  {
   "cell_type": "code",
   "execution_count": 32,
   "metadata": {},
   "outputs": [
    {
     "name": "stdout",
     "output_type": "stream",
     "text": [
      "Ttest_indResult(statistic=32.733530159636985, pvalue=2.678733869411962e-215)\n"
     ]
    }
   ],
   "source": [
    "one_or_two_year = df_train[df_train.contract_type > 0].churn\n",
    "print(stats.ttest_ind(month_to_month.values, one_or_two_year.values))"
   ]
  },
  {
   "cell_type": "code",
   "execution_count": 33,
   "metadata": {},
   "outputs": [
    {
     "name": "stdout",
     "output_type": "stream",
     "text": [
      "Ttest_indResult(statistic=8.623632420161382, pvalue=1.1254185129583355e-17)\n"
     ]
    }
   ],
   "source": [
    "print(stats.ttest_ind(one_year.values, two_year.values))"
   ]
  },
  {
   "cell_type": "code",
   "execution_count": 34,
   "metadata": {},
   "outputs": [
    {
     "name": "stdout",
     "output_type": "stream",
     "text": [
      "Ttest_indResult(statistic=-13.229828180018783, pvalue=2.2712467268607945e-39)\n"
     ]
    }
   ],
   "source": [
    "month_or_two = df_train[(df_train.contract_type == 0) | (df_train.contract_type == 2)].churn\n",
    "print(stats.ttest_ind(one_year.values, month_or_two.values))"
   ]
  },
  {
   "cell_type": "code",
   "execution_count": 35,
   "metadata": {},
   "outputs": [
    {
     "name": "stdout",
     "output_type": "stream",
     "text": [
      "Ttest_indResult(statistic=-23.621996638838393, pvalue=1.0321416314849885e-117)\n"
     ]
    }
   ],
   "source": [
    "month_or_one = df_train[(df_train.contract_type == 0) | (df_train.contract_type == 1)].churn\n",
    "print(stats.ttest_ind(two_year.values, month_or_one.values))"
   ]
  },
  {
   "cell_type": "markdown",
   "metadata": {},
   "source": [
    "# So the month-to-month contracts are 32.7 standard deviations from the mean of the group with one- or two-year contracts."
   ]
  },
  {
   "cell_type": "markdown",
   "metadata": {},
   "source": [
    "### Try logistic regression on all independent variables"
   ]
  },
  {
   "cell_type": "code",
   "execution_count": 36,
   "metadata": {},
   "outputs": [
    {
     "data": {
      "text/html": [
       "<div>\n",
       "<style scoped>\n",
       "    .dataframe tbody tr th:only-of-type {\n",
       "        vertical-align: middle;\n",
       "    }\n",
       "\n",
       "    .dataframe tbody tr th {\n",
       "        vertical-align: top;\n",
       "    }\n",
       "\n",
       "    .dataframe thead th {\n",
       "        text-align: right;\n",
       "    }\n",
       "</style>\n",
       "<table border=\"1\" class=\"dataframe\">\n",
       "  <thead>\n",
       "    <tr style=\"text-align: right;\">\n",
       "      <th></th>\n",
       "      <th>phone_service</th>\n",
       "      <th>multiple_lines</th>\n",
       "      <th>internet_service_type_id</th>\n",
       "      <th>contract_type</th>\n",
       "      <th>monthly</th>\n",
       "    </tr>\n",
       "  </thead>\n",
       "  <tbody>\n",
       "    <tr>\n",
       "      <th>6924</th>\n",
       "      <td>1</td>\n",
       "      <td>1</td>\n",
       "      <td>3</td>\n",
       "      <td>2</td>\n",
       "      <td>0</td>\n",
       "    </tr>\n",
       "  </tbody>\n",
       "</table>\n",
       "</div>"
      ],
      "text/plain": [
       "      phone_service  multiple_lines  internet_service_type_id  contract_type  \\\n",
       "6924              1               1                         3              2   \n",
       "\n",
       "      monthly  \n",
       "6924        0  "
      ]
     },
     "execution_count": 36,
     "metadata": {},
     "output_type": "execute_result"
    }
   ],
   "source": [
    "X_train.head(1)"
   ]
  },
  {
   "cell_type": "code",
   "execution_count": 37,
   "metadata": {},
   "outputs": [
    {
     "data": {
      "text/plain": [
       "6924    0\n",
       "Name: churn, dtype: int64"
      ]
     },
     "execution_count": 37,
     "metadata": {},
     "output_type": "execute_result"
    }
   ],
   "source": [
    "y_train.head(1)"
   ]
  },
  {
   "cell_type": "markdown",
   "metadata": {},
   "source": [
    "##### Create the logistic regression object"
   ]
  },
  {
   "cell_type": "code",
   "execution_count": 38,
   "metadata": {},
   "outputs": [],
   "source": [
    "# from sklearn.linear_model import LogisticRegression\n",
    "\n",
    "logit = LogisticRegression(C=1, class_weight={1:2}, random_state = 123, solver='saga')"
   ]
  },
  {
   "cell_type": "markdown",
   "metadata": {},
   "source": [
    "##### Fit the model to the training data"
   ]
  },
  {
   "cell_type": "code",
   "execution_count": 39,
   "metadata": {},
   "outputs": [
    {
     "data": {
      "text/plain": [
       "LogisticRegression(C=1, class_weight={1: 2}, dual=False, fit_intercept=True,\n",
       "          intercept_scaling=1, max_iter=100, multi_class='warn',\n",
       "          n_jobs=None, penalty='l2', random_state=123, solver='saga',\n",
       "          tol=0.0001, verbose=0, warm_start=False)"
      ]
     },
     "execution_count": 39,
     "metadata": {},
     "output_type": "execute_result"
    }
   ],
   "source": [
    "logit.fit(X_train, y_train)"
   ]
  },
  {
   "cell_type": "markdown",
   "metadata": {},
   "source": [
    "##### Print the coefficients and intercept of the model"
   ]
  },
  {
   "cell_type": "code",
   "execution_count": 40,
   "metadata": {},
   "outputs": [
    {
     "name": "stdout",
     "output_type": "stream",
     "text": [
      "Coefficient: \n",
      " [[ 0.12344084  0.45168402 -0.08282573 -1.49867688  0.27265229]]\n",
      "\n",
      "Intercept: \n",
      " [-0.02690154]\n",
      "\n"
     ]
    }
   ],
   "source": [
    "print('Coefficient: \\n', logit.coef_)\n",
    "print()\n",
    "print('Intercept: \\n', logit.intercept_)\n",
    "print()"
   ]
  },
  {
   "cell_type": "markdown",
   "metadata": {},
   "source": [
    "##### Estimate whether or not a passenger would survive, using the training data"
   ]
  },
  {
   "cell_type": "code",
   "execution_count": 41,
   "metadata": {},
   "outputs": [],
   "source": [
    "y_pred = logit.predict(X_train)"
   ]
  },
  {
   "cell_type": "markdown",
   "metadata": {},
   "source": [
    "##### Estimate the probability of a passenger surviving, using the training data"
   ]
  },
  {
   "cell_type": "code",
   "execution_count": 42,
   "metadata": {},
   "outputs": [],
   "source": [
    "y_pred_proba = logit.predict_proba(X_train)"
   ]
  },
  {
   "cell_type": "markdown",
   "metadata": {},
   "source": [
    "#### Evaluate Model\n",
    "##### Compute the accuracy"
   ]
  },
  {
   "cell_type": "code",
   "execution_count": 43,
   "metadata": {},
   "outputs": [
    {
     "name": "stdout",
     "output_type": "stream",
     "text": [
      "Accuracy of Logistic Regression classifier on training set: 0.65\n"
     ]
    }
   ],
   "source": [
    "print('Accuracy of Logistic Regression classifier on training set: {:.2f}'\n",
    "     .format(logit.score(X_train, y_train)))"
   ]
  },
  {
   "cell_type": "code",
   "execution_count": 44,
   "metadata": {},
   "outputs": [],
   "source": [
    "X_train['prediction'] = logit.predict(X_train)"
   ]
  },
  {
   "cell_type": "code",
   "execution_count": 45,
   "metadata": {},
   "outputs": [
    {
     "data": {
      "text/plain": [
       "0.6510472133475328"
      ]
     },
     "execution_count": 45,
     "metadata": {},
     "output_type": "execute_result"
    }
   ],
   "source": [
    "(y_train == X_train.prediction).sum() / y_train.shape[0]\n",
    "# at 80% 0.6510472133475328\n",
    "# at 75% 0.651836425596365\n",
    "# at 50% 0.6557796080658904"
   ]
  },
  {
   "cell_type": "code",
   "execution_count": 46,
   "metadata": {},
   "outputs": [
    {
     "data": {
      "text/plain": [
       "0.6510472133475328"
      ]
     },
     "execution_count": 46,
     "metadata": {},
     "output_type": "execute_result"
    }
   ],
   "source": [
    "logit.score(X_train[['phone_service', 'multiple_lines', 'internet_service_type_id', 'contract_type', 'monthly']], y_train)"
   ]
  },
  {
   "cell_type": "markdown",
   "metadata": {},
   "source": [
    "##### Create a confusion matrix"
   ]
  },
  {
   "cell_type": "code",
   "execution_count": 47,
   "metadata": {},
   "outputs": [
    {
     "data": {
      "text/html": [
       "<div>\n",
       "<style scoped>\n",
       "    .dataframe tbody tr th:only-of-type {\n",
       "        vertical-align: middle;\n",
       "    }\n",
       "\n",
       "    .dataframe tbody tr th {\n",
       "        vertical-align: top;\n",
       "    }\n",
       "\n",
       "    .dataframe thead th {\n",
       "        text-align: right;\n",
       "    }\n",
       "</style>\n",
       "<table border=\"1\" class=\"dataframe\">\n",
       "  <thead>\n",
       "    <tr style=\"text-align: right;\">\n",
       "      <th></th>\n",
       "      <th>Pred -</th>\n",
       "      <th>Pred +</th>\n",
       "    </tr>\n",
       "  </thead>\n",
       "  <tbody>\n",
       "    <tr>\n",
       "      <th>Actual -</th>\n",
       "      <td>2356</td>\n",
       "      <td>1793</td>\n",
       "    </tr>\n",
       "    <tr>\n",
       "      <th>Actual +</th>\n",
       "      <td>173</td>\n",
       "      <td>1312</td>\n",
       "    </tr>\n",
       "  </tbody>\n",
       "</table>\n",
       "</div>"
      ],
      "text/plain": [
       "          Pred -  Pred +\n",
       "Actual -    2356    1793\n",
       "Actual +     173    1312"
      ]
     },
     "execution_count": 47,
     "metadata": {},
     "output_type": "execute_result"
    }
   ],
   "source": [
    "confusion_df = pd.DataFrame(confusion_matrix(y_train, X_train.prediction),\n",
    "             columns=['Pred -', 'Pred +'], index=['Actual -', 'Actual +'])\n",
    "\n",
    "confusion_df"
   ]
  },
  {
   "cell_type": "markdown",
   "metadata": {},
   "source": [
    "##### Compute Precision, Recall, F1-score, and Support"
   ]
  },
  {
   "cell_type": "code",
   "execution_count": 48,
   "metadata": {},
   "outputs": [
    {
     "name": "stdout",
     "output_type": "stream",
     "text": [
      "recall:    0.88\n",
      "precision: 0.42\n",
      "f1:        0.65\n",
      "support:   1485\n"
     ]
    }
   ],
   "source": [
    "tp = confusion_df.loc['Actual +', 'Pred +']\n",
    "fn = confusion_df.loc['Actual +', 'Pred -']\n",
    "fp = confusion_df.loc['Actual -', 'Pred +']\n",
    "tn = confusion_df.loc['Actual -', 'Pred -']\n",
    "\n",
    "recall = tp / (tp + fn)\n",
    "precision = tp / (tp + fp)\n",
    "f1 = (recall + precision) / 2\n",
    "support = tp + fn\n",
    "\n",
    "print('recall:    %.2f' % recall)\n",
    "print('precision: %.2f' % precision)\n",
    "print('f1:        %.2f' % f1)\n",
    "print('support:   %4d' % support)"
   ]
  },
  {
   "cell_type": "code",
   "execution_count": 49,
   "metadata": {},
   "outputs": [
    {
     "name": "stdout",
     "output_type": "stream",
     "text": [
      "              precision    recall  f1-score   support\n",
      "\n",
      "           0       0.93      0.57      0.71      4149\n",
      "           1       0.42      0.88      0.57      1485\n",
      "\n",
      "   micro avg       0.65      0.65      0.65      5634\n",
      "   macro avg       0.68      0.73      0.64      5634\n",
      "weighted avg       0.80      0.65      0.67      5634\n",
      "\n"
     ]
    }
   ],
   "source": [
    "print(classification_report(y_train, y_pred))"
   ]
  },
  {
   "cell_type": "markdown",
   "metadata": {},
   "source": [
    "#### Test Model\n",
    "##### Compute the accuracy of the model when run on the test data"
   ]
  },
  {
   "cell_type": "code",
   "execution_count": 50,
   "metadata": {},
   "outputs": [
    {
     "name": "stdout",
     "output_type": "stream",
     "text": [
      "Accuracy of Logistic Regression classifier on test set: 0.67\n"
     ]
    }
   ],
   "source": [
    "print('Accuracy of Logistic Regression classifier on test set: {:.2f}'\n",
    "     .format(logit.score(X_test, y_test)))"
   ]
  },
  {
   "cell_type": "markdown",
   "metadata": {},
   "source": [
    "#### Visualize Model"
   ]
  },
  {
   "cell_type": "code",
   "execution_count": 51,
   "metadata": {},
   "outputs": [
    {
     "data": {
      "text/plain": [
       "<matplotlib.collections.PathCollection at 0x1c179d92b0>"
      ]
     },
     "execution_count": 51,
     "metadata": {},
     "output_type": "execute_result"
    },
    {
     "data": {
      "image/png": "[encoded data removed]",
      "text/plain": [
       "<Figure size 432x288 with 1 Axes>"
      ]
     },
     "metadata": {
      "needs_background": "light"
     },
     "output_type": "display_data"
    }
   ],
   "source": [
    "## verify\n",
    "y_pred_proba = [i[1] for i in y_pred_proba]\n",
    "fig = plt.figure()\n",
    "ax = fig.add_subplot(111)\n",
    "ax.scatter(y_pred_proba, y_pred)"
   ]
  },
  {
   "cell_type": "markdown",
   "metadata": {},
   "source": [
    "##### I was getting identical results when running with all the dependent variables as I did when running it with only the monthly column, so I tried changing the percentage of test/train split. My accuracy should have gone down, but it went slightly up. And the accuracies between the two models stayed identical. ????"
   ]
  },
  {
   "cell_type": "markdown",
   "metadata": {},
   "source": [
    "#### Try logistic regression on only \n",
    "#### data grouped into month-to-month vs one or two-year contracts."
   ]
  },
  {
   "cell_type": "code",
   "execution_count": 52,
   "metadata": {},
   "outputs": [
    {
     "data": {
      "text/html": [
       "<div>\n",
       "<style scoped>\n",
       "    .dataframe tbody tr th:only-of-type {\n",
       "        vertical-align: middle;\n",
       "    }\n",
       "\n",
       "    .dataframe tbody tr th {\n",
       "        vertical-align: top;\n",
       "    }\n",
       "\n",
       "    .dataframe thead th {\n",
       "        text-align: right;\n",
       "    }\n",
       "</style>\n",
       "<table border=\"1\" class=\"dataframe\">\n",
       "  <thead>\n",
       "    <tr style=\"text-align: right;\">\n",
       "      <th></th>\n",
       "      <th>phone_service</th>\n",
       "      <th>multiple_lines</th>\n",
       "      <th>internet_service_type_id</th>\n",
       "      <th>contract_type</th>\n",
       "      <th>monthly</th>\n",
       "      <th>churn</th>\n",
       "    </tr>\n",
       "  </thead>\n",
       "  <tbody>\n",
       "    <tr>\n",
       "      <th>6924</th>\n",
       "      <td>1</td>\n",
       "      <td>1</td>\n",
       "      <td>3</td>\n",
       "      <td>2</td>\n",
       "      <td>0</td>\n",
       "      <td>0</td>\n",
       "    </tr>\n",
       "  </tbody>\n",
       "</table>\n",
       "</div>"
      ],
      "text/plain": [
       "      phone_service  multiple_lines  internet_service_type_id  contract_type  \\\n",
       "6924              1               1                         3              2   \n",
       "\n",
       "      monthly  churn  \n",
       "6924        0      0  "
      ]
     },
     "execution_count": 52,
     "metadata": {},
     "output_type": "execute_result"
    }
   ],
   "source": [
    "df_train.head(1)"
   ]
  },
  {
   "cell_type": "code",
   "execution_count": 53,
   "metadata": {},
   "outputs": [
    {
     "name": "stdout",
     "output_type": "stream",
     "text": [
      "Ttest_indResult(statistic=32.733530159636985, pvalue=2.678733869411962e-215)\n"
     ]
    }
   ],
   "source": [
    "month_to_month = df_train[df_train.contract_type == 0].churn\n",
    "one_or_two_year = df_train[df_train.contract_type > 0].churn\n",
    "print(stats.ttest_ind(month_to_month.values, one_or_two_year.values))"
   ]
  },
  {
   "cell_type": "code",
   "execution_count": 54,
   "metadata": {},
   "outputs": [
    {
     "data": {
      "text/html": [
       "<div>\n",
       "<style scoped>\n",
       "    .dataframe tbody tr th:only-of-type {\n",
       "        vertical-align: middle;\n",
       "    }\n",
       "\n",
       "    .dataframe tbody tr th {\n",
       "        vertical-align: top;\n",
       "    }\n",
       "\n",
       "    .dataframe thead th {\n",
       "        text-align: right;\n",
       "    }\n",
       "</style>\n",
       "<table border=\"1\" class=\"dataframe\">\n",
       "  <thead>\n",
       "    <tr style=\"text-align: right;\">\n",
       "      <th></th>\n",
       "      <th>phone_service</th>\n",
       "      <th>multiple_lines</th>\n",
       "      <th>internet_service_type_id</th>\n",
       "      <th>contract_type</th>\n",
       "      <th>monthly</th>\n",
       "      <th>prediction</th>\n",
       "    </tr>\n",
       "  </thead>\n",
       "  <tbody>\n",
       "    <tr>\n",
       "      <th>6924</th>\n",
       "      <td>1</td>\n",
       "      <td>1</td>\n",
       "      <td>3</td>\n",
       "      <td>2</td>\n",
       "      <td>0</td>\n",
       "      <td>0</td>\n",
       "    </tr>\n",
       "    <tr>\n",
       "      <th>5249</th>\n",
       "      <td>1</td>\n",
       "      <td>0</td>\n",
       "      <td>2</td>\n",
       "      <td>2</td>\n",
       "      <td>0</td>\n",
       "      <td>0</td>\n",
       "    </tr>\n",
       "    <tr>\n",
       "      <th>5852</th>\n",
       "      <td>1</td>\n",
       "      <td>0</td>\n",
       "      <td>3</td>\n",
       "      <td>0</td>\n",
       "      <td>1</td>\n",
       "      <td>1</td>\n",
       "    </tr>\n",
       "  </tbody>\n",
       "</table>\n",
       "</div>"
      ],
      "text/plain": [
       "      phone_service  multiple_lines  internet_service_type_id  contract_type  \\\n",
       "6924              1               1                         3              2   \n",
       "5249              1               0                         2              2   \n",
       "5852              1               0                         3              0   \n",
       "\n",
       "      monthly  prediction  \n",
       "6924        0           0  \n",
       "5249        0           0  \n",
       "5852        1           1  "
      ]
     },
     "execution_count": 54,
     "metadata": {},
     "output_type": "execute_result"
    }
   ],
   "source": [
    "X_train.head(3)"
   ]
  },
  {
   "cell_type": "code",
   "execution_count": 55,
   "metadata": {},
   "outputs": [
    {
     "data": {
      "text/html": [
       "<div>\n",
       "<style scoped>\n",
       "    .dataframe tbody tr th:only-of-type {\n",
       "        vertical-align: middle;\n",
       "    }\n",
       "\n",
       "    .dataframe tbody tr th {\n",
       "        vertical-align: top;\n",
       "    }\n",
       "\n",
       "    .dataframe thead th {\n",
       "        text-align: right;\n",
       "    }\n",
       "</style>\n",
       "<table border=\"1\" class=\"dataframe\">\n",
       "  <thead>\n",
       "    <tr style=\"text-align: right;\">\n",
       "      <th></th>\n",
       "      <th>phone_service</th>\n",
       "      <th>multiple_lines</th>\n",
       "      <th>internet_service_type_id</th>\n",
       "      <th>contract_type</th>\n",
       "      <th>monthly</th>\n",
       "    </tr>\n",
       "  </thead>\n",
       "  <tbody>\n",
       "    <tr>\n",
       "      <th>6924</th>\n",
       "      <td>1</td>\n",
       "      <td>1</td>\n",
       "      <td>3</td>\n",
       "      <td>2</td>\n",
       "      <td>0</td>\n",
       "    </tr>\n",
       "    <tr>\n",
       "      <th>5249</th>\n",
       "      <td>1</td>\n",
       "      <td>0</td>\n",
       "      <td>2</td>\n",
       "      <td>2</td>\n",
       "      <td>0</td>\n",
       "    </tr>\n",
       "    <tr>\n",
       "      <th>5852</th>\n",
       "      <td>1</td>\n",
       "      <td>0</td>\n",
       "      <td>3</td>\n",
       "      <td>0</td>\n",
       "      <td>1</td>\n",
       "    </tr>\n",
       "  </tbody>\n",
       "</table>\n",
       "</div>"
      ],
      "text/plain": [
       "      phone_service  multiple_lines  internet_service_type_id  contract_type  \\\n",
       "6924              1               1                         3              2   \n",
       "5249              1               0                         2              2   \n",
       "5852              1               0                         3              0   \n",
       "\n",
       "      monthly  \n",
       "6924        0  \n",
       "5249        0  \n",
       "5852        1  "
      ]
     },
     "execution_count": 55,
     "metadata": {},
     "output_type": "execute_result"
    }
   ],
   "source": [
    "X_train.drop(['prediction'], inplace=True, axis=1)\n",
    "X_train.head(3)"
   ]
  },
  {
   "cell_type": "code",
   "execution_count": 56,
   "metadata": {},
   "outputs": [
    {
     "name": "stdout",
     "output_type": "stream",
     "text": [
      "<class 'pandas.core.frame.DataFrame'>\n",
      "Int64Index: 5634 entries, 6924 to 3582\n",
      "Data columns (total 1 columns):\n",
      "monthly    5634 non-null int64\n",
      "dtypes: int64(1)\n",
      "memory usage: 88.0 KB\n"
     ]
    }
   ],
   "source": [
    "month_train = X_train[['monthly']]\n",
    "month_train.info()"
   ]
  },
  {
   "cell_type": "code",
   "execution_count": 57,
   "metadata": {},
   "outputs": [
    {
     "data": {
      "text/html": [
       "<div>\n",
       "<style scoped>\n",
       "    .dataframe tbody tr th:only-of-type {\n",
       "        vertical-align: middle;\n",
       "    }\n",
       "\n",
       "    .dataframe tbody tr th {\n",
       "        vertical-align: top;\n",
       "    }\n",
       "\n",
       "    .dataframe thead th {\n",
       "        text-align: right;\n",
       "    }\n",
       "</style>\n",
       "<table border=\"1\" class=\"dataframe\">\n",
       "  <thead>\n",
       "    <tr style=\"text-align: right;\">\n",
       "      <th></th>\n",
       "      <th>monthly</th>\n",
       "    </tr>\n",
       "  </thead>\n",
       "  <tbody>\n",
       "    <tr>\n",
       "      <th>6924</th>\n",
       "      <td>0</td>\n",
       "    </tr>\n",
       "    <tr>\n",
       "      <th>5249</th>\n",
       "      <td>0</td>\n",
       "    </tr>\n",
       "    <tr>\n",
       "      <th>5852</th>\n",
       "      <td>1</td>\n",
       "    </tr>\n",
       "  </tbody>\n",
       "</table>\n",
       "</div>"
      ],
      "text/plain": [
       "      monthly\n",
       "6924        0\n",
       "5249        0\n",
       "5852        1"
      ]
     },
     "execution_count": 57,
     "metadata": {},
     "output_type": "execute_result"
    }
   ],
   "source": [
    "month_train.head(3)"
   ]
  },
  {
   "cell_type": "code",
   "execution_count": 58,
   "metadata": {},
   "outputs": [
    {
     "name": "stdout",
     "output_type": "stream",
     "text": [
      "LogisticRegression(C=1, class_weight={1: 2}, dual=False, fit_intercept=True,\n",
      "          intercept_scaling=1, max_iter=100, multi_class='warn',\n",
      "          n_jobs=None, penalty='l2', random_state=123, solver='saga',\n",
      "          tol=0.0001, verbose=0, warm_start=False)\n",
      "Coefficient: \n",
      " [[2.28924896]]\n",
      "\n",
      "Intercept: \n",
      " [-1.91069478]\n"
     ]
    }
   ],
   "source": [
    "logit2 = LogisticRegression(C=1, class_weight={1:2}, random_state = 123, solver='saga')\n",
    "print(logit2.fit(month_train, y_train))\n",
    "print('Coefficient: \\n', logit2.coef_)\n",
    "print()\n",
    "print('Intercept: \\n', logit2.intercept_)\n",
    "\n",
    "y_pred2 = logit2.predict(month_train)\n",
    "y_pred_proba2 = logit2.predict_proba(month_train)\n",
    "X_train['prediction'] = logit2.predict(month_train)"
   ]
  },
  {
   "cell_type": "code",
   "execution_count": 59,
   "metadata": {},
   "outputs": [
    {
     "data": {
      "text/plain": [
       "0.6510472133475328"
      ]
     },
     "execution_count": 59,
     "metadata": {},
     "output_type": "execute_result"
    }
   ],
   "source": [
    "(y_train == X_train.prediction).sum() / y_train.shape[0]\n",
    "# at 80% 0.6510472133475328\n",
    "# at 75% 0.651836425596365\n",
    "# at 50% 0.6557796080658904"
   ]
  },
  {
   "cell_type": "code",
   "execution_count": 60,
   "metadata": {},
   "outputs": [
    {
     "data": {
      "text/plain": [
       "0.6510472133475328"
      ]
     },
     "execution_count": 60,
     "metadata": {},
     "output_type": "execute_result"
    }
   ],
   "source": [
    "logit2.score(X_train[['monthly']], y_train)"
   ]
  },
  {
   "cell_type": "code",
   "execution_count": 61,
   "metadata": {},
   "outputs": [
    {
     "data": {
      "text/html": [
       "<div>\n",
       "<style scoped>\n",
       "    .dataframe tbody tr th:only-of-type {\n",
       "        vertical-align: middle;\n",
       "    }\n",
       "\n",
       "    .dataframe tbody tr th {\n",
       "        vertical-align: top;\n",
       "    }\n",
       "\n",
       "    .dataframe thead th {\n",
       "        text-align: right;\n",
       "    }\n",
       "</style>\n",
       "<table border=\"1\" class=\"dataframe\">\n",
       "  <thead>\n",
       "    <tr style=\"text-align: right;\">\n",
       "      <th></th>\n",
       "      <th>Pred -</th>\n",
       "      <th>Pred +</th>\n",
       "    </tr>\n",
       "  </thead>\n",
       "  <tbody>\n",
       "    <tr>\n",
       "      <th>Actual -</th>\n",
       "      <td>2356</td>\n",
       "      <td>1793</td>\n",
       "    </tr>\n",
       "    <tr>\n",
       "      <th>Actual +</th>\n",
       "      <td>173</td>\n",
       "      <td>1312</td>\n",
       "    </tr>\n",
       "  </tbody>\n",
       "</table>\n",
       "</div>"
      ],
      "text/plain": [
       "          Pred -  Pred +\n",
       "Actual -    2356    1793\n",
       "Actual +     173    1312"
      ]
     },
     "execution_count": 61,
     "metadata": {},
     "output_type": "execute_result"
    }
   ],
   "source": [
    "confusion_df = pd.DataFrame(confusion_matrix(y_train, X_train.prediction),\n",
    "             columns=['Pred -', 'Pred +'], index=['Actual -', 'Actual +'])\n",
    "\n",
    "confusion_df"
   ]
  },
  {
   "cell_type": "code",
   "execution_count": 62,
   "metadata": {},
   "outputs": [
    {
     "name": "stdout",
     "output_type": "stream",
     "text": [
      "              precision    recall  f1-score   support\n",
      "\n",
      "           0       0.93      0.57      0.71      4149\n",
      "           1       0.42      0.88      0.57      1485\n",
      "\n",
      "   micro avg       0.65      0.65      0.65      5634\n",
      "   macro avg       0.68      0.73      0.64      5634\n",
      "weighted avg       0.80      0.65      0.67      5634\n",
      "\n"
     ]
    }
   ],
   "source": [
    "print(classification_report(y_train, y_pred))"
   ]
  },
  {
   "cell_type": "markdown",
   "metadata": {},
   "source": [
    "#### The probabilities are identical, so checking another variable...\n",
    "##### just phone_service against churn"
   ]
  },
  {
   "cell_type": "code",
   "execution_count": 63,
   "metadata": {},
   "outputs": [
    {
     "data": {
      "text/html": [
       "<div>\n",
       "<style scoped>\n",
       "    .dataframe tbody tr th:only-of-type {\n",
       "        vertical-align: middle;\n",
       "    }\n",
       "\n",
       "    .dataframe tbody tr th {\n",
       "        vertical-align: top;\n",
       "    }\n",
       "\n",
       "    .dataframe thead th {\n",
       "        text-align: right;\n",
       "    }\n",
       "</style>\n",
       "<table border=\"1\" class=\"dataframe\">\n",
       "  <thead>\n",
       "    <tr style=\"text-align: right;\">\n",
       "      <th></th>\n",
       "      <th>phone_service</th>\n",
       "      <th>multiple_lines</th>\n",
       "      <th>internet_service_type_id</th>\n",
       "      <th>contract_type</th>\n",
       "      <th>monthly</th>\n",
       "      <th>prediction</th>\n",
       "    </tr>\n",
       "  </thead>\n",
       "  <tbody>\n",
       "    <tr>\n",
       "      <th>6924</th>\n",
       "      <td>1</td>\n",
       "      <td>1</td>\n",
       "      <td>3</td>\n",
       "      <td>2</td>\n",
       "      <td>0</td>\n",
       "      <td>0</td>\n",
       "    </tr>\n",
       "    <tr>\n",
       "      <th>5249</th>\n",
       "      <td>1</td>\n",
       "      <td>0</td>\n",
       "      <td>2</td>\n",
       "      <td>2</td>\n",
       "      <td>0</td>\n",
       "      <td>0</td>\n",
       "    </tr>\n",
       "    <tr>\n",
       "      <th>5852</th>\n",
       "      <td>1</td>\n",
       "      <td>0</td>\n",
       "      <td>3</td>\n",
       "      <td>0</td>\n",
       "      <td>1</td>\n",
       "      <td>1</td>\n",
       "    </tr>\n",
       "  </tbody>\n",
       "</table>\n",
       "</div>"
      ],
      "text/plain": [
       "      phone_service  multiple_lines  internet_service_type_id  contract_type  \\\n",
       "6924              1               1                         3              2   \n",
       "5249              1               0                         2              2   \n",
       "5852              1               0                         3              0   \n",
       "\n",
       "      monthly  prediction  \n",
       "6924        0           0  \n",
       "5249        0           0  \n",
       "5852        1           1  "
      ]
     },
     "execution_count": 63,
     "metadata": {},
     "output_type": "execute_result"
    }
   ],
   "source": [
    "X_train.head(3)"
   ]
  },
  {
   "cell_type": "code",
   "execution_count": 64,
   "metadata": {},
   "outputs": [
    {
     "data": {
      "text/html": [
       "<div>\n",
       "<style scoped>\n",
       "    .dataframe tbody tr th:only-of-type {\n",
       "        vertical-align: middle;\n",
       "    }\n",
       "\n",
       "    .dataframe tbody tr th {\n",
       "        vertical-align: top;\n",
       "    }\n",
       "\n",
       "    .dataframe thead th {\n",
       "        text-align: right;\n",
       "    }\n",
       "</style>\n",
       "<table border=\"1\" class=\"dataframe\">\n",
       "  <thead>\n",
       "    <tr style=\"text-align: right;\">\n",
       "      <th></th>\n",
       "      <th>phone_service</th>\n",
       "      <th>multiple_lines</th>\n",
       "      <th>internet_service_type_id</th>\n",
       "      <th>contract_type</th>\n",
       "      <th>monthly</th>\n",
       "    </tr>\n",
       "  </thead>\n",
       "  <tbody>\n",
       "    <tr>\n",
       "      <th>6924</th>\n",
       "      <td>1</td>\n",
       "      <td>1</td>\n",
       "      <td>3</td>\n",
       "      <td>2</td>\n",
       "      <td>0</td>\n",
       "    </tr>\n",
       "    <tr>\n",
       "      <th>5249</th>\n",
       "      <td>1</td>\n",
       "      <td>0</td>\n",
       "      <td>2</td>\n",
       "      <td>2</td>\n",
       "      <td>0</td>\n",
       "    </tr>\n",
       "    <tr>\n",
       "      <th>5852</th>\n",
       "      <td>1</td>\n",
       "      <td>0</td>\n",
       "      <td>3</td>\n",
       "      <td>0</td>\n",
       "      <td>1</td>\n",
       "    </tr>\n",
       "  </tbody>\n",
       "</table>\n",
       "</div>"
      ],
      "text/plain": [
       "      phone_service  multiple_lines  internet_service_type_id  contract_type  \\\n",
       "6924              1               1                         3              2   \n",
       "5249              1               0                         2              2   \n",
       "5852              1               0                         3              0   \n",
       "\n",
       "      monthly  \n",
       "6924        0  \n",
       "5249        0  \n",
       "5852        1  "
      ]
     },
     "execution_count": 64,
     "metadata": {},
     "output_type": "execute_result"
    }
   ],
   "source": [
    "X_train.drop(['prediction'], inplace=True, axis=1)\n",
    "X_train.head(3)"
   ]
  },
  {
   "cell_type": "code",
   "execution_count": 65,
   "metadata": {},
   "outputs": [
    {
     "name": "stdout",
     "output_type": "stream",
     "text": [
      "<class 'pandas.core.frame.DataFrame'>\n",
      "Int64Index: 5634 entries, 6924 to 3582\n",
      "Data columns (total 1 columns):\n",
      "phone_service    5634 non-null int64\n",
      "dtypes: int64(1)\n",
      "memory usage: 88.0 KB\n"
     ]
    }
   ],
   "source": [
    "phone_train = X_train[['phone_service']]\n",
    "phone_train.info()"
   ]
  },
  {
   "cell_type": "code",
   "execution_count": 66,
   "metadata": {},
   "outputs": [
    {
     "name": "stdout",
     "output_type": "stream",
     "text": [
      "LogisticRegression(C=1, class_weight={1: 2}, dual=False, fit_intercept=True,\n",
      "          intercept_scaling=1, max_iter=100, multi_class='warn',\n",
      "          n_jobs=None, penalty='l2', random_state=123, solver='saga',\n",
      "          tol=0.0001, verbose=0, warm_start=False)\n",
      "Coefficient: \n",
      " [[0.19925422]]\n",
      "\n",
      "Intercept: \n",
      " [-0.51519299]\n"
     ]
    }
   ],
   "source": [
    "logit = LogisticRegression(C=1, class_weight={1:2}, random_state = 123, solver='saga')\n",
    "print(logit.fit(phone_train, y_train))\n",
    "print('Coefficient: \\n', logit.coef_)\n",
    "print()\n",
    "print('Intercept: \\n', logit.intercept_)\n",
    "\n",
    "y_pred = logit.predict(phone_train)\n",
    "y_pred_proba = logit.predict_proba(phone_train)\n",
    "X_train['prediction'] = logit.predict(phone_train)"
   ]
  },
  {
   "cell_type": "code",
   "execution_count": 67,
   "metadata": {},
   "outputs": [
    {
     "data": {
      "text/plain": [
       "0.7364217252396166"
      ]
     },
     "execution_count": 67,
     "metadata": {},
     "output_type": "execute_result"
    }
   ],
   "source": [
    "(y_train == X_train.prediction).sum() / y_train.shape[0]\n",
    "# at 80% 0.7364217252396166\n",
    "# at 75% 0.7364634608102991\n",
    "# at 50% 0.7384265833570008"
   ]
  },
  {
   "cell_type": "code",
   "execution_count": 68,
   "metadata": {},
   "outputs": [
    {
     "data": {
      "text/plain": [
       "0.7364217252396166"
      ]
     },
     "execution_count": 68,
     "metadata": {},
     "output_type": "execute_result"
    }
   ],
   "source": [
    "logit.score(X_train[['phone_service']], y_train)"
   ]
  },
  {
   "cell_type": "code",
   "execution_count": 69,
   "metadata": {},
   "outputs": [
    {
     "data": {
      "text/html": [
       "<div>\n",
       "<style scoped>\n",
       "    .dataframe tbody tr th:only-of-type {\n",
       "        vertical-align: middle;\n",
       "    }\n",
       "\n",
       "    .dataframe tbody tr th {\n",
       "        vertical-align: top;\n",
       "    }\n",
       "\n",
       "    .dataframe thead th {\n",
       "        text-align: right;\n",
       "    }\n",
       "</style>\n",
       "<table border=\"1\" class=\"dataframe\">\n",
       "  <thead>\n",
       "    <tr style=\"text-align: right;\">\n",
       "      <th></th>\n",
       "      <th>Pred -</th>\n",
       "      <th>Pred +</th>\n",
       "    </tr>\n",
       "  </thead>\n",
       "  <tbody>\n",
       "    <tr>\n",
       "      <th>Actual -</th>\n",
       "      <td>4149</td>\n",
       "      <td>0</td>\n",
       "    </tr>\n",
       "    <tr>\n",
       "      <th>Actual +</th>\n",
       "      <td>1485</td>\n",
       "      <td>0</td>\n",
       "    </tr>\n",
       "  </tbody>\n",
       "</table>\n",
       "</div>"
      ],
      "text/plain": [
       "          Pred -  Pred +\n",
       "Actual -    4149       0\n",
       "Actual +    1485       0"
      ]
     },
     "execution_count": 69,
     "metadata": {},
     "output_type": "execute_result"
    }
   ],
   "source": [
    "confusion_df = pd.DataFrame(confusion_matrix(y_train, X_train.prediction),\n",
    "             columns=['Pred -', 'Pred +'], index=['Actual -', 'Actual +'])\n",
    "\n",
    "confusion_df"
   ]
  },
  {
   "cell_type": "code",
   "execution_count": 70,
   "metadata": {},
   "outputs": [
    {
     "name": "stdout",
     "output_type": "stream",
     "text": [
      "              precision    recall  f1-score   support\n",
      "\n",
      "           0       0.74      1.00      0.85      4149\n",
      "           1       0.00      0.00      0.00      1485\n",
      "\n",
      "   micro avg       0.74      0.74      0.74      5634\n",
      "   macro avg       0.37      0.50      0.42      5634\n",
      "weighted avg       0.54      0.74      0.62      5634\n",
      "\n"
     ]
    },
    {
     "name": "stderr",
     "output_type": "stream",
     "text": [
      "/usr/local/anaconda3/lib/python3.7/site-packages/sklearn/metrics/classification.py:1143: UndefinedMetricWarning: Precision and F-score are ill-defined and being set to 0.0 in labels with no predicted samples.\n",
      "  'precision', 'predicted', average, warn_for)\n",
      "/usr/local/anaconda3/lib/python3.7/site-packages/sklearn/metrics/classification.py:1143: UndefinedMetricWarning: Precision and F-score are ill-defined and being set to 0.0 in labels with no predicted samples.\n",
      "  'precision', 'predicted', average, warn_for)\n",
      "/usr/local/anaconda3/lib/python3.7/site-packages/sklearn/metrics/classification.py:1143: UndefinedMetricWarning: Precision and F-score are ill-defined and being set to 0.0 in labels with no predicted samples.\n",
      "  'precision', 'predicted', average, warn_for)\n"
     ]
    }
   ],
   "source": [
    "print(classification_report(y_train, y_pred))"
   ]
  },
  {
   "cell_type": "markdown",
   "metadata": {},
   "source": [
    "##### The accuracy for a logistic regression including only phone_service was different, but it also got more accurate as I decreased the percentage of data that went to test. That should not happen. ????\n",
    "\n",
    "##### Trying with each column now...\n",
    "##### First,  just multiple_lines against churn"
   ]
  },
  {
   "cell_type": "code",
   "execution_count": 71,
   "metadata": {},
   "outputs": [
    {
     "data": {
      "text/html": [
       "<div>\n",
       "<style scoped>\n",
       "    .dataframe tbody tr th:only-of-type {\n",
       "        vertical-align: middle;\n",
       "    }\n",
       "\n",
       "    .dataframe tbody tr th {\n",
       "        vertical-align: top;\n",
       "    }\n",
       "\n",
       "    .dataframe thead th {\n",
       "        text-align: right;\n",
       "    }\n",
       "</style>\n",
       "<table border=\"1\" class=\"dataframe\">\n",
       "  <thead>\n",
       "    <tr style=\"text-align: right;\">\n",
       "      <th></th>\n",
       "      <th>phone_service</th>\n",
       "      <th>multiple_lines</th>\n",
       "      <th>internet_service_type_id</th>\n",
       "      <th>contract_type</th>\n",
       "      <th>monthly</th>\n",
       "    </tr>\n",
       "  </thead>\n",
       "  <tbody>\n",
       "    <tr>\n",
       "      <th>6924</th>\n",
       "      <td>1</td>\n",
       "      <td>1</td>\n",
       "      <td>3</td>\n",
       "      <td>2</td>\n",
       "      <td>0</td>\n",
       "    </tr>\n",
       "    <tr>\n",
       "      <th>5249</th>\n",
       "      <td>1</td>\n",
       "      <td>0</td>\n",
       "      <td>2</td>\n",
       "      <td>2</td>\n",
       "      <td>0</td>\n",
       "    </tr>\n",
       "    <tr>\n",
       "      <th>5852</th>\n",
       "      <td>1</td>\n",
       "      <td>0</td>\n",
       "      <td>3</td>\n",
       "      <td>0</td>\n",
       "      <td>1</td>\n",
       "    </tr>\n",
       "  </tbody>\n",
       "</table>\n",
       "</div>"
      ],
      "text/plain": [
       "      phone_service  multiple_lines  internet_service_type_id  contract_type  \\\n",
       "6924              1               1                         3              2   \n",
       "5249              1               0                         2              2   \n",
       "5852              1               0                         3              0   \n",
       "\n",
       "      monthly  \n",
       "6924        0  \n",
       "5249        0  \n",
       "5852        1  "
      ]
     },
     "execution_count": 71,
     "metadata": {},
     "output_type": "execute_result"
    }
   ],
   "source": [
    "X_train.drop(['prediction'], inplace=True, axis=1)\n",
    "X_train.head(3)"
   ]
  },
  {
   "cell_type": "code",
   "execution_count": 72,
   "metadata": {},
   "outputs": [
    {
     "name": "stdout",
     "output_type": "stream",
     "text": [
      "<class 'pandas.core.frame.DataFrame'>\n",
      "Int64Index: 5634 entries, 6924 to 3582\n",
      "Data columns (total 1 columns):\n",
      "multiple_lines    5634 non-null int64\n",
      "dtypes: int64(1)\n",
      "memory usage: 88.0 KB\n",
      "None\n",
      "LogisticRegression(C=1, class_weight={1: 2}, dual=False, fit_intercept=True,\n",
      "          intercept_scaling=1, max_iter=100, multi_class='warn',\n",
      "          n_jobs=None, penalty='l2', random_state=123, solver='saga',\n",
      "          tol=0.0001, verbose=0, warm_start=False)\n",
      "Coefficient: \n",
      " [[0.17787032]]\n",
      "\n",
      "Intercept: \n",
      " [-0.41101349]\n"
     ]
    },
    {
     "data": {
      "text/plain": [
       "0.7364217252396166"
      ]
     },
     "execution_count": 72,
     "metadata": {},
     "output_type": "execute_result"
    }
   ],
   "source": [
    "multiple_lines_train = X_train[['multiple_lines']]\n",
    "print(multiple_lines_train.info())\n",
    "\n",
    "logit = LogisticRegression(C=1, class_weight={1:2}, random_state = 123, solver='saga')\n",
    "print(logit.fit(multiple_lines_train, y_train))\n",
    "print('Coefficient: \\n', logit.coef_)\n",
    "print()\n",
    "print('Intercept: \\n', logit.intercept_)\n",
    "\n",
    "y_pred = logit.predict(multiple_lines_train)\n",
    "y_pred_proba = logit.predict_proba(multiple_lines_train)\n",
    "X_train['prediction'] = logit.predict(multiple_lines_train)\n",
    "\n",
    "(y_train == X_train.prediction).sum() / y_train.shape[0]\n",
    "# at 80% 0.7364217252396166\n",
    "# identical to using only phone!"
   ]
  },
  {
   "cell_type": "code",
   "execution_count": 73,
   "metadata": {},
   "outputs": [
    {
     "data": {
      "text/plain": [
       "0.7364217252396166"
      ]
     },
     "execution_count": 73,
     "metadata": {},
     "output_type": "execute_result"
    }
   ],
   "source": [
    "logit.score(X_train[['multiple_lines']], y_train)"
   ]
  },
  {
   "cell_type": "code",
   "execution_count": 74,
   "metadata": {},
   "outputs": [
    {
     "data": {
      "text/html": [
       "<div>\n",
       "<style scoped>\n",
       "    .dataframe tbody tr th:only-of-type {\n",
       "        vertical-align: middle;\n",
       "    }\n",
       "\n",
       "    .dataframe tbody tr th {\n",
       "        vertical-align: top;\n",
       "    }\n",
       "\n",
       "    .dataframe thead th {\n",
       "        text-align: right;\n",
       "    }\n",
       "</style>\n",
       "<table border=\"1\" class=\"dataframe\">\n",
       "  <thead>\n",
       "    <tr style=\"text-align: right;\">\n",
       "      <th></th>\n",
       "      <th>Pred -</th>\n",
       "      <th>Pred +</th>\n",
       "    </tr>\n",
       "  </thead>\n",
       "  <tbody>\n",
       "    <tr>\n",
       "      <th>Actual -</th>\n",
       "      <td>4149</td>\n",
       "      <td>0</td>\n",
       "    </tr>\n",
       "    <tr>\n",
       "      <th>Actual +</th>\n",
       "      <td>1485</td>\n",
       "      <td>0</td>\n",
       "    </tr>\n",
       "  </tbody>\n",
       "</table>\n",
       "</div>"
      ],
      "text/plain": [
       "          Pred -  Pred +\n",
       "Actual -    4149       0\n",
       "Actual +    1485       0"
      ]
     },
     "execution_count": 74,
     "metadata": {},
     "output_type": "execute_result"
    }
   ],
   "source": [
    "confusion_df = pd.DataFrame(confusion_matrix(y_train, X_train.prediction),\n",
    "             columns=['Pred -', 'Pred +'], index=['Actual -', 'Actual +'])\n",
    "\n",
    "confusion_df"
   ]
  },
  {
   "cell_type": "code",
   "execution_count": 75,
   "metadata": {},
   "outputs": [
    {
     "name": "stdout",
     "output_type": "stream",
     "text": [
      "              precision    recall  f1-score   support\n",
      "\n",
      "           0       0.74      1.00      0.85      4149\n",
      "           1       0.00      0.00      0.00      1485\n",
      "\n",
      "   micro avg       0.74      0.74      0.74      5634\n",
      "   macro avg       0.37      0.50      0.42      5634\n",
      "weighted avg       0.54      0.74      0.62      5634\n",
      "\n"
     ]
    },
    {
     "name": "stderr",
     "output_type": "stream",
     "text": [
      "/usr/local/anaconda3/lib/python3.7/site-packages/sklearn/metrics/classification.py:1143: UndefinedMetricWarning: Precision and F-score are ill-defined and being set to 0.0 in labels with no predicted samples.\n",
      "  'precision', 'predicted', average, warn_for)\n",
      "/usr/local/anaconda3/lib/python3.7/site-packages/sklearn/metrics/classification.py:1143: UndefinedMetricWarning: Precision and F-score are ill-defined and being set to 0.0 in labels with no predicted samples.\n",
      "  'precision', 'predicted', average, warn_for)\n",
      "/usr/local/anaconda3/lib/python3.7/site-packages/sklearn/metrics/classification.py:1143: UndefinedMetricWarning: Precision and F-score are ill-defined and being set to 0.0 in labels with no predicted samples.\n",
      "  'precision', 'predicted', average, warn_for)\n"
     ]
    }
   ],
   "source": [
    "print(classification_report(y_train, y_pred))"
   ]
  },
  {
   "cell_type": "markdown",
   "metadata": {},
   "source": [
    "##### just internet_service_type_id against churn"
   ]
  },
  {
   "cell_type": "code",
   "execution_count": 76,
   "metadata": {},
   "outputs": [
    {
     "data": {
      "text/html": [
       "<div>\n",
       "<style scoped>\n",
       "    .dataframe tbody tr th:only-of-type {\n",
       "        vertical-align: middle;\n",
       "    }\n",
       "\n",
       "    .dataframe tbody tr th {\n",
       "        vertical-align: top;\n",
       "    }\n",
       "\n",
       "    .dataframe thead th {\n",
       "        text-align: right;\n",
       "    }\n",
       "</style>\n",
       "<table border=\"1\" class=\"dataframe\">\n",
       "  <thead>\n",
       "    <tr style=\"text-align: right;\">\n",
       "      <th></th>\n",
       "      <th>phone_service</th>\n",
       "      <th>multiple_lines</th>\n",
       "      <th>internet_service_type_id</th>\n",
       "      <th>contract_type</th>\n",
       "      <th>monthly</th>\n",
       "    </tr>\n",
       "  </thead>\n",
       "  <tbody>\n",
       "    <tr>\n",
       "      <th>6924</th>\n",
       "      <td>1</td>\n",
       "      <td>1</td>\n",
       "      <td>3</td>\n",
       "      <td>2</td>\n",
       "      <td>0</td>\n",
       "    </tr>\n",
       "    <tr>\n",
       "      <th>5249</th>\n",
       "      <td>1</td>\n",
       "      <td>0</td>\n",
       "      <td>2</td>\n",
       "      <td>2</td>\n",
       "      <td>0</td>\n",
       "    </tr>\n",
       "    <tr>\n",
       "      <th>5852</th>\n",
       "      <td>1</td>\n",
       "      <td>0</td>\n",
       "      <td>3</td>\n",
       "      <td>0</td>\n",
       "      <td>1</td>\n",
       "    </tr>\n",
       "  </tbody>\n",
       "</table>\n",
       "</div>"
      ],
      "text/plain": [
       "      phone_service  multiple_lines  internet_service_type_id  contract_type  \\\n",
       "6924              1               1                         3              2   \n",
       "5249              1               0                         2              2   \n",
       "5852              1               0                         3              0   \n",
       "\n",
       "      monthly  \n",
       "6924        0  \n",
       "5249        0  \n",
       "5852        1  "
      ]
     },
     "execution_count": 76,
     "metadata": {},
     "output_type": "execute_result"
    }
   ],
   "source": [
    "X_train.drop(['prediction'], inplace=True, axis=1)\n",
    "X_train.head(3)"
   ]
  },
  {
   "cell_type": "code",
   "execution_count": 77,
   "metadata": {},
   "outputs": [
    {
     "name": "stdout",
     "output_type": "stream",
     "text": [
      "<class 'pandas.core.frame.DataFrame'>\n",
      "Int64Index: 5634 entries, 6924 to 3582\n",
      "Data columns (total 1 columns):\n",
      "internet_service_type_id    5634 non-null int64\n",
      "dtypes: int64(1)\n",
      "memory usage: 88.0 KB\n",
      "None\n",
      "LogisticRegression(C=1, class_weight={1: 2}, dual=False, fit_intercept=True,\n",
      "          intercept_scaling=1, max_iter=100, multi_class='warn',\n",
      "          n_jobs=None, penalty='l2', random_state=123, solver='saga',\n",
      "          tol=0.0001, verbose=0, warm_start=False)\n",
      "Coefficient: \n",
      " [[-0.13834664]]\n",
      "\n",
      "Intercept: \n",
      " [-0.08051117]\n"
     ]
    },
    {
     "data": {
      "text/plain": [
       "0.7364217252396166"
      ]
     },
     "execution_count": 77,
     "metadata": {},
     "output_type": "execute_result"
    }
   ],
   "source": [
    "internet_service_type_id_train = X_train[['internet_service_type_id']]\n",
    "print(internet_service_type_id_train.info())\n",
    "\n",
    "logit = LogisticRegression(C=1, class_weight={1:2}, random_state = 123, solver='saga')\n",
    "print(logit.fit(internet_service_type_id_train, y_train))\n",
    "print('Coefficient: \\n', logit.coef_)\n",
    "print()\n",
    "print('Intercept: \\n', logit.intercept_)\n",
    "\n",
    "y_pred = logit.predict(internet_service_type_id_train)\n",
    "y_pred_proba = logit.predict_proba(internet_service_type_id_train)\n",
    "X_train['prediction'] = logit.predict(internet_service_type_id_train)\n",
    "\n",
    "(y_train == X_train.prediction).sum() / y_train.shape[0]\n",
    "# at 80% 0.7364217252396166\n",
    "# and again... identical to using only phone!"
   ]
  },
  {
   "cell_type": "code",
   "execution_count": 78,
   "metadata": {},
   "outputs": [
    {
     "data": {
      "text/plain": [
       "0.7364217252396166"
      ]
     },
     "execution_count": 78,
     "metadata": {},
     "output_type": "execute_result"
    }
   ],
   "source": [
    "logit.score(X_train[['internet_service_type_id']], y_train)"
   ]
  },
  {
   "cell_type": "code",
   "execution_count": 79,
   "metadata": {},
   "outputs": [
    {
     "data": {
      "text/html": [
       "<div>\n",
       "<style scoped>\n",
       "    .dataframe tbody tr th:only-of-type {\n",
       "        vertical-align: middle;\n",
       "    }\n",
       "\n",
       "    .dataframe tbody tr th {\n",
       "        vertical-align: top;\n",
       "    }\n",
       "\n",
       "    .dataframe thead th {\n",
       "        text-align: right;\n",
       "    }\n",
       "</style>\n",
       "<table border=\"1\" class=\"dataframe\">\n",
       "  <thead>\n",
       "    <tr style=\"text-align: right;\">\n",
       "      <th></th>\n",
       "      <th>Pred -</th>\n",
       "      <th>Pred +</th>\n",
       "    </tr>\n",
       "  </thead>\n",
       "  <tbody>\n",
       "    <tr>\n",
       "      <th>Actual -</th>\n",
       "      <td>4149</td>\n",
       "      <td>0</td>\n",
       "    </tr>\n",
       "    <tr>\n",
       "      <th>Actual +</th>\n",
       "      <td>1485</td>\n",
       "      <td>0</td>\n",
       "    </tr>\n",
       "  </tbody>\n",
       "</table>\n",
       "</div>"
      ],
      "text/plain": [
       "          Pred -  Pred +\n",
       "Actual -    4149       0\n",
       "Actual +    1485       0"
      ]
     },
     "execution_count": 79,
     "metadata": {},
     "output_type": "execute_result"
    }
   ],
   "source": [
    "confusion_df = pd.DataFrame(confusion_matrix(y_train, X_train.prediction),\n",
    "             columns=['Pred -', 'Pred +'], index=['Actual -', 'Actual +'])\n",
    "\n",
    "confusion_df"
   ]
  },
  {
   "cell_type": "code",
   "execution_count": 80,
   "metadata": {},
   "outputs": [
    {
     "name": "stdout",
     "output_type": "stream",
     "text": [
      "              precision    recall  f1-score   support\n",
      "\n",
      "           0       0.74      1.00      0.85      4149\n",
      "           1       0.00      0.00      0.00      1485\n",
      "\n",
      "   micro avg       0.74      0.74      0.74      5634\n",
      "   macro avg       0.37      0.50      0.42      5634\n",
      "weighted avg       0.54      0.74      0.62      5634\n",
      "\n"
     ]
    },
    {
     "name": "stderr",
     "output_type": "stream",
     "text": [
      "/usr/local/anaconda3/lib/python3.7/site-packages/sklearn/metrics/classification.py:1143: UndefinedMetricWarning: Precision and F-score are ill-defined and being set to 0.0 in labels with no predicted samples.\n",
      "  'precision', 'predicted', average, warn_for)\n",
      "/usr/local/anaconda3/lib/python3.7/site-packages/sklearn/metrics/classification.py:1143: UndefinedMetricWarning: Precision and F-score are ill-defined and being set to 0.0 in labels with no predicted samples.\n",
      "  'precision', 'predicted', average, warn_for)\n",
      "/usr/local/anaconda3/lib/python3.7/site-packages/sklearn/metrics/classification.py:1143: UndefinedMetricWarning: Precision and F-score are ill-defined and being set to 0.0 in labels with no predicted samples.\n",
      "  'precision', 'predicted', average, warn_for)\n"
     ]
    }
   ],
   "source": [
    "print(classification_report(y_train, y_pred))"
   ]
  },
  {
   "cell_type": "markdown",
   "metadata": {},
   "source": [
    "##### just contract_type against churn"
   ]
  },
  {
   "cell_type": "code",
   "execution_count": 81,
   "metadata": {},
   "outputs": [
    {
     "data": {
      "text/html": [
       "<div>\n",
       "<style scoped>\n",
       "    .dataframe tbody tr th:only-of-type {\n",
       "        vertical-align: middle;\n",
       "    }\n",
       "\n",
       "    .dataframe tbody tr th {\n",
       "        vertical-align: top;\n",
       "    }\n",
       "\n",
       "    .dataframe thead th {\n",
       "        text-align: right;\n",
       "    }\n",
       "</style>\n",
       "<table border=\"1\" class=\"dataframe\">\n",
       "  <thead>\n",
       "    <tr style=\"text-align: right;\">\n",
       "      <th></th>\n",
       "      <th>phone_service</th>\n",
       "      <th>multiple_lines</th>\n",
       "      <th>internet_service_type_id</th>\n",
       "      <th>contract_type</th>\n",
       "      <th>monthly</th>\n",
       "    </tr>\n",
       "  </thead>\n",
       "  <tbody>\n",
       "    <tr>\n",
       "      <th>6924</th>\n",
       "      <td>1</td>\n",
       "      <td>1</td>\n",
       "      <td>3</td>\n",
       "      <td>2</td>\n",
       "      <td>0</td>\n",
       "    </tr>\n",
       "    <tr>\n",
       "      <th>5249</th>\n",
       "      <td>1</td>\n",
       "      <td>0</td>\n",
       "      <td>2</td>\n",
       "      <td>2</td>\n",
       "      <td>0</td>\n",
       "    </tr>\n",
       "    <tr>\n",
       "      <th>5852</th>\n",
       "      <td>1</td>\n",
       "      <td>0</td>\n",
       "      <td>3</td>\n",
       "      <td>0</td>\n",
       "      <td>1</td>\n",
       "    </tr>\n",
       "  </tbody>\n",
       "</table>\n",
       "</div>"
      ],
      "text/plain": [
       "      phone_service  multiple_lines  internet_service_type_id  contract_type  \\\n",
       "6924              1               1                         3              2   \n",
       "5249              1               0                         2              2   \n",
       "5852              1               0                         3              0   \n",
       "\n",
       "      monthly  \n",
       "6924        0  \n",
       "5249        0  \n",
       "5852        1  "
      ]
     },
     "execution_count": 81,
     "metadata": {},
     "output_type": "execute_result"
    }
   ],
   "source": [
    "X_train.drop(['prediction'], inplace=True, axis=1)\n",
    "X_train.head(3)"
   ]
  },
  {
   "cell_type": "code",
   "execution_count": 82,
   "metadata": {},
   "outputs": [
    {
     "name": "stdout",
     "output_type": "stream",
     "text": [
      "<class 'pandas.core.frame.DataFrame'>\n",
      "Int64Index: 5634 entries, 6924 to 3582\n",
      "Data columns (total 1 columns):\n",
      "contract_type    5634 non-null int64\n",
      "dtypes: int64(1)\n",
      "memory usage: 88.0 KB\n",
      "None\n",
      "LogisticRegression(C=1, class_weight={1: 2}, dual=False, fit_intercept=True,\n",
      "          intercept_scaling=1, max_iter=100, multi_class='warn',\n",
      "          n_jobs=None, penalty='l2', random_state=123, solver='saga',\n",
      "          tol=0.0001, verbose=0, warm_start=False)\n",
      "Coefficient: \n",
      " [[-1.65175055]]\n",
      "\n",
      "Intercept: \n",
      " [0.3723825]\n"
     ]
    },
    {
     "data": {
      "text/plain": [
       "0.6510472133475328"
      ]
     },
     "execution_count": 82,
     "metadata": {},
     "output_type": "execute_result"
    }
   ],
   "source": [
    "contract_type_train = X_train[['contract_type']]\n",
    "print(contract_type_train.info())\n",
    "\n",
    "\n",
    "logit = LogisticRegression(C=1, class_weight={1:2}, random_state = 123, solver='saga')\n",
    "print(logit.fit(contract_type_train, y_train))\n",
    "print('Coefficient: \\n', logit.coef_)\n",
    "print()\n",
    "print('Intercept: \\n', logit.intercept_)\n",
    "\n",
    "y_pred = logit.predict(contract_type_train)\n",
    "y_pred_proba = logit.predict_proba(contract_type_train)\n",
    "X_train['prediction'] = logit.predict(contract_type_train)\n",
    "\n",
    "(y_train == X_train.prediction).sum() / y_train.shape[0]\n",
    "# at 80% 0.6510472133475328\n",
    "# finally, a distinctly different accuracy rate!"
   ]
  },
  {
   "cell_type": "code",
   "execution_count": 83,
   "metadata": {},
   "outputs": [
    {
     "data": {
      "text/plain": [
       "0.6510472133475328"
      ]
     },
     "execution_count": 83,
     "metadata": {},
     "output_type": "execute_result"
    }
   ],
   "source": [
    "logit.score(X_train[['contract_type']], y_train)"
   ]
  },
  {
   "cell_type": "code",
   "execution_count": 84,
   "metadata": {},
   "outputs": [
    {
     "data": {
      "text/html": [
       "<div>\n",
       "<style scoped>\n",
       "    .dataframe tbody tr th:only-of-type {\n",
       "        vertical-align: middle;\n",
       "    }\n",
       "\n",
       "    .dataframe tbody tr th {\n",
       "        vertical-align: top;\n",
       "    }\n",
       "\n",
       "    .dataframe thead th {\n",
       "        text-align: right;\n",
       "    }\n",
       "</style>\n",
       "<table border=\"1\" class=\"dataframe\">\n",
       "  <thead>\n",
       "    <tr style=\"text-align: right;\">\n",
       "      <th></th>\n",
       "      <th>Pred -</th>\n",
       "      <th>Pred +</th>\n",
       "    </tr>\n",
       "  </thead>\n",
       "  <tbody>\n",
       "    <tr>\n",
       "      <th>Actual -</th>\n",
       "      <td>2356</td>\n",
       "      <td>1793</td>\n",
       "    </tr>\n",
       "    <tr>\n",
       "      <th>Actual +</th>\n",
       "      <td>173</td>\n",
       "      <td>1312</td>\n",
       "    </tr>\n",
       "  </tbody>\n",
       "</table>\n",
       "</div>"
      ],
      "text/plain": [
       "          Pred -  Pred +\n",
       "Actual -    2356    1793\n",
       "Actual +     173    1312"
      ]
     },
     "execution_count": 84,
     "metadata": {},
     "output_type": "execute_result"
    }
   ],
   "source": [
    "confusion_df = pd.DataFrame(confusion_matrix(y_train, X_train.prediction),\n",
    "             columns=['Pred -', 'Pred +'], index=['Actual -', 'Actual +'])\n",
    "\n",
    "confusion_df"
   ]
  },
  {
   "cell_type": "code",
   "execution_count": 85,
   "metadata": {},
   "outputs": [
    {
     "name": "stdout",
     "output_type": "stream",
     "text": [
      "              precision    recall  f1-score   support\n",
      "\n",
      "           0       0.93      0.57      0.71      4149\n",
      "           1       0.42      0.88      0.57      1485\n",
      "\n",
      "   micro avg       0.65      0.65      0.65      5634\n",
      "   macro avg       0.68      0.73      0.64      5634\n",
      "weighted avg       0.80      0.65      0.67      5634\n",
      "\n"
     ]
    }
   ],
   "source": [
    "print(classification_report(y_train, y_pred))"
   ]
  },
  {
   "cell_type": "markdown",
   "metadata": {},
   "source": [
    "### Moving on to try Decision Tree"
   ]
  },
  {
   "cell_type": "markdown",
   "metadata": {},
   "source": [
    "Drop the prediction column from X_train that I added in the last model."
   ]
  },
  {
   "cell_type": "code",
   "execution_count": 86,
   "metadata": {},
   "outputs": [
    {
     "data": {
      "text/html": [
       "<div>\n",
       "<style scoped>\n",
       "    .dataframe tbody tr th:only-of-type {\n",
       "        vertical-align: middle;\n",
       "    }\n",
       "\n",
       "    .dataframe tbody tr th {\n",
       "        vertical-align: top;\n",
       "    }\n",
       "\n",
       "    .dataframe thead th {\n",
       "        text-align: right;\n",
       "    }\n",
       "</style>\n",
       "<table border=\"1\" class=\"dataframe\">\n",
       "  <thead>\n",
       "    <tr style=\"text-align: right;\">\n",
       "      <th></th>\n",
       "      <th>phone_service</th>\n",
       "      <th>multiple_lines</th>\n",
       "      <th>internet_service_type_id</th>\n",
       "      <th>contract_type</th>\n",
       "      <th>monthly</th>\n",
       "      <th>prediction</th>\n",
       "    </tr>\n",
       "  </thead>\n",
       "  <tbody>\n",
       "    <tr>\n",
       "      <th>6924</th>\n",
       "      <td>1</td>\n",
       "      <td>1</td>\n",
       "      <td>3</td>\n",
       "      <td>2</td>\n",
       "      <td>0</td>\n",
       "      <td>0</td>\n",
       "    </tr>\n",
       "  </tbody>\n",
       "</table>\n",
       "</div>"
      ],
      "text/plain": [
       "      phone_service  multiple_lines  internet_service_type_id  contract_type  \\\n",
       "6924              1               1                         3              2   \n",
       "\n",
       "      monthly  prediction  \n",
       "6924        0           0  "
      ]
     },
     "execution_count": 86,
     "metadata": {},
     "output_type": "execute_result"
    }
   ],
   "source": [
    "X_train.head(1)"
   ]
  },
  {
   "cell_type": "code",
   "execution_count": 87,
   "metadata": {},
   "outputs": [],
   "source": [
    "X_train.drop(['prediction'], inplace=True, axis=1)"
   ]
  },
  {
   "cell_type": "code",
   "execution_count": 88,
   "metadata": {},
   "outputs": [
    {
     "data": {
      "text/html": [
       "<div>\n",
       "<style scoped>\n",
       "    .dataframe tbody tr th:only-of-type {\n",
       "        vertical-align: middle;\n",
       "    }\n",
       "\n",
       "    .dataframe tbody tr th {\n",
       "        vertical-align: top;\n",
       "    }\n",
       "\n",
       "    .dataframe thead th {\n",
       "        text-align: right;\n",
       "    }\n",
       "</style>\n",
       "<table border=\"1\" class=\"dataframe\">\n",
       "  <thead>\n",
       "    <tr style=\"text-align: right;\">\n",
       "      <th></th>\n",
       "      <th>phone_service</th>\n",
       "      <th>multiple_lines</th>\n",
       "      <th>internet_service_type_id</th>\n",
       "      <th>contract_type</th>\n",
       "      <th>monthly</th>\n",
       "    </tr>\n",
       "  </thead>\n",
       "  <tbody>\n",
       "    <tr>\n",
       "      <th>6924</th>\n",
       "      <td>1</td>\n",
       "      <td>1</td>\n",
       "      <td>3</td>\n",
       "      <td>2</td>\n",
       "      <td>0</td>\n",
       "    </tr>\n",
       "  </tbody>\n",
       "</table>\n",
       "</div>"
      ],
      "text/plain": [
       "      phone_service  multiple_lines  internet_service_type_id  contract_type  \\\n",
       "6924              1               1                         3              2   \n",
       "\n",
       "      monthly  \n",
       "6924        0  "
      ]
     },
     "execution_count": 88,
     "metadata": {},
     "output_type": "execute_result"
    }
   ],
   "source": [
    "X_train.head(1)"
   ]
  },
  {
   "cell_type": "code",
   "execution_count": 89,
   "metadata": {},
   "outputs": [
    {
     "name": "stdout",
     "output_type": "stream",
     "text": [
      "y_pred:  [0 0 0 ... 0 1 1]\n",
      "y_pred has  5634  entries.\n",
      "y_pred_proba: \n",
      "[[0.99005964 0.00994036]\n",
      " [0.96018735 0.03981265]\n",
      " [0.7974026  0.2025974 ]\n",
      " ...\n",
      " [0.85891648 0.14108352]\n",
      " [0.46113384 0.53886616]\n",
      " [0.46113384 0.53886616]]\n",
      "y_pred_proba's shape:  (5634, 2)\n",
      "Accuracy of Decision Tree classifier on training set: 0.76\n"
     ]
    },
    {
     "data": {
      "text/html": [
       "<div>\n",
       "<style scoped>\n",
       "    .dataframe tbody tr th:only-of-type {\n",
       "        vertical-align: middle;\n",
       "    }\n",
       "\n",
       "    .dataframe tbody tr th {\n",
       "        vertical-align: top;\n",
       "    }\n",
       "\n",
       "    .dataframe thead th {\n",
       "        text-align: right;\n",
       "    }\n",
       "</style>\n",
       "<table border=\"1\" class=\"dataframe\">\n",
       "  <thead>\n",
       "    <tr style=\"text-align: right;\">\n",
       "      <th></th>\n",
       "      <th>Pred -</th>\n",
       "      <th>Pred +</th>\n",
       "    </tr>\n",
       "  </thead>\n",
       "  <tbody>\n",
       "    <tr>\n",
       "      <th>Actual -</th>\n",
       "      <td>3360</td>\n",
       "      <td>789</td>\n",
       "    </tr>\n",
       "    <tr>\n",
       "      <th>Actual +</th>\n",
       "      <td>563</td>\n",
       "      <td>922</td>\n",
       "    </tr>\n",
       "  </tbody>\n",
       "</table>\n",
       "</div>"
      ],
      "text/plain": [
       "          Pred -  Pred +\n",
       "Actual -    3360     789\n",
       "Actual +     563     922"
      ]
     },
     "execution_count": 89,
     "metadata": {},
     "output_type": "execute_result"
    }
   ],
   "source": [
    "# for classificaiton you can change the algorithm as gini or entropy \n",
    "# (information gain).  Default is gini. Other option is entropy.\n",
    "# Create the Decision Tree Object\n",
    "clf = DecisionTreeClassifier(criterion='gini', max_depth=3, random_state=123)\n",
    "\n",
    "# Fit the model to the training data\n",
    "clf.fit(X_train, y_train)\n",
    "\n",
    "# Estimate churn\n",
    "y_pred = clf.predict(X_train)\n",
    "print('y_pred: ', y_pred)\n",
    "print('y_pred has ', len(y_pred), ' entries.')\n",
    "\n",
    "y_pred_proba = clf.predict_proba(X_train)\n",
    "print('y_pred_proba: ')\n",
    "print(y_pred_proba)\n",
    "print(\"y_pred_proba's shape: \", y_pred_proba.shape)\n",
    "\n",
    "# Compute the Accuracy: \n",
    "#   number of correct predictions \n",
    "#   over the number of total instances that have been evaluated.\n",
    "print('Accuracy of Decision Tree classifier on training set: {:.2f}'\n",
    "     .format(clf.score(X_train, y_train)))\n",
    "\n",
    "# Create the confusion matrix\n",
    "# Zach gave us this with X_train.prediction, but I'm pretty sure \n",
    "# I'm supposed to use y_pred, not X_train.prediction because I did not\n",
    "# create a prediction column in this model.\n",
    "confusion_df = pd.DataFrame(confusion_matrix(y_train, y_pred),\n",
    "             columns=['Pred -', 'Pred +'], index=['Actual -', 'Actual +'])\n",
    "\n",
    "confusion_df"
   ]
  },
  {
   "cell_type": "markdown",
   "metadata": {},
   "source": [
    "#### Create a classificaiton report\n",
    "- Precision: the higher this number is, the more you were able to pinpoint all positives correctly. If this is a low score, you predicted a lot of positives where there were none. tp / (tp + fp)\n",
    "- Recall: if this score is high, you didn’t miss a lot of positives. But as it gets lower, you are not predicting the positives that are actually there. tp / (tp + fn)\n",
    "- f1-score: The balanced harmonic mean of Recall and Precision, giving both metrics equal weight. The higher the F-Measure is, the better.\n",
    "- Support: number of occurrences of each class in where y is true."
   ]
  },
  {
   "cell_type": "code",
   "execution_count": 90,
   "metadata": {},
   "outputs": [
    {
     "name": "stdout",
     "output_type": "stream",
     "text": [
      "              precision    recall  f1-score   support\n",
      "\n",
      "           0       0.86      0.81      0.83      4149\n",
      "           1       0.54      0.62      0.58      1485\n",
      "\n",
      "   micro avg       0.76      0.76      0.76      5634\n",
      "   macro avg       0.70      0.72      0.70      5634\n",
      "weighted avg       0.77      0.76      0.77      5634\n",
      "\n"
     ]
    }
   ],
   "source": [
    "print(classification_report(y_train, y_pred))"
   ]
  },
  {
   "cell_type": "markdown",
   "metadata": {},
   "source": [
    "#### Test Model\n",
    "##### Compute the accuracy of the model when run on the test data"
   ]
  },
  {
   "cell_type": "code",
   "execution_count": 91,
   "metadata": {},
   "outputs": [
    {
     "data": {
      "text/html": [
       "<div>\n",
       "<style scoped>\n",
       "    .dataframe tbody tr th:only-of-type {\n",
       "        vertical-align: middle;\n",
       "    }\n",
       "\n",
       "    .dataframe tbody tr th {\n",
       "        vertical-align: top;\n",
       "    }\n",
       "\n",
       "    .dataframe thead th {\n",
       "        text-align: right;\n",
       "    }\n",
       "</style>\n",
       "<table border=\"1\" class=\"dataframe\">\n",
       "  <thead>\n",
       "    <tr style=\"text-align: right;\">\n",
       "      <th></th>\n",
       "      <th>phone_service</th>\n",
       "      <th>multiple_lines</th>\n",
       "      <th>internet_service_type_id</th>\n",
       "      <th>contract_type</th>\n",
       "      <th>monthly</th>\n",
       "    </tr>\n",
       "  </thead>\n",
       "  <tbody>\n",
       "    <tr>\n",
       "      <th>941</th>\n",
       "      <td>1</td>\n",
       "      <td>0</td>\n",
       "      <td>1</td>\n",
       "      <td>0</td>\n",
       "      <td>1</td>\n",
       "    </tr>\n",
       "    <tr>\n",
       "      <th>1404</th>\n",
       "      <td>1</td>\n",
       "      <td>0</td>\n",
       "      <td>1</td>\n",
       "      <td>1</td>\n",
       "      <td>0</td>\n",
       "    </tr>\n",
       "    <tr>\n",
       "      <th>5515</th>\n",
       "      <td>1</td>\n",
       "      <td>1</td>\n",
       "      <td>2</td>\n",
       "      <td>2</td>\n",
       "      <td>0</td>\n",
       "    </tr>\n",
       "  </tbody>\n",
       "</table>\n",
       "</div>"
      ],
      "text/plain": [
       "      phone_service  multiple_lines  internet_service_type_id  contract_type  \\\n",
       "941               1               0                         1              0   \n",
       "1404              1               0                         1              1   \n",
       "5515              1               1                         2              2   \n",
       "\n",
       "      monthly  \n",
       "941         1  \n",
       "1404        0  \n",
       "5515        0  "
      ]
     },
     "execution_count": 91,
     "metadata": {},
     "output_type": "execute_result"
    }
   ],
   "source": [
    "X_test.head(3)"
   ]
  },
  {
   "cell_type": "code",
   "execution_count": 92,
   "metadata": {},
   "outputs": [
    {
     "data": {
      "text/plain": [
       "941     0\n",
       "1404    0\n",
       "5515    0\n",
       "Name: churn, dtype: int64"
      ]
     },
     "execution_count": 92,
     "metadata": {},
     "output_type": "execute_result"
    }
   ],
   "source": [
    "y_test.head(3)"
   ]
  },
  {
   "cell_type": "code",
   "execution_count": 93,
   "metadata": {},
   "outputs": [
    {
     "name": "stdout",
     "output_type": "stream",
     "text": [
      "Accuracy of Decision Tree classifier on test set: 0.77\n"
     ]
    }
   ],
   "source": [
    "print('Accuracy of Decision Tree classifier on test set: {:.2f}'\n",
    "     .format(clf.score(X_test, y_test)))"
   ]
  },
  {
   "cell_type": "markdown",
   "metadata": {},
   "source": [
    "#### Visualize Model\n",
    "\n",
    "# Where is the code Zach offered us to make the tree prettier?"
   ]
  },
  {
   "cell_type": "code",
   "execution_count": 94,
   "metadata": {},
   "outputs": [
    {
     "data": {
      "text/plain": [
       "'churn_decision_tree.pdf'"
      ]
     },
     "execution_count": 94,
     "metadata": {},
     "output_type": "execute_result"
    }
   ],
   "source": [
    "dot_data = tree.export_graphviz(clf, out_file=None) \n",
    "graph = graphviz.Source(dot_data) \n",
    "\n",
    "graph.render('churn_decision_tree', view=True)"
   ]
  },
  {
   "cell_type": "markdown",
   "metadata": {},
   "source": [
    "### Try Decision Tree with only contract_type"
   ]
  },
  {
   "cell_type": "code",
   "execution_count": 95,
   "metadata": {},
   "outputs": [
    {
     "data": {
      "text/html": [
       "<div>\n",
       "<style scoped>\n",
       "    .dataframe tbody tr th:only-of-type {\n",
       "        vertical-align: middle;\n",
       "    }\n",
       "\n",
       "    .dataframe tbody tr th {\n",
       "        vertical-align: top;\n",
       "    }\n",
       "\n",
       "    .dataframe thead th {\n",
       "        text-align: right;\n",
       "    }\n",
       "</style>\n",
       "<table border=\"1\" class=\"dataframe\">\n",
       "  <thead>\n",
       "    <tr style=\"text-align: right;\">\n",
       "      <th></th>\n",
       "      <th>monthly</th>\n",
       "    </tr>\n",
       "  </thead>\n",
       "  <tbody>\n",
       "    <tr>\n",
       "      <th>6924</th>\n",
       "      <td>0</td>\n",
       "    </tr>\n",
       "    <tr>\n",
       "      <th>5249</th>\n",
       "      <td>0</td>\n",
       "    </tr>\n",
       "    <tr>\n",
       "      <th>5852</th>\n",
       "      <td>1</td>\n",
       "    </tr>\n",
       "  </tbody>\n",
       "</table>\n",
       "</div>"
      ],
      "text/plain": [
       "      monthly\n",
       "6924        0\n",
       "5249        0\n",
       "5852        1"
      ]
     },
     "execution_count": 95,
     "metadata": {},
     "output_type": "execute_result"
    }
   ],
   "source": [
    "month_train.head(3)"
   ]
  },
  {
   "cell_type": "code",
   "execution_count": 96,
   "metadata": {},
   "outputs": [
    {
     "name": "stdout",
     "output_type": "stream",
     "text": [
      "y_pred:  [0 0 0 ... 0 0 0]\n",
      "y_pred has  5634  entries.\n",
      "y_pred_proba: \n",
      "[[0.93159352 0.06840648]\n",
      " [0.93159352 0.06840648]\n",
      " [0.57745572 0.42254428]\n",
      " ...\n",
      " [0.93159352 0.06840648]\n",
      " [0.57745572 0.42254428]\n",
      " [0.57745572 0.42254428]]\n",
      "y_pred_proba's shape:  (5634, 2)\n",
      "Accuracy of Decision Tree classifier on training set: 0.74\n"
     ]
    },
    {
     "data": {
      "text/html": [
       "<div>\n",
       "<style scoped>\n",
       "    .dataframe tbody tr th:only-of-type {\n",
       "        vertical-align: middle;\n",
       "    }\n",
       "\n",
       "    .dataframe tbody tr th {\n",
       "        vertical-align: top;\n",
       "    }\n",
       "\n",
       "    .dataframe thead th {\n",
       "        text-align: right;\n",
       "    }\n",
       "</style>\n",
       "<table border=\"1\" class=\"dataframe\">\n",
       "  <thead>\n",
       "    <tr style=\"text-align: right;\">\n",
       "      <th></th>\n",
       "      <th>Pred -</th>\n",
       "      <th>Pred +</th>\n",
       "    </tr>\n",
       "  </thead>\n",
       "  <tbody>\n",
       "    <tr>\n",
       "      <th>Actual -</th>\n",
       "      <td>4149</td>\n",
       "      <td>0</td>\n",
       "    </tr>\n",
       "    <tr>\n",
       "      <th>Actual +</th>\n",
       "      <td>1485</td>\n",
       "      <td>0</td>\n",
       "    </tr>\n",
       "  </tbody>\n",
       "</table>\n",
       "</div>"
      ],
      "text/plain": [
       "          Pred -  Pred +\n",
       "Actual -    4149       0\n",
       "Actual +    1485       0"
      ]
     },
     "execution_count": 96,
     "metadata": {},
     "output_type": "execute_result"
    }
   ],
   "source": [
    "# for classificaiton you can change the algorithm as gini or entropy \n",
    "# (information gain).  Default is gini. Other option is entropy.\n",
    "# Create the Decision Tree Object\n",
    "clf = DecisionTreeClassifier(criterion='gini', max_depth=3, random_state=123)\n",
    "\n",
    "# Fit the model to the training data\n",
    "clf.fit(month_train, y_train)\n",
    "\n",
    "# Estimate churn\n",
    "y_pred = clf.predict(month_train)\n",
    "print('y_pred: ', y_pred)\n",
    "print('y_pred has ', len(y_pred), ' entries.')\n",
    "\n",
    "y_pred_proba = clf.predict_proba(month_train)\n",
    "print('y_pred_proba: ')\n",
    "print(y_pred_proba)\n",
    "print(\"y_pred_proba's shape: \", y_pred_proba.shape)\n",
    "\n",
    "# Compute the Accuracy: \n",
    "#   number of correct predictions \n",
    "#   over the number of total instances that have been evaluated.\n",
    "print('Accuracy of Decision Tree classifier on training set: {:.2f}'\n",
    "     .format(clf.score(month_train, y_train)))\n",
    "\n",
    "# Create the confusion matrix\n",
    "# Zach gave us this with X_train.prediction, but I'm pretty sure \n",
    "# I'm supposed to use y_pred, not X_train.prediction because I did not\n",
    "# create a prediction column in this model.\n",
    "confusion_df = pd.DataFrame(confusion_matrix(y_train, y_pred),\n",
    "             columns=['Pred -', 'Pred +'], index=['Actual -', 'Actual +'])\n",
    "\n",
    "confusion_df"
   ]
  },
  {
   "cell_type": "markdown",
   "metadata": {},
   "source": [
    "#### Create a classificaton report\n",
    "- Precision: the higher this number is, the more you were able to pinpoint all positives correctly. If this is a low score, you predicted a lot of positives where there were none. tp / (tp + fp)\n",
    "- Recall: if this score is high, you didn’t miss a lot of positives. But as it gets lower, you are not predicting the positives that are actually there. tp / (tp + fn)\n",
    "- f1-score: The balanced harmonic mean of Recall and Precision, giving both metrics equal weight. The higher the F-Measure is, the better.\n",
    "- Support: number of occurrences of each class in where y is true."
   ]
  },
  {
   "cell_type": "code",
   "execution_count": 97,
   "metadata": {},
   "outputs": [
    {
     "name": "stdout",
     "output_type": "stream",
     "text": [
      "              precision    recall  f1-score   support\n",
      "\n",
      "           0       0.74      1.00      0.85      4149\n",
      "           1       0.00      0.00      0.00      1485\n",
      "\n",
      "   micro avg       0.74      0.74      0.74      5634\n",
      "   macro avg       0.37      0.50      0.42      5634\n",
      "weighted avg       0.54      0.74      0.62      5634\n",
      "\n"
     ]
    },
    {
     "name": "stderr",
     "output_type": "stream",
     "text": [
      "/usr/local/anaconda3/lib/python3.7/site-packages/sklearn/metrics/classification.py:1143: UndefinedMetricWarning: Precision and F-score are ill-defined and being set to 0.0 in labels with no predicted samples.\n",
      "  'precision', 'predicted', average, warn_for)\n",
      "/usr/local/anaconda3/lib/python3.7/site-packages/sklearn/metrics/classification.py:1143: UndefinedMetricWarning: Precision and F-score are ill-defined and being set to 0.0 in labels with no predicted samples.\n",
      "  'precision', 'predicted', average, warn_for)\n",
      "/usr/local/anaconda3/lib/python3.7/site-packages/sklearn/metrics/classification.py:1143: UndefinedMetricWarning: Precision and F-score are ill-defined and being set to 0.0 in labels with no predicted samples.\n",
      "  'precision', 'predicted', average, warn_for)\n"
     ]
    }
   ],
   "source": [
    "print(classification_report(y_train, y_pred))"
   ]
  },
  {
   "cell_type": "markdown",
   "metadata": {},
   "source": [
    "#### Test Model\n",
    "##### Compute the accuracy of the model when run on the test data"
   ]
  },
  {
   "cell_type": "code",
   "execution_count": 98,
   "metadata": {},
   "outputs": [
    {
     "data": {
      "text/html": [
       "<div>\n",
       "<style scoped>\n",
       "    .dataframe tbody tr th:only-of-type {\n",
       "        vertical-align: middle;\n",
       "    }\n",
       "\n",
       "    .dataframe tbody tr th {\n",
       "        vertical-align: top;\n",
       "    }\n",
       "\n",
       "    .dataframe thead th {\n",
       "        text-align: right;\n",
       "    }\n",
       "</style>\n",
       "<table border=\"1\" class=\"dataframe\">\n",
       "  <thead>\n",
       "    <tr style=\"text-align: right;\">\n",
       "      <th></th>\n",
       "      <th>monthly</th>\n",
       "    </tr>\n",
       "  </thead>\n",
       "  <tbody>\n",
       "    <tr>\n",
       "      <th>941</th>\n",
       "      <td>1</td>\n",
       "    </tr>\n",
       "    <tr>\n",
       "      <th>1404</th>\n",
       "      <td>0</td>\n",
       "    </tr>\n",
       "    <tr>\n",
       "      <th>5515</th>\n",
       "      <td>0</td>\n",
       "    </tr>\n",
       "  </tbody>\n",
       "</table>\n",
       "</div>"
      ],
      "text/plain": [
       "      monthly\n",
       "941         1\n",
       "1404        0\n",
       "5515        0"
      ]
     },
     "execution_count": 98,
     "metadata": {},
     "output_type": "execute_result"
    }
   ],
   "source": [
    "month_test = X_test[['monthly']]\n",
    "month_test.head(3)"
   ]
  },
  {
   "cell_type": "code",
   "execution_count": 99,
   "metadata": {},
   "outputs": [
    {
     "data": {
      "text/plain": [
       "0.7274662881476224"
      ]
     },
     "execution_count": 99,
     "metadata": {},
     "output_type": "execute_result"
    }
   ],
   "source": [
    "clf.score(month_test, y_test)"
   ]
  },
  {
   "cell_type": "markdown",
   "metadata": {},
   "source": [
    "### Random Forest\n",
    "#### Train Model\n",
    "##### Create the Random Forest Object"
   ]
  },
  {
   "cell_type": "code",
   "execution_count": 100,
   "metadata": {},
   "outputs": [],
   "source": [
    "rf = RandomForestClassifier(bootstrap=True, \n",
    "                            class_weight=None, \n",
    "                            criterion='gini',\n",
    "                            min_samples_leaf=3,\n",
    "                            n_estimators=100,\n",
    "                            max_depth=3, \n",
    "                            random_state=123)"
   ]
  },
  {
   "cell_type": "markdown",
   "metadata": {},
   "source": [
    "##### Fit the model to the training data"
   ]
  },
  {
   "cell_type": "code",
   "execution_count": 101,
   "metadata": {},
   "outputs": [
    {
     "data": {
      "text/plain": [
       "RandomForestClassifier(bootstrap=True, class_weight=None, criterion='gini',\n",
       "            max_depth=3, max_features='auto', max_leaf_nodes=None,\n",
       "            min_impurity_decrease=0.0, min_impurity_split=None,\n",
       "            min_samples_leaf=3, min_samples_split=2,\n",
       "            min_weight_fraction_leaf=0.0, n_estimators=100, n_jobs=None,\n",
       "            oob_score=False, random_state=123, verbose=0, warm_start=False)"
      ]
     },
     "execution_count": 101,
     "metadata": {},
     "output_type": "execute_result"
    }
   ],
   "source": [
    "rf.fit(X_train, y_train)"
   ]
  },
  {
   "cell_type": "markdown",
   "metadata": {},
   "source": [
    "##### Print Feature Importances"
   ]
  },
  {
   "cell_type": "code",
   "execution_count": 102,
   "metadata": {},
   "outputs": [
    {
     "name": "stdout",
     "output_type": "stream",
     "text": [
      "[0.0035486  0.01687932 0.17799251 0.40705893 0.39452064]\n"
     ]
    }
   ],
   "source": [
    "print(rf.feature_importances_)"
   ]
  },
  {
   "cell_type": "markdown",
   "metadata": {},
   "source": [
    "##### Estimate whether or not a customer would churn, using the training data"
   ]
  },
  {
   "cell_type": "code",
   "execution_count": 103,
   "metadata": {},
   "outputs": [],
   "source": [
    "y_pred = rf.predict(X_train)"
   ]
  },
  {
   "cell_type": "markdown",
   "metadata": {},
   "source": [
    "##### Estimate the probability of a customer churning, using the training data"
   ]
  },
  {
   "cell_type": "code",
   "execution_count": 104,
   "metadata": {},
   "outputs": [],
   "source": [
    "y_pred_proba = rf.predict_proba(X_train)"
   ]
  },
  {
   "cell_type": "markdown",
   "metadata": {},
   "source": [
    "#### Evaluate Model\n",
    "##### Compute the Accuracy"
   ]
  },
  {
   "cell_type": "code",
   "execution_count": 105,
   "metadata": {},
   "outputs": [
    {
     "name": "stdout",
     "output_type": "stream",
     "text": [
      "Accuracy of random forest classifier on training set: 0.75\n"
     ]
    }
   ],
   "source": [
    "print('Accuracy of random forest classifier on training set: {:.2f}'\n",
    "     .format(rf.score(X_train, y_train)))"
   ]
  },
  {
   "cell_type": "markdown",
   "metadata": {},
   "source": [
    "##### Create a confusion matrix"
   ]
  },
  {
   "cell_type": "code",
   "execution_count": 106,
   "metadata": {},
   "outputs": [
    {
     "data": {
      "text/html": [
       "<div>\n",
       "<style scoped>\n",
       "    .dataframe tbody tr th:only-of-type {\n",
       "        vertical-align: middle;\n",
       "    }\n",
       "\n",
       "    .dataframe tbody tr th {\n",
       "        vertical-align: top;\n",
       "    }\n",
       "\n",
       "    .dataframe thead th {\n",
       "        text-align: right;\n",
       "    }\n",
       "</style>\n",
       "<table border=\"1\" class=\"dataframe\">\n",
       "  <thead>\n",
       "    <tr style=\"text-align: right;\">\n",
       "      <th></th>\n",
       "      <th>Pred -</th>\n",
       "      <th>Pred +</th>\n",
       "    </tr>\n",
       "  </thead>\n",
       "  <tbody>\n",
       "    <tr>\n",
       "      <th>Actual -</th>\n",
       "      <td>3704</td>\n",
       "      <td>445</td>\n",
       "    </tr>\n",
       "    <tr>\n",
       "      <th>Actual +</th>\n",
       "      <td>954</td>\n",
       "      <td>531</td>\n",
       "    </tr>\n",
       "  </tbody>\n",
       "</table>\n",
       "</div>"
      ],
      "text/plain": [
       "          Pred -  Pred +\n",
       "Actual -    3704     445\n",
       "Actual +     954     531"
      ]
     },
     "execution_count": 106,
     "metadata": {},
     "output_type": "execute_result"
    }
   ],
   "source": [
    "confusion_df = pd.DataFrame(confusion_matrix(y_train, y_pred),\n",
    "             columns=['Pred -', 'Pred +'], index=['Actual -', 'Actual +'])\n",
    "\n",
    "confusion_df"
   ]
  },
  {
   "cell_type": "markdown",
   "metadata": {},
   "source": [
    "##### Create a classificaiton report\n",
    "- Precision: the higher this number is, the more you were able to pinpoint all positives correctly. If this is a low score, you predicted a lot of positives where there were none. tp / (tp + fp)\n",
    "- Recall: if this score is high, you didn’t miss a lot of positives. But as it gets lower, you are not predicting the positives that are actually there. tp / (tp + fn)\n",
    "- f1-score: The balanced harmonic mean of Recall and Precision, giving both metrics equal weight. The higher the F-Measure is, the better.\n",
    "- Support: number of occurrences of each class in where y is true."
   ]
  },
  {
   "cell_type": "code",
   "execution_count": 107,
   "metadata": {},
   "outputs": [
    {
     "name": "stdout",
     "output_type": "stream",
     "text": [
      "              precision    recall  f1-score   support\n",
      "\n",
      "           0       0.80      0.89      0.84      4149\n",
      "           1       0.54      0.36      0.43      1485\n",
      "\n",
      "   micro avg       0.75      0.75      0.75      5634\n",
      "   macro avg       0.67      0.63      0.64      5634\n",
      "weighted avg       0.73      0.75      0.73      5634\n",
      "\n"
     ]
    }
   ],
   "source": [
    "print(classification_report(y_train, y_pred))"
   ]
  },
  {
   "cell_type": "markdown",
   "metadata": {},
   "source": [
    "#### Test Model\n",
    "##### Compute the accuracy of the model when run on the test data"
   ]
  },
  {
   "cell_type": "code",
   "execution_count": 108,
   "metadata": {},
   "outputs": [
    {
     "name": "stdout",
     "output_type": "stream",
     "text": [
      "Accuracy of random forest classifier on test set: 0.75\n"
     ]
    }
   ],
   "source": [
    "print('Accuracy of random forest classifier on test set: {:.2f}'\n",
    "     .format(rf.score(X_test, y_test)))"
   ]
  },
  {
   "cell_type": "markdown",
   "metadata": {},
   "source": [
    "### K-Nearest Neighbor"
   ]
  },
  {
   "cell_type": "markdown",
   "metadata": {},
   "source": [
    "#### Train Model\n",
    "##### Create KNN Object"
   ]
  },
  {
   "cell_type": "code",
   "execution_count": 109,
   "metadata": {},
   "outputs": [],
   "source": [
    "# weights = ['uniform', 'density']\n",
    "knn = KNeighborsClassifier(n_neighbors=5, weights='uniform')"
   ]
  },
  {
   "cell_type": "markdown",
   "metadata": {},
   "source": [
    "##### Fit the model to the training data"
   ]
  },
  {
   "cell_type": "code",
   "execution_count": 110,
   "metadata": {},
   "outputs": [
    {
     "data": {
      "text/plain": [
       "KNeighborsClassifier(algorithm='auto', leaf_size=30, metric='minkowski',\n",
       "           metric_params=None, n_jobs=None, n_neighbors=5, p=2,\n",
       "           weights='uniform')"
      ]
     },
     "execution_count": 110,
     "metadata": {},
     "output_type": "execute_result"
    }
   ],
   "source": [
    "knn.fit(X_train, y_train)"
   ]
  },
  {
   "cell_type": "markdown",
   "metadata": {},
   "source": [
    "##### Estimate whether or not a passenger would survive, using the training data"
   ]
  },
  {
   "cell_type": "code",
   "execution_count": 111,
   "metadata": {},
   "outputs": [],
   "source": [
    "y_pred = knn.predict(X_train)"
   ]
  },
  {
   "cell_type": "markdown",
   "metadata": {},
   "source": [
    "##### Estimate the probability of a passenger surviving, using the training data"
   ]
  },
  {
   "cell_type": "code",
   "execution_count": 112,
   "metadata": {},
   "outputs": [],
   "source": [
    "y_pred_proba = knn.predict_proba(X_train)"
   ]
  },
  {
   "cell_type": "markdown",
   "metadata": {},
   "source": [
    "#### Evaluate Model\n",
    "##### Compute the accuracy"
   ]
  },
  {
   "cell_type": "code",
   "execution_count": 113,
   "metadata": {},
   "outputs": [
    {
     "name": "stdout",
     "output_type": "stream",
     "text": [
      "Accuracy of KNN classifier on training set: 0.65\n"
     ]
    }
   ],
   "source": [
    "print('Accuracy of KNN classifier on training set: {:.2f}'\n",
    "     .format(knn.score(X_train, y_train)))"
   ]
  },
  {
   "cell_type": "markdown",
   "metadata": {},
   "source": [
    "##### Create a confusion matrix"
   ]
  },
  {
   "cell_type": "code",
   "execution_count": 114,
   "metadata": {},
   "outputs": [
    {
     "data": {
      "text/html": [
       "<div>\n",
       "<style scoped>\n",
       "    .dataframe tbody tr th:only-of-type {\n",
       "        vertical-align: middle;\n",
       "    }\n",
       "\n",
       "    .dataframe tbody tr th {\n",
       "        vertical-align: top;\n",
       "    }\n",
       "\n",
       "    .dataframe thead th {\n",
       "        text-align: right;\n",
       "    }\n",
       "</style>\n",
       "<table border=\"1\" class=\"dataframe\">\n",
       "  <thead>\n",
       "    <tr style=\"text-align: right;\">\n",
       "      <th></th>\n",
       "      <th>Pred -</th>\n",
       "      <th>Pred +</th>\n",
       "    </tr>\n",
       "  </thead>\n",
       "  <tbody>\n",
       "    <tr>\n",
       "      <th>Actual -</th>\n",
       "      <td>3307</td>\n",
       "      <td>842</td>\n",
       "    </tr>\n",
       "    <tr>\n",
       "      <th>Actual +</th>\n",
       "      <td>1137</td>\n",
       "      <td>348</td>\n",
       "    </tr>\n",
       "  </tbody>\n",
       "</table>\n",
       "</div>"
      ],
      "text/plain": [
       "          Pred -  Pred +\n",
       "Actual -    3307     842\n",
       "Actual +    1137     348"
      ]
     },
     "execution_count": 114,
     "metadata": {},
     "output_type": "execute_result"
    }
   ],
   "source": [
    "confusion_df = pd.DataFrame(confusion_matrix(y_train, y_pred),\n",
    "             columns=['Pred -', 'Pred +'], index=['Actual -', 'Actual +'])\n",
    "\n",
    "confusion_df"
   ]
  },
  {
   "cell_type": "markdown",
   "metadata": {},
   "source": [
    "##### Compute Precision, Recall, F1-score, and Support\n",
    "- Precision: the higher this number is, the more you were able to pinpoint all positives correctly. If this is a low score, you predicted a lot of positives where there were none. tp / (tp + fp)\n",
    "- Recall: if this score is high, you didn’t miss a lot of positives. But as it gets lower, you are not predicting the positives that are actually there. tp / (tp + fn)\n",
    "- f1-score: The balanced harmonic mean of Recall and Precision, giving both metrics equal weight. The higher the F-Measure is, the better.\n",
    "- Support: number of occurrences of each class in where y is true."
   ]
  },
  {
   "cell_type": "code",
   "execution_count": 115,
   "metadata": {},
   "outputs": [
    {
     "name": "stdout",
     "output_type": "stream",
     "text": [
      "              precision    recall  f1-score   support\n",
      "\n",
      "           0       0.74      0.80      0.77      4149\n",
      "           1       0.29      0.23      0.26      1485\n",
      "\n",
      "   micro avg       0.65      0.65      0.65      5634\n",
      "   macro avg       0.52      0.52      0.51      5634\n",
      "weighted avg       0.63      0.65      0.64      5634\n",
      "\n"
     ]
    }
   ],
   "source": [
    "print(classification_report(y_train, y_pred))"
   ]
  },
  {
   "cell_type": "markdown",
   "metadata": {},
   "source": [
    "#### Test Model\n",
    "##### Compute the accuracy of the model when run on the test data"
   ]
  },
  {
   "cell_type": "code",
   "execution_count": 116,
   "metadata": {},
   "outputs": [
    {
     "name": "stdout",
     "output_type": "stream",
     "text": [
      "Accuracy of KNN classifier on test set: 0.65\n"
     ]
    }
   ],
   "source": [
    "print('Accuracy of KNN classifier on test set: {:.2f}'\n",
    "     .format(knn.score(X_test, y_test)))"
   ]
  },
  {
   "cell_type": "markdown",
   "metadata": {},
   "source": [
    "#### Visualize Model"
   ]
  },
  {
   "cell_type": "code",
   "execution_count": 117,
   "metadata": {},
   "outputs": [
    {
     "data": {
      "text/plain": [
       "([<matplotlib.axis.XTick at 0x1c18bffba8>,\n",
       "  <matplotlib.axis.XTick at 0x1c18bff4e0>,\n",
       "  <matplotlib.axis.XTick at 0x1c18bff390>,\n",
       "  <matplotlib.axis.XTick at 0x1c18c1e438>,\n",
       "  <matplotlib.axis.XTick at 0x1c18c1e8d0>],\n",
       " <a list of 5 Text xticklabel objects>)"
      ]
     },
     "execution_count": 117,
     "metadata": {},
     "output_type": "execute_result"
    },
    {
     "data": {
      "image/png": "[encoded data removed]",
      "text/plain": [
       "<Figure size 432x288 with 1 Axes>"
      ]
     },
     "metadata": {
      "needs_background": "light"
     },
     "output_type": "display_data"
    }
   ],
   "source": [
    "import matplotlib.pyplot as plt\n",
    "k_range = range(1, 20)\n",
    "scores = []\n",
    "for k in k_range:\n",
    "    knn = KNeighborsClassifier(n_neighbors = k)\n",
    "    knn.fit(X_train, y_train)\n",
    "    scores.append(knn.score(X_test, y_test))\n",
    "plt.figure()\n",
    "plt.xlabel('k')\n",
    "plt.ylabel('accuracy')\n",
    "plt.scatter(k_range, scores)\n",
    "plt.xticks([0,5,10,15,20])"
   ]
  },
  {
   "cell_type": "code",
   "execution_count": null,
   "metadata": {},
   "outputs": [],
   "source": []
  }
 ],
 "metadata": {
  "kernelspec": {
   "display_name": "Python 3",
   "language": "python",
   "name": "python3"
  },
  "language_info": {
   "codemirror_mode": {
    "name": "ipython",
    "version": 3
   },
   "file_extension": ".py",
   "mimetype": "text/x-python",
   "name": "python",
   "nbconvert_exporter": "python",
   "pygments_lexer": "ipython3",
   "version": "3.7.1"
  }
 },
 "nbformat": 4,
 "nbformat_minor": 2
}
