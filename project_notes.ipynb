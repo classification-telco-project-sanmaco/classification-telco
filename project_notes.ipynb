{
 "cells": [
  {
   "cell_type": "markdown",
   "metadata": {},
   "source": [
    "# Morning Notes\n",
    "- Matt\n",
    "    - data dictionary\n",
    "    - hypothesis\n",
    "        - the more services the customer has the less likely they are to churn because they have too much stuff etc.\n",
    "        - if they are on a family plan they are less likely to train\n",
    "        - if they have \"security servies\" they are less likely to churn\n",
    "    - Feature Engineering\n",
    "        - Family Plan\n",
    "            - Dependents\n",
    "            - partners\n",
    "            - multiple lines\n",
    "\n",
    "- Sandy\n",
    "    - consider fiber as a driver for churn\n",
    "    - Feature Engineering\n",
    "        - total services\n",
    "            - phone\n",
    "            - internet\n",
    "            - fiber\n",
    "            \n",
    "- Cody\n",
    "    - Label Encoding the \"object\" fields\n",
    "    - Feature Engineering\n",
    "        - security services\n",
    "            - online_security\n",
    "            - device_protection\n",
    "            - online_backup"
   ]
  },
  {
   "cell_type": "code",
   "execution_count": null,
   "metadata": {},
   "outputs": [],
   "source": []
  }
 ],
 "metadata": {
  "kernelspec": {
   "display_name": "Python 3",
   "language": "python",
   "name": "python3"
  },
  "language_info": {
   "codemirror_mode": {
    "name": "ipython",
    "version": 3
   },
   "file_extension": ".py",
   "mimetype": "text/x-python",
   "name": "python",
   "nbconvert_exporter": "python",
   "pygments_lexer": "ipython3",
   "version": "3.7.1"
  }
 },
 "nbformat": 4,
 "nbformat_minor": 2
}
